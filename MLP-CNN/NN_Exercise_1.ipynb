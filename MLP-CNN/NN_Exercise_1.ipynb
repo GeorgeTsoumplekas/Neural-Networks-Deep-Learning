{
 "cells": [
  {
   "cell_type": "markdown",
   "metadata": {
    "id": "LhJszyzyfV17"
   },
   "source": [
    "# **Neural Networks - Deep Learning**\n",
    "## Exercise 1 - Multiclass Classification using MLP Models\n",
    "\n",
    "### Georgios Tsoumplekas, AEM: 9359"
   ]
  },
  {
   "cell_type": "markdown",
   "metadata": {
    "id": "J-2jPQ9sw966"
   },
   "source": [
    "# **Part 0:** Laying the ground"
   ]
  },
  {
   "cell_type": "markdown",
   "metadata": {
    "id": "yA2DeJZakIwn"
   },
   "source": [
    "## **Imports**"
   ]
  },
  {
   "cell_type": "code",
   "execution_count": 4,
   "metadata": {
    "id": "zCFBaIKjwaxL"
   },
   "outputs": [],
   "source": [
    "import tensorflow as tf\n",
    "\n",
    "from tensorflow.keras.datasets import mnist\n",
    "from keras.utils import np_utils\n",
    "from tensorflow.keras import models,layers\n",
    "from tensorflow.keras import regularizers\n",
    "from tensorflow.keras import initializers\n",
    "\n",
    "from sklearn.feature_selection import SelectPercentile, chi2\n",
    "from sklearn.decomposition import PCA\n",
    "from sklearn.neighbors import KNeighborsClassifier, NearestCentroid\n",
    "from sklearn.metrics import confusion_matrix, ConfusionMatrixDisplay, classification_report\n",
    "\n",
    "import numpy as np\n",
    "import time\n",
    "\n",
    "from matplotlib import pyplot as plt"
   ]
  },
  {
   "cell_type": "code",
   "execution_count": 17,
   "metadata": {
    "colab": {
     "base_uri": "https://localhost:8080/"
    },
    "id": "b4By0c7feXH9",
    "outputId": "2daeaee7-0ddc-4ac7-d582-4917a7aba6b1"
   },
   "outputs": [
    {
     "name": "stdout",
     "output_type": "stream",
     "text": [
      "\u001b[?25l\r",
      "\u001b[K     |███▍                            | 10 kB 23.1 MB/s eta 0:00:01\r",
      "\u001b[K     |██████▊                         | 20 kB 25.2 MB/s eta 0:00:01\r",
      "\u001b[K     |██████████                      | 30 kB 29.8 MB/s eta 0:00:01\r",
      "\u001b[K     |█████████████▍                  | 40 kB 25.1 MB/s eta 0:00:01\r",
      "\u001b[K     |████████████████▊               | 51 kB 9.5 MB/s eta 0:00:01\r",
      "\u001b[K     |████████████████████            | 61 kB 9.6 MB/s eta 0:00:01\r",
      "\u001b[K     |███████████████████████▍        | 71 kB 8.2 MB/s eta 0:00:01\r",
      "\u001b[K     |██████████████████████████▊     | 81 kB 9.0 MB/s eta 0:00:01\r",
      "\u001b[K     |██████████████████████████████  | 92 kB 9.5 MB/s eta 0:00:01\r",
      "\u001b[K     |████████████████████████████████| 98 kB 4.2 MB/s \n",
      "\u001b[?25h"
     ]
    }
   ],
   "source": [
    "!pip install -q -U keras-tuner\n",
    "\n",
    "import keras_tuner as kt"
   ]
  },
  {
   "cell_type": "markdown",
   "metadata": {
    "id": "HW2ToIsqkmj7"
   },
   "source": [
    "## **Testing that GPU is working**\n",
    "\n",
    "First, you'll need to enable GPUs for the notebook:\n",
    "\n",
    "- Navigate to Edit→Notebook Settings\n",
    "- Select GPU from the Hardware Accelerator drop-down"
   ]
  },
  {
   "cell_type": "code",
   "execution_count": null,
   "metadata": {
    "id": "Bx5ahUu0ktDd"
   },
   "outputs": [],
   "source": [
    "device_name = tf.test.gpu_device_name()\n",
    "if device_name != '/device:GPU:0':\n",
    "  raise SystemError('GPU device not found')\n",
    "print('Found GPU at: {}'.format(device_name))"
   ]
  },
  {
   "cell_type": "markdown",
   "metadata": {
    "id": "eqmFRSxfkPdG"
   },
   "source": [
    "## **Preprocesing of the MNIST dataset**"
   ]
  },
  {
   "cell_type": "code",
   "execution_count": 7,
   "metadata": {
    "id": "m2CSiR6SwxA2"
   },
   "outputs": [],
   "source": [
    "#MNIST dataset parameters\n",
    "num_classes = 10 #total classes: digits 0-9\n",
    "num_features = 784 #data features (28x28 pixels image)"
   ]
  },
  {
   "cell_type": "code",
   "execution_count": 14,
   "metadata": {
    "colab": {
     "base_uri": "https://localhost:8080/"
    },
    "id": "vqR4RCWkw-d-",
    "outputId": "32c8ac63-2f53-4495-ee67-bd48f6ca234b"
   },
   "outputs": [
    {
     "name": "stdout",
     "output_type": "stream",
     "text": [
      "x_train shape (60000, 28, 28)\n",
      "y_train shape (60000,)\n",
      "x_test shape (10000, 28, 28)\n",
      "y_test shape (10000,)\n"
     ]
    }
   ],
   "source": [
    "#Load data\n",
    "(x_train, y_train), (x_test, y_test) = mnist.load_data()\n",
    "\n",
    "print(\"x_train shape\", x_train.shape) \n",
    "print(\"y_train shape\", y_train.shape)\n",
    "print(\"x_test shape\", x_test.shape)\n",
    "print(\"y_test shape\", y_test.shape)\n",
    "\n",
    "#Convert to float32\n",
    "x_train, x_test = np.array(x_train, dtype=np.float32), np.array(x_test, dtype=np.float32)\n",
    "\n",
    "#Flatten image to 1-D vector\n",
    "x_train, x_test = x_train.reshape([-1, num_features]), x_test.reshape([-1, num_features])\n",
    "\n",
    "#Normalize to [0,1]\n",
    "x_train, x_test = x_train/255.0, x_test/255.0\n",
    "\n",
    "#Labels without the one-hot encoding (needed later)\n",
    "y_train_raw = y_train\n",
    "y_test_raw = y_test\n",
    "\n",
    "#One-hot encoding (to increase performance)\n",
    "y_train, y_test = np_utils.to_categorical(y_train, num_classes), np_utils.to_categorical(y_test, num_classes)"
   ]
  },
  {
   "cell_type": "markdown",
   "metadata": {
    "id": "mYXnkDN9xIGy"
   },
   "source": [
    "# **Part 1:** Basic models and techniques"
   ]
  },
  {
   "cell_type": "markdown",
   "metadata": {
    "id": "6rFgN6X4HE7_"
   },
   "source": [
    "## **The base model**\n",
    "\n",
    "First of all, we will create and train a simple MLP model to fit our dataset. This model will be used as a base model with which all other models we will create are going to be compared to.\n",
    "\n",
    "More specifically, this model will have one hidden layer with 256 neurons and an output layer of 10 neurons (one for each label). The default settings of Keras fit function are used here for simplicity. The model is trained for 10 epochs using minibatches of 256 samples."
   ]
  },
  {
   "cell_type": "code",
   "execution_count": null,
   "metadata": {
    "colab": {
     "base_uri": "https://localhost:8080/"
    },
    "id": "S3BdOoewIGCD",
    "outputId": "38b0aaaa-49fb-4b91-eda5-c22823ef5496"
   },
   "outputs": [
    {
     "name": "stdout",
     "output_type": "stream",
     "text": [
      "Model: \"sequential_6\"\n",
      "_________________________________________________________________\n",
      " Layer (type)                Output Shape              Param #   \n",
      "=================================================================\n",
      " dense_12 (Dense)            (None, 256)               200960    \n",
      "                                                                 \n",
      " dense_13 (Dense)            (None, 10)                2570      \n",
      "                                                                 \n",
      "=================================================================\n",
      "Total params: 203,530\n",
      "Trainable params: 203,530\n",
      "Non-trainable params: 0\n",
      "_________________________________________________________________\n",
      "Epoch 1/10\n",
      "235/235 [==============================] - 2s 4ms/step - loss: 0.3455 - accuracy: 0.9042\n",
      "Epoch 2/10\n",
      "235/235 [==============================] - 1s 4ms/step - loss: 0.1553 - accuracy: 0.9560\n",
      "Epoch 3/10\n",
      "235/235 [==============================] - 1s 4ms/step - loss: 0.1087 - accuracy: 0.9692\n",
      "Epoch 4/10\n",
      "235/235 [==============================] - 1s 4ms/step - loss: 0.0826 - accuracy: 0.9758\n",
      "Epoch 5/10\n",
      "235/235 [==============================] - 1s 4ms/step - loss: 0.0649 - accuracy: 0.9813\n",
      "Epoch 6/10\n",
      "235/235 [==============================] - 1s 4ms/step - loss: 0.0523 - accuracy: 0.9847\n",
      "Epoch 7/10\n",
      "235/235 [==============================] - 1s 4ms/step - loss: 0.0434 - accuracy: 0.9871\n",
      "Epoch 8/10\n",
      "235/235 [==============================] - 1s 4ms/step - loss: 0.0361 - accuracy: 0.9898\n",
      "Epoch 9/10\n",
      "235/235 [==============================] - 1s 4ms/step - loss: 0.0298 - accuracy: 0.9918\n",
      "Epoch 10/10\n",
      "235/235 [==============================] - 1s 4ms/step - loss: 0.0248 - accuracy: 0.9935\n",
      "Training time: 10.896053314208984s\n",
      "\n",
      "313/313 [==============================] - 1s 3ms/step - loss: 0.0647 - accuracy: 0.9788\n",
      "Test accuracy: 0.9787999987602234\n"
     ]
    }
   ],
   "source": [
    "base_model = models.Sequential()\n",
    "\n",
    "base_model.add(layers.Dense(256, input_shape=(num_features,), activation='relu'))\n",
    "base_model.add(layers.Dense(10))\n",
    "\n",
    "base_model.summary()\n",
    "\n",
    "base_model.compile(loss=tf.keras.losses.CategoricalCrossentropy(from_logits=True),metrics=['accuracy'])\n",
    "\n",
    "start = time.time()\n",
    "\n",
    "#Train model\n",
    "base_model.fit(x_train, y_train, epochs=10, batch_size=256, verbose=1)\n",
    "\n",
    "end = time.time()\n",
    "print(\"Training time: {}s\\n\".format(end-start))\n",
    "\n",
    "score = base_model.evaluate(x_test, y_test)\n",
    "print('Test accuracy:', score[1])"
   ]
  },
  {
   "cell_type": "markdown",
   "metadata": {
    "id": "XGApkJV4IgP5"
   },
   "source": [
    "As we can see, the model achieves a pretty good accuracy on the test set that is a bit smaller than the one on the training set (meaning that we may have a little bit of overfitting).\n",
    "\n",
    "The training time is pretty decent, too, however a simple step to achieve even better performance (speed-wise) would be to use techniques such as feature selection or feature extraction to speed up the training process.\n"
   ]
  },
  {
   "cell_type": "markdown",
   "metadata": {
    "id": "TSCbtH7Vl3Wa"
   },
   "source": [
    "## **Feature Selection**\n",
    "\n",
    "\n",
    "\n"
   ]
  },
  {
   "cell_type": "markdown",
   "metadata": {
    "id": "Adu2PBt2J1Ys"
   },
   "source": [
    "Feauture selection is usually a preprocessing step of the whole procedure with which we select only some of the feautures we have. The reason to do this is because sometimes some features are strongly correlated with one another and having both of them provides no additional useful information for the model to learn.\n",
    "\n",
    " Using a criterion (such as information gain, chi square test or other statistical criteria) we can eliminate the redundant features and keep only the important ones. In this case, we use the chi square test and keep only a percentage of the features with the best scores."
   ]
  },
  {
   "cell_type": "markdown",
   "metadata": {
    "id": "IEBvt3_pLhDv"
   },
   "source": [
    "### **Case 1:** 60% of the features used to train our model\n",
    "\n"
   ]
  },
  {
   "cell_type": "code",
   "execution_count": null,
   "metadata": {
    "colab": {
     "base_uri": "https://localhost:8080/"
    },
    "id": "S8jpP-8eJkyF",
    "outputId": "fb99117f-994b-4d9a-90a6-79d68c480098"
   },
   "outputs": [
    {
     "name": "stdout",
     "output_type": "stream",
     "text": [
      "Model: \"sequential_7\"\n",
      "_________________________________________________________________\n",
      " Layer (type)                Output Shape              Param #   \n",
      "=================================================================\n",
      " dense_14 (Dense)            (None, 256)               120576    \n",
      "                                                                 \n",
      " dense_15 (Dense)            (None, 10)                2570      \n",
      "                                                                 \n",
      "=================================================================\n",
      "Total params: 123,146\n",
      "Trainable params: 123,146\n",
      "Non-trainable params: 0\n",
      "_________________________________________________________________\n",
      "Training time: 10.822318315505981s\n",
      "\n",
      "313/313 [==============================] - 1s 3ms/step - loss: 0.0842 - accuracy: 0.9743\n",
      "Test accuracy: 0.9743000268936157\n"
     ]
    }
   ],
   "source": [
    "features_perc = SelectPercentile(chi2,percentile=60).fit(x_train, y_train)\n",
    "x_train_feat_sel = features_perc.transform(x_train)\n",
    "x_test_feat_sel = features_perc.transform(x_test)\n",
    "\n",
    "perc_model_1 = models.Sequential()\n",
    "\n",
    "perc_model_1.add(layers.Dense(256, input_shape=(x_train_feat_sel[1].shape), activation='relu'))\n",
    "perc_model_1.add(layers.Dense(10))\n",
    "\n",
    "perc_model_1.summary()\n",
    "\n",
    "perc_model_1.compile(loss=tf.keras.losses.CategoricalCrossentropy(from_logits=True),metrics=['accuracy'])\n",
    "\n",
    "start = time.time()\n",
    "\n",
    "#Train model\n",
    "perc_model_1.fit(x_train_feat_sel, y_train, epochs=10, batch_size=256, verbose=0)\n",
    "\n",
    "end = time.time()\n",
    "print(\"Training time: {}s\\n\".format(end-start))\n",
    "\n",
    "score = perc_model_1.evaluate(x_test_feat_sel, y_test)\n",
    "print('Test accuracy:', score[1])"
   ]
  },
  {
   "cell_type": "markdown",
   "metadata": {
    "id": "KtctqtazLGh1"
   },
   "source": [
    "As we can see, using only 60% of the initial features we can achieve a slightly better performance while also reducing the size of our model (meaning faster training)."
   ]
  },
  {
   "cell_type": "markdown",
   "metadata": {
    "id": "K1OfRcfoLu7m"
   },
   "source": [
    "### **Case 2:** 80% of the features used to train our model"
   ]
  },
  {
   "cell_type": "code",
   "execution_count": null,
   "metadata": {
    "colab": {
     "base_uri": "https://localhost:8080/"
    },
    "id": "kO1HgE0BLQz9",
    "outputId": "6fd9d574-7e05-4f3d-c242-ef73f5d4ec8d"
   },
   "outputs": [
    {
     "name": "stdout",
     "output_type": "stream",
     "text": [
      "Model: \"sequential_8\"\n",
      "_________________________________________________________________\n",
      " Layer (type)                Output Shape              Param #   \n",
      "=================================================================\n",
      " dense_16 (Dense)            (None, 256)               160768    \n",
      "                                                                 \n",
      " dense_17 (Dense)            (None, 10)                2570      \n",
      "                                                                 \n",
      "=================================================================\n",
      "Total params: 163,338\n",
      "Trainable params: 163,338\n",
      "Non-trainable params: 0\n",
      "_________________________________________________________________\n",
      "Training time: 8.211104154586792s\n",
      "\n",
      "313/313 [==============================] - 1s 3ms/step - loss: 0.0673 - accuracy: 0.9793\n",
      "Test accuracy: 0.9793000221252441\n"
     ]
    }
   ],
   "source": [
    "features_perc = SelectPercentile(chi2,percentile=80).fit(x_train, y_train)\n",
    "x_train_feat_sel = features_perc.transform(x_train)\n",
    "x_test_feat_sel = features_perc.transform(x_test)\n",
    "\n",
    "perc_model_2 = models.Sequential()\n",
    "\n",
    "perc_model_2.add(layers.Dense(256, input_shape=(x_train_feat_sel[1].shape), activation='relu'))\n",
    "perc_model_2.add(layers.Dense(10))\n",
    "\n",
    "perc_model_2.summary()\n",
    "\n",
    "perc_model_2.compile(loss=tf.keras.losses.CategoricalCrossentropy(from_logits=True),metrics=['accuracy'])\n",
    "\n",
    "start = time.time()\n",
    "\n",
    "#Train model\n",
    "perc_model_2.fit(x_train_feat_sel, y_train, epochs=10, batch_size=256, verbose=0)\n",
    "\n",
    "end = time.time()\n",
    "print(\"Training time: {}s\\n\".format(end-start))\n",
    "\n",
    "score = perc_model_2.evaluate(x_test_feat_sel, y_test)\n",
    "print('Test accuracy:', score[1])"
   ]
  },
  {
   "cell_type": "markdown",
   "metadata": {
    "id": "2Eq0h4gyMrzh"
   },
   "source": [
    "A we can see here, the performance of this model on the test set is slightly worse than the one where we kept 60% of the features. That might be happening because now we still have some redundant features which cause our model to overfit in the training set.\n",
    "\n",
    "However, we can see that in both cases despite the fact that we used only a subset of the total features we managed to achieve better performance (both complexity and accuracy-wise) than the base model.\n",
    "\n",
    "Now let's try a more advanced approach using feature extraction."
   ]
  },
  {
   "cell_type": "markdown",
   "metadata": {
    "id": "qb9bsREWNiL7"
   },
   "source": [
    "## **Feature extraction**\n",
    "\n",
    "In feature extraction our goal is to create some new features which occur from the initial set of features in such a way that we encapsulate most of the information held by the initial features by only a small number of the newly created ones. A common method to achieve this is using PCA."
   ]
  },
  {
   "cell_type": "code",
   "execution_count": 15,
   "metadata": {
    "colab": {
     "base_uri": "https://localhost:8080/"
    },
    "id": "tMditfIvOKHJ",
    "outputId": "260f061d-7ded-4dfd-bcb0-dcd294ee3a1f"
   },
   "outputs": [
    {
     "name": "stdout",
     "output_type": "stream",
     "text": [
      "We extract 87 feautures from the original 784.\n",
      "Model: \"sequential_1\"\n",
      "_________________________________________________________________\n",
      " Layer (type)                Output Shape              Param #   \n",
      "=================================================================\n",
      " dense_2 (Dense)             (None, 256)               22528     \n",
      "                                                                 \n",
      " dense_3 (Dense)             (None, 10)                2570      \n",
      "                                                                 \n",
      "=================================================================\n",
      "Total params: 25,098\n",
      "Trainable params: 25,098\n",
      "Non-trainable params: 0\n",
      "_________________________________________________________________\n",
      "Training time: 6.882077217102051s\n",
      "\n",
      "313/313 [==============================] - 1s 1ms/step - loss: 0.0605 - accuracy: 0.9824\n",
      "Test accuracy: 0.9824000000953674\n"
     ]
    }
   ],
   "source": [
    "pca = PCA(n_components=0.9).fit(x_train)\n",
    "x_train_pca = pca.transform(x_train)\n",
    "x_test_pca = pca.transform(x_test)\n",
    "\n",
    "print(\"We extract {} feautures from the original {}.\".format(x_train_pca.shape[1],x_train.shape[1]))\n",
    "\n",
    "pca_model = models.Sequential()\n",
    "\n",
    "pca_model.add(layers.Dense(256, input_shape=(x_train_pca[1].shape), activation='relu'))\n",
    "pca_model.add(layers.Dense(10))\n",
    "\n",
    "pca_model.summary()\n",
    "\n",
    "pca_model.compile(loss=tf.keras.losses.CategoricalCrossentropy(from_logits=True),metrics=['accuracy'])\n",
    "\n",
    "start = time.time()\n",
    "\n",
    "#Train model\n",
    "pca_model.fit(x_train_pca, y_train, epochs=10, batch_size=256, verbose=0)\n",
    "\n",
    "end = time.time()\n",
    "print(\"Training time: {}s\\n\".format(end-start))\n",
    "\n",
    "score = pca_model.evaluate(x_test_pca, y_test)\n",
    "print('Test accuracy:', score[1])"
   ]
  },
  {
   "cell_type": "markdown",
   "metadata": {
    "id": "JGTwEg0oOV4V"
   },
   "source": [
    "Our goal was that the new components (features) achieve 90% explained variance of the initial ones. We see that by creating only 87 of them we can achieve this number (roughly 1/10th of the initial 784 features). \n",
    "\n",
    "As a result what we get is a model that is far more simple than the base model and manages to achieve higher accuracy on the test set.\n",
    "\n",
    "It is clear that necessary preprocessing ofthe data usning techniques as the ones mentioned above can help us create models that are not only simpler but also better at performance."
   ]
  },
  {
   "cell_type": "markdown",
   "metadata": {
    "id": "XI_4U_qhPUJu"
   },
   "source": [
    "### kNN and Nearest Centroid models\n",
    "\n",
    "For the sake of comparison, we will fit some simple models to our dataset using the kNN and the Nearest Centroid algorithms."
   ]
  },
  {
   "cell_type": "markdown",
   "metadata": {
    "id": "EOrSwFMqPxEh"
   },
   "source": [
    "### **Case 1:** Nearest Neighbor with 1 neighbor "
   ]
  },
  {
   "cell_type": "code",
   "execution_count": null,
   "metadata": {
    "colab": {
     "base_uri": "https://localhost:8080/"
    },
    "id": "vMSEnLKYSgLX",
    "outputId": "abaf2574-356d-453d-83f8-04339c15ed6c"
   },
   "outputs": [
    {
     "name": "stdout",
     "output_type": "stream",
     "text": [
      "Training time: 0.04793596267700195s\n",
      "\n",
      "Testing time: 15.30520749092102s\n",
      "\n",
      "For the 1-NN classifier with Euclidean distance metric used accuracy is: 0.9734\n"
     ]
    }
   ],
   "source": [
    "knn_1 = KNeighborsClassifier(n_neighbors=1, p=2)\n",
    "\n",
    "start = time.time()\n",
    "\n",
    "knn_1.fit(x_train_pca, y_train)\n",
    "\n",
    "end = time.time()\n",
    "print(\"Training time: {}s\\n\".format(end-start))\n",
    "\n",
    "start = time.time()\n",
    "\n",
    "score = knn_1.score(x_test_pca, y_test)\n",
    "\n",
    "end = time.time()\n",
    "print(\"Testing time: {}s\\n\".format(end-start))\n",
    "\n",
    "print(\"For the 1-NN classifier with Euclidean distance metric used accuracy is: {}\".format(score))"
   ]
  },
  {
   "cell_type": "markdown",
   "metadata": {
    "id": "ioxJtNz7SoOt"
   },
   "source": [
    "We can see that the kNN algorithm has a small training time but a rather big evaluation-on-the-test-set time without achieving the performance of the previous MLP models."
   ]
  },
  {
   "cell_type": "markdown",
   "metadata": {
    "id": "_38ZlVtLS-eG"
   },
   "source": [
    "### **Case 2:** Nearest Neighbor with 3 neighbors "
   ]
  },
  {
   "cell_type": "code",
   "execution_count": null,
   "metadata": {
    "colab": {
     "base_uri": "https://localhost:8080/"
    },
    "id": "RtL5KmYPS8BW",
    "outputId": "f6369b97-7fd8-4c30-b5d3-900cbf54f47e"
   },
   "outputs": [
    {
     "name": "stdout",
     "output_type": "stream",
     "text": [
      "Training time: 0.0455474853515625s\n",
      "\n",
      "Testing time: 18.74470043182373s\n",
      "\n",
      "For the 3-NN classifier with Euclidean distance metric used accuracy is: 0.9723\n"
     ]
    }
   ],
   "source": [
    "knn_3 = KNeighborsClassifier(n_neighbors=3, p=2)\n",
    "\n",
    "start = time.time()\n",
    "\n",
    "knn_3.fit(x_train_pca, y_train)\n",
    "\n",
    "end = time.time()\n",
    "print(\"Training time: {}s\\n\".format(end-start))\n",
    "\n",
    "start = time.time()\n",
    "\n",
    "score = knn_3.score(x_test_pca, y_test)\n",
    "\n",
    "end = time.time()\n",
    "print(\"Testing time: {}s\\n\".format(end-start))\n",
    "\n",
    "print(\"For the 3-NN classifier with Euclidean distance metric used accuracy is: {}\".format(score))"
   ]
  },
  {
   "cell_type": "markdown",
   "metadata": {
    "id": "XuemiqfsTffV"
   },
   "source": [
    "As we can see, adding more neighbors really doesn't help us since the performance is still worse than that of the MLP models' and the execution time is bigger."
   ]
  },
  {
   "cell_type": "markdown",
   "metadata": {
    "id": "fWGZz5TcT0We"
   },
   "source": [
    "### **Case 3:** Nearest Class Centroid with L2 distance metric used"
   ]
  },
  {
   "cell_type": "code",
   "execution_count": null,
   "metadata": {
    "colab": {
     "base_uri": "https://localhost:8080/"
    },
    "id": "IVK1FETLT98u",
    "outputId": "35ff16cb-330b-40d8-8167-db8020fb4679"
   },
   "outputs": [
    {
     "name": "stdout",
     "output_type": "stream",
     "text": [
      "Training time: 0.02553534507751465s\n",
      "\n",
      "Testing time: 0.009743213653564453s\n",
      "\n",
      "For the Nearest Centroid classifier with L2 distance metric used accuracy is: 0.8196\n"
     ]
    }
   ],
   "source": [
    "ncc = NearestCentroid(metric='euclidean')\n",
    "\n",
    "start = time.time()\n",
    "\n",
    "ncc.fit(x_train_pca, y_train_raw)\n",
    "\n",
    "end = time.time()\n",
    "print(\"Training time: {}s\\n\".format(end-start))\n",
    "\n",
    "start = time.time()\n",
    "\n",
    "score = ncc.score(x_test_pca, y_test_raw)\n",
    "\n",
    "end = time.time()\n",
    "print(\"Testing time: {}s\\n\".format(end-start))\n",
    "\n",
    "print(\"For the Nearest Centroid classifier with L2 distance metric used accuracy is: {}\".format(score))"
   ]
  },
  {
   "cell_type": "markdown",
   "metadata": {
    "id": "87DE1jpoUEW2"
   },
   "source": [
    "The benefit of this algorithm is its really fast training and evaluation time. However, its performance is clearly worse.\n",
    "\n",
    "Now, some argue that using the Euclidean distance in high dimensionality spaces leads to worse performance and that in general using L-p norms with small p values leads to better results. Let's try the same algorithm using the Manhattan distance (L1 norm, p=1).     "
   ]
  },
  {
   "cell_type": "markdown",
   "metadata": {
    "id": "9HJGy_6HUtGf"
   },
   "source": [
    "### **Case 4:** Nearest Class Centroid with L1 distance metric used"
   ]
  },
  {
   "cell_type": "code",
   "execution_count": null,
   "metadata": {
    "colab": {
     "base_uri": "https://localhost:8080/"
    },
    "id": "N7QTMpxXUyhQ",
    "outputId": "0ec11c08-faee-4a5a-b7ba-50db48adc4a4"
   },
   "outputs": [
    {
     "name": "stdout",
     "output_type": "stream",
     "text": [
      "Training time: 0.13043880462646484s\n",
      "\n",
      "Testing time: 0.008463382720947266s\n",
      "\n",
      "For the Nearest Centroid classifier with L2 distance metric used accuracy is: 0.8042\n"
     ]
    }
   ],
   "source": [
    "ncc = NearestCentroid(metric='manhattan')\n",
    "\n",
    "start = time.time()\n",
    "\n",
    "ncc.fit(x_train_pca, y_train_raw)\n",
    "\n",
    "end = time.time()\n",
    "print(\"Training time: {}s\\n\".format(end-start))\n",
    "\n",
    "start = time.time()\n",
    "\n",
    "score = ncc.score(x_test_pca, y_test_raw)\n",
    "\n",
    "end = time.time()\n",
    "print(\"Testing time: {}s\\n\".format(end-start))\n",
    "\n",
    "print(\"For the Nearest Centroid classifier with L2 distance metric used accuracy is: {}\".format(score))"
   ]
  },
  {
   "cell_type": "markdown",
   "metadata": {
    "id": "7GyYinOQU4BR"
   },
   "source": [
    "As we can see, the performance is slightly worse than before meaning that in our case this assumption does not hold.\n",
    "\n",
    "Let's move on to some more advanced MLP models. For all models used from now on, we are using the transformed data that occured from applying the PCA algorithm."
   ]
  },
  {
   "cell_type": "markdown",
   "metadata": {
    "id": "2mgG_sqsQtmg"
   },
   "source": [
    "## **Model 1:** Trying different learning rates and algorithms"
   ]
  },
  {
   "cell_type": "markdown",
   "metadata": {
    "id": "QziPXasjWPQE"
   },
   "source": [
    "### **Model 1.1**\n",
    "2 hidden layers with 512 neurons for the first one and 256 for the second one. Training is done for 50 epochs, Adam optimizer used with learning rate of 0.001."
   ]
  },
  {
   "cell_type": "code",
   "execution_count": null,
   "metadata": {
    "colab": {
     "base_uri": "https://localhost:8080/",
     "height": 1000
    },
    "id": "Cs02X1jHUyjD",
    "outputId": "9b221014-9a29-4557-af58-a5158959015a"
   },
   "outputs": [
    {
     "name": "stdout",
     "output_type": "stream",
     "text": [
      "Model: \"sequential_11\"\n",
      "_________________________________________________________________\n",
      " Layer (type)                Output Shape              Param #   \n",
      "=================================================================\n",
      " dense_22 (Dense)            (None, 512)               45056     \n",
      "                                                                 \n",
      " dense_23 (Dense)            (None, 256)               131328    \n",
      "                                                                 \n",
      " dense_24 (Dense)            (None, 10)                2570      \n",
      "                                                                 \n",
      "=================================================================\n",
      "Total params: 178,954\n",
      "Trainable params: 178,954\n",
      "Non-trainable params: 0\n",
      "_________________________________________________________________\n",
      "Epoch 1/50\n",
      "188/188 [==============================] - 1s 5ms/step - loss: 0.3284 - accuracy: 0.9088 - val_loss: 0.1362 - val_accuracy: 0.9606\n",
      "Epoch 2/50\n",
      "188/188 [==============================] - 1s 5ms/step - loss: 0.1026 - accuracy: 0.9706 - val_loss: 0.0975 - val_accuracy: 0.9719\n",
      "Epoch 3/50\n",
      "188/188 [==============================] - 1s 5ms/step - loss: 0.0622 - accuracy: 0.9823 - val_loss: 0.0817 - val_accuracy: 0.9760\n",
      "Epoch 4/50\n",
      "188/188 [==============================] - 1s 5ms/step - loss: 0.0413 - accuracy: 0.9884 - val_loss: 0.0765 - val_accuracy: 0.9767\n",
      "Epoch 5/50\n",
      "188/188 [==============================] - 1s 5ms/step - loss: 0.0283 - accuracy: 0.9923 - val_loss: 0.0716 - val_accuracy: 0.9795\n",
      "Epoch 6/50\n",
      "188/188 [==============================] - 1s 5ms/step - loss: 0.0179 - accuracy: 0.9953 - val_loss: 0.0743 - val_accuracy: 0.9789\n",
      "Epoch 7/50\n",
      "188/188 [==============================] - 1s 5ms/step - loss: 0.0128 - accuracy: 0.9969 - val_loss: 0.0744 - val_accuracy: 0.9802\n",
      "Epoch 8/50\n",
      "188/188 [==============================] - 1s 5ms/step - loss: 0.0083 - accuracy: 0.9983 - val_loss: 0.0783 - val_accuracy: 0.9791\n",
      "Epoch 9/50\n",
      "188/188 [==============================] - 1s 5ms/step - loss: 0.0049 - accuracy: 0.9993 - val_loss: 0.0750 - val_accuracy: 0.9804\n",
      "Epoch 10/50\n",
      "188/188 [==============================] - 1s 5ms/step - loss: 0.0044 - accuracy: 0.9993 - val_loss: 0.0761 - val_accuracy: 0.9813\n",
      "Epoch 11/50\n",
      "188/188 [==============================] - 1s 5ms/step - loss: 0.0022 - accuracy: 0.9998 - val_loss: 0.0770 - val_accuracy: 0.9813\n",
      "Epoch 12/50\n",
      "188/188 [==============================] - 1s 5ms/step - loss: 0.0016 - accuracy: 0.9999 - val_loss: 0.0784 - val_accuracy: 0.9812\n",
      "Epoch 13/50\n",
      "188/188 [==============================] - 1s 5ms/step - loss: 0.0011 - accuracy: 0.9999 - val_loss: 0.0785 - val_accuracy: 0.9816\n",
      "Epoch 14/50\n",
      "188/188 [==============================] - 1s 5ms/step - loss: 8.8974e-04 - accuracy: 0.9999 - val_loss: 0.0809 - val_accuracy: 0.9812\n",
      "Epoch 15/50\n",
      "188/188 [==============================] - 1s 5ms/step - loss: 5.8581e-04 - accuracy: 1.0000 - val_loss: 0.0828 - val_accuracy: 0.9817\n",
      "Epoch 16/50\n",
      "188/188 [==============================] - 1s 5ms/step - loss: 7.7475e-04 - accuracy: 0.9999 - val_loss: 0.0863 - val_accuracy: 0.9812\n",
      "Epoch 17/50\n",
      "188/188 [==============================] - 1s 5ms/step - loss: 0.0014 - accuracy: 0.9998 - val_loss: 0.1018 - val_accuracy: 0.9793\n",
      "Epoch 18/50\n",
      "188/188 [==============================] - 1s 5ms/step - loss: 0.0409 - accuracy: 0.9870 - val_loss: 0.1128 - val_accuracy: 0.9743\n",
      "Epoch 19/50\n",
      "188/188 [==============================] - 1s 5ms/step - loss: 0.0175 - accuracy: 0.9941 - val_loss: 0.1002 - val_accuracy: 0.9777\n",
      "Epoch 20/50\n",
      "188/188 [==============================] - 1s 6ms/step - loss: 0.0051 - accuracy: 0.9986 - val_loss: 0.0923 - val_accuracy: 0.9810\n",
      "Epoch 21/50\n",
      "188/188 [==============================] - 1s 5ms/step - loss: 0.0024 - accuracy: 0.9994 - val_loss: 0.0966 - val_accuracy: 0.9805\n",
      "Epoch 22/50\n",
      "188/188 [==============================] - 1s 5ms/step - loss: 7.3728e-04 - accuracy: 0.9999 - val_loss: 0.0933 - val_accuracy: 0.9818\n",
      "Epoch 23/50\n",
      "188/188 [==============================] - 1s 5ms/step - loss: 2.6314e-04 - accuracy: 1.0000 - val_loss: 0.0942 - val_accuracy: 0.9819\n",
      "Epoch 24/50\n",
      "188/188 [==============================] - 1s 5ms/step - loss: 1.8248e-04 - accuracy: 1.0000 - val_loss: 0.0950 - val_accuracy: 0.9817\n",
      "Epoch 25/50\n",
      "188/188 [==============================] - 1s 5ms/step - loss: 1.5179e-04 - accuracy: 1.0000 - val_loss: 0.0953 - val_accuracy: 0.9818\n",
      "Epoch 26/50\n",
      "188/188 [==============================] - 1s 5ms/step - loss: 1.2989e-04 - accuracy: 1.0000 - val_loss: 0.0959 - val_accuracy: 0.9817\n",
      "Epoch 27/50\n",
      "188/188 [==============================] - 1s 5ms/step - loss: 1.1176e-04 - accuracy: 1.0000 - val_loss: 0.0971 - val_accuracy: 0.9819\n",
      "Epoch 28/50\n",
      "188/188 [==============================] - 1s 5ms/step - loss: 9.8459e-05 - accuracy: 1.0000 - val_loss: 0.0973 - val_accuracy: 0.9818\n",
      "Epoch 29/50\n",
      "188/188 [==============================] - 1s 5ms/step - loss: 8.7135e-05 - accuracy: 1.0000 - val_loss: 0.0984 - val_accuracy: 0.9817\n",
      "Epoch 30/50\n",
      "188/188 [==============================] - 1s 5ms/step - loss: 7.8921e-05 - accuracy: 1.0000 - val_loss: 0.0992 - val_accuracy: 0.9819\n",
      "Epoch 31/50\n",
      "188/188 [==============================] - 1s 5ms/step - loss: 7.0330e-05 - accuracy: 1.0000 - val_loss: 0.1002 - val_accuracy: 0.9820\n",
      "Epoch 32/50\n",
      "188/188 [==============================] - 1s 5ms/step - loss: 6.3103e-05 - accuracy: 1.0000 - val_loss: 0.1006 - val_accuracy: 0.9819\n",
      "Epoch 33/50\n",
      "188/188 [==============================] - 1s 5ms/step - loss: 5.6996e-05 - accuracy: 1.0000 - val_loss: 0.1012 - val_accuracy: 0.9818\n",
      "Epoch 34/50\n",
      "188/188 [==============================] - 1s 5ms/step - loss: 5.1621e-05 - accuracy: 1.0000 - val_loss: 0.1023 - val_accuracy: 0.9820\n",
      "Epoch 35/50\n",
      "188/188 [==============================] - 1s 5ms/step - loss: 4.7040e-05 - accuracy: 1.0000 - val_loss: 0.1027 - val_accuracy: 0.9818\n",
      "Epoch 36/50\n",
      "188/188 [==============================] - 1s 5ms/step - loss: 4.1905e-05 - accuracy: 1.0000 - val_loss: 0.1036 - val_accuracy: 0.9818\n",
      "Epoch 37/50\n",
      "188/188 [==============================] - 1s 5ms/step - loss: 3.8032e-05 - accuracy: 1.0000 - val_loss: 0.1043 - val_accuracy: 0.9817\n",
      "Epoch 38/50\n",
      "188/188 [==============================] - 1s 5ms/step - loss: 3.4318e-05 - accuracy: 1.0000 - val_loss: 0.1053 - val_accuracy: 0.9819\n",
      "Epoch 39/50\n",
      "188/188 [==============================] - 1s 5ms/step - loss: 3.1892e-05 - accuracy: 1.0000 - val_loss: 0.1057 - val_accuracy: 0.9819\n",
      "Epoch 40/50\n",
      "188/188 [==============================] - 1s 5ms/step - loss: 2.8422e-05 - accuracy: 1.0000 - val_loss: 0.1066 - val_accuracy: 0.9820\n",
      "Epoch 41/50\n",
      "188/188 [==============================] - 1s 5ms/step - loss: 2.5989e-05 - accuracy: 1.0000 - val_loss: 0.1074 - val_accuracy: 0.9818\n",
      "Epoch 42/50\n",
      "188/188 [==============================] - 1s 5ms/step - loss: 2.3648e-05 - accuracy: 1.0000 - val_loss: 0.1080 - val_accuracy: 0.9821\n",
      "Epoch 43/50\n",
      "188/188 [==============================] - 1s 5ms/step - loss: 2.1594e-05 - accuracy: 1.0000 - val_loss: 0.1086 - val_accuracy: 0.9822\n",
      "Epoch 44/50\n",
      "188/188 [==============================] - 1s 5ms/step - loss: 1.9496e-05 - accuracy: 1.0000 - val_loss: 0.1093 - val_accuracy: 0.9820\n",
      "Epoch 45/50\n",
      "188/188 [==============================] - 1s 5ms/step - loss: 1.7785e-05 - accuracy: 1.0000 - val_loss: 0.1101 - val_accuracy: 0.9823\n",
      "Epoch 46/50\n",
      "188/188 [==============================] - 1s 5ms/step - loss: 1.6306e-05 - accuracy: 1.0000 - val_loss: 0.1109 - val_accuracy: 0.9820\n",
      "Epoch 47/50\n",
      "188/188 [==============================] - 1s 5ms/step - loss: 1.4920e-05 - accuracy: 1.0000 - val_loss: 0.1121 - val_accuracy: 0.9820\n",
      "Epoch 48/50\n",
      "188/188 [==============================] - 1s 5ms/step - loss: 1.3440e-05 - accuracy: 1.0000 - val_loss: 0.1125 - val_accuracy: 0.9822\n",
      "Epoch 49/50\n",
      "188/188 [==============================] - 1s 5ms/step - loss: 1.2259e-05 - accuracy: 1.0000 - val_loss: 0.1132 - val_accuracy: 0.9822\n",
      "Epoch 50/50\n",
      "188/188 [==============================] - 1s 5ms/step - loss: 1.1271e-05 - accuracy: 1.0000 - val_loss: 0.1141 - val_accuracy: 0.9820\n",
      "Training time: 46.19820690155029s\n",
      "\n"
     ]
    },
    {
     "data": {
      "image/png": "[encoded data removed]",
      "text/plain": [
       "<Figure size 432x288 with 1 Axes>"
      ]
     },
     "metadata": {
      "needs_background": "light"
     },
     "output_type": "display_data"
    },
    {
     "data": {
      "image/png": "[encoded data removed]",
      "text/plain": [
       "<Figure size 432x288 with 1 Axes>"
      ]
     },
     "metadata": {
      "needs_background": "light"
     },
     "output_type": "display_data"
    },
    {
     "name": "stdout",
     "output_type": "stream",
     "text": [
      "313/313 [==============================] - 1s 3ms/step - loss: 0.0965 - accuracy: 0.9840\n",
      "Test accuracy: 0.984000027179718\n"
     ]
    }
   ],
   "source": [
    "model_1 = models.Sequential()\n",
    "\n",
    "model_1.add(layers.Dense(512, input_shape=(x_train_pca[1].shape), activation='relu'))\n",
    "model_1.add(layers.Dense(256, activation='relu'))\n",
    "model_1.add(layers.Dense(10))\n",
    "\n",
    "model_1.summary()\n",
    "\n",
    "model_1.compile(optimizer=tf.keras.optimizers.Adam(learning_rate=0.001),\n",
    "                loss=tf.keras.losses.CategoricalCrossentropy(from_logits=True),metrics=['accuracy'])\n",
    "\n",
    "start = time.time()\n",
    "\n",
    "#Train model\n",
    "history = model_1.fit(x_train_pca, y_train, epochs=50, batch_size=256, validation_split=0.2, verbose=1)\n",
    "\n",
    "end = time.time()\n",
    "print(\"Training time: {}s\\n\".format(end-start))\n",
    "\n",
    "plt.figure(1)\n",
    "plt.plot(history.history['accuracy'],label='train')\n",
    "plt.plot(history.history['val_accuracy'],label='test')\n",
    "plt.legend()\n",
    "plt.title('Accuracy on training and validation sets')\n",
    "plt.show()\n",
    "\n",
    "plt.figure(2)\n",
    "plt.plot(history.history['loss'],label='train')\n",
    "plt.plot(history.history['val_loss'],label='test')\n",
    "plt.legend()\n",
    "plt.title('Loss on training and validation sets')\n",
    "plt.show()\n",
    "\n",
    "score = model_1.evaluate(x_test_pca, y_test)\n",
    "print('Test accuracy:', score[1])"
   ]
  },
  {
   "cell_type": "markdown",
   "metadata": {
    "id": "6aht9zThW-JN"
   },
   "source": [
    "It is clear that this model achieves higher accuracy than the previous models but at the cost of greater complexity. As we can see form the learning curves, the value of the loss function in the validation set starts to increase after some epochs meaning that we have overfitting. We can tackle this problem using various tecniques as will be shown later."
   ]
  },
  {
   "cell_type": "markdown",
   "metadata": {
    "id": "R5xedpP1Xydc"
   },
   "source": [
    "### **Model 1.2**\n",
    "\n",
    "Now, let's see what happens using the exact same model but training it using a bigger learning rate of 0.01.\n"
   ]
  },
  {
   "cell_type": "code",
   "execution_count": null,
   "metadata": {
    "colab": {
     "base_uri": "https://localhost:8080/",
     "height": 1000
    },
    "id": "AM0a46utYLUm",
    "outputId": "1fed440c-9f6c-4ddc-9ca1-3ba36353fbdc"
   },
   "outputs": [
    {
     "name": "stdout",
     "output_type": "stream",
     "text": [
      "Epoch 1/50\n",
      "188/188 [==============================] - 1s 6ms/step - loss: 0.1292 - accuracy: 0.9672 - val_loss: 0.1306 - val_accuracy: 0.9637\n",
      "Epoch 2/50\n",
      "188/188 [==============================] - 1s 5ms/step - loss: 0.0764 - accuracy: 0.9771 - val_loss: 0.1190 - val_accuracy: 0.9707\n",
      "Epoch 3/50\n",
      "188/188 [==============================] - 1s 5ms/step - loss: 0.0682 - accuracy: 0.9802 - val_loss: 0.1231 - val_accuracy: 0.9684\n",
      "Epoch 4/50\n",
      "188/188 [==============================] - 1s 5ms/step - loss: 0.0620 - accuracy: 0.9820 - val_loss: 0.1423 - val_accuracy: 0.9694\n",
      "Epoch 5/50\n",
      "188/188 [==============================] - 1s 5ms/step - loss: 0.0634 - accuracy: 0.9820 - val_loss: 0.1715 - val_accuracy: 0.9646\n",
      "Epoch 6/50\n",
      "188/188 [==============================] - 1s 5ms/step - loss: 0.0706 - accuracy: 0.9821 - val_loss: 0.1496 - val_accuracy: 0.9696\n",
      "Epoch 7/50\n",
      "188/188 [==============================] - 1s 5ms/step - loss: 0.0555 - accuracy: 0.9849 - val_loss: 0.1726 - val_accuracy: 0.9684\n",
      "Epoch 8/50\n",
      "188/188 [==============================] - 1s 5ms/step - loss: 0.0601 - accuracy: 0.9837 - val_loss: 0.1496 - val_accuracy: 0.9694\n",
      "Epoch 9/50\n",
      "188/188 [==============================] - 1s 5ms/step - loss: 0.0461 - accuracy: 0.9881 - val_loss: 0.1572 - val_accuracy: 0.9707\n",
      "Epoch 10/50\n",
      "188/188 [==============================] - 1s 4ms/step - loss: 0.0502 - accuracy: 0.9880 - val_loss: 0.1634 - val_accuracy: 0.9720\n",
      "Epoch 11/50\n",
      "188/188 [==============================] - 1s 5ms/step - loss: 0.0513 - accuracy: 0.9875 - val_loss: 0.1669 - val_accuracy: 0.9714\n",
      "Epoch 12/50\n",
      "188/188 [==============================] - 1s 5ms/step - loss: 0.0489 - accuracy: 0.9886 - val_loss: 0.2248 - val_accuracy: 0.9694\n",
      "Epoch 13/50\n",
      "188/188 [==============================] - 1s 5ms/step - loss: 0.0499 - accuracy: 0.9887 - val_loss: 0.2328 - val_accuracy: 0.9674\n",
      "Epoch 14/50\n",
      "188/188 [==============================] - 1s 5ms/step - loss: 0.0538 - accuracy: 0.9886 - val_loss: 0.2414 - val_accuracy: 0.9729\n",
      "Epoch 15/50\n",
      "188/188 [==============================] - 1s 5ms/step - loss: 0.0632 - accuracy: 0.9879 - val_loss: 0.2577 - val_accuracy: 0.9667\n",
      "Epoch 16/50\n",
      "188/188 [==============================] - 1s 5ms/step - loss: 0.0530 - accuracy: 0.9892 - val_loss: 0.2190 - val_accuracy: 0.9708\n",
      "Epoch 17/50\n",
      "188/188 [==============================] - 1s 5ms/step - loss: 0.0318 - accuracy: 0.9929 - val_loss: 0.2178 - val_accuracy: 0.9723\n",
      "Epoch 18/50\n",
      "188/188 [==============================] - 1s 5ms/step - loss: 0.0305 - accuracy: 0.9934 - val_loss: 0.2030 - val_accuracy: 0.9756\n",
      "Epoch 19/50\n",
      "188/188 [==============================] - 1s 4ms/step - loss: 0.0365 - accuracy: 0.9928 - val_loss: 0.2873 - val_accuracy: 0.9710\n",
      "Epoch 20/50\n",
      "188/188 [==============================] - 1s 5ms/step - loss: 0.0553 - accuracy: 0.9905 - val_loss: 0.2642 - val_accuracy: 0.9697\n",
      "Epoch 21/50\n",
      "188/188 [==============================] - 1s 5ms/step - loss: 0.0338 - accuracy: 0.9930 - val_loss: 0.2410 - val_accuracy: 0.9732\n",
      "Epoch 22/50\n",
      "188/188 [==============================] - 1s 5ms/step - loss: 0.0310 - accuracy: 0.9943 - val_loss: 0.2334 - val_accuracy: 0.9753\n",
      "Epoch 23/50\n",
      "188/188 [==============================] - 1s 4ms/step - loss: 0.0329 - accuracy: 0.9933 - val_loss: 0.2755 - val_accuracy: 0.9740\n",
      "Epoch 24/50\n",
      "188/188 [==============================] - 1s 5ms/step - loss: 0.0416 - accuracy: 0.9934 - val_loss: 0.2478 - val_accuracy: 0.9740\n",
      "Epoch 25/50\n",
      "188/188 [==============================] - 1s 5ms/step - loss: 0.0493 - accuracy: 0.9915 - val_loss: 0.2716 - val_accuracy: 0.9704\n",
      "Epoch 26/50\n",
      "188/188 [==============================] - 1s 4ms/step - loss: 0.0393 - accuracy: 0.9928 - val_loss: 0.3499 - val_accuracy: 0.9712\n",
      "Epoch 27/50\n",
      "188/188 [==============================] - 1s 4ms/step - loss: 0.0612 - accuracy: 0.9912 - val_loss: 0.3141 - val_accuracy: 0.9702\n",
      "Epoch 28/50\n",
      "188/188 [==============================] - 1s 5ms/step - loss: 0.0564 - accuracy: 0.9911 - val_loss: 0.2821 - val_accuracy: 0.9726\n",
      "Epoch 29/50\n",
      "188/188 [==============================] - 1s 5ms/step - loss: 0.0448 - accuracy: 0.9921 - val_loss: 0.3626 - val_accuracy: 0.9726\n",
      "Epoch 30/50\n",
      "188/188 [==============================] - 1s 5ms/step - loss: 0.0434 - accuracy: 0.9929 - val_loss: 0.3114 - val_accuracy: 0.9753\n",
      "Epoch 31/50\n",
      "188/188 [==============================] - 1s 5ms/step - loss: 0.0360 - accuracy: 0.9945 - val_loss: 0.3242 - val_accuracy: 0.9746\n",
      "Epoch 32/50\n",
      "188/188 [==============================] - 1s 5ms/step - loss: 0.0269 - accuracy: 0.9956 - val_loss: 0.3784 - val_accuracy: 0.9736\n",
      "Epoch 33/50\n",
      "188/188 [==============================] - 1s 5ms/step - loss: 0.0377 - accuracy: 0.9944 - val_loss: 0.3584 - val_accuracy: 0.9741\n",
      "Epoch 34/50\n",
      "188/188 [==============================] - 1s 5ms/step - loss: 0.0341 - accuracy: 0.9946 - val_loss: 0.3115 - val_accuracy: 0.9754\n",
      "Epoch 35/50\n",
      "188/188 [==============================] - 1s 5ms/step - loss: 0.0405 - accuracy: 0.9942 - val_loss: 0.4073 - val_accuracy: 0.9735\n",
      "Epoch 36/50\n",
      "188/188 [==============================] - 1s 5ms/step - loss: 0.0408 - accuracy: 0.9942 - val_loss: 0.3578 - val_accuracy: 0.9772\n",
      "Epoch 37/50\n",
      "188/188 [==============================] - 1s 5ms/step - loss: 0.0361 - accuracy: 0.9948 - val_loss: 0.4196 - val_accuracy: 0.9747\n",
      "Epoch 38/50\n",
      "188/188 [==============================] - 1s 5ms/step - loss: 0.0412 - accuracy: 0.9948 - val_loss: 0.4248 - val_accuracy: 0.9719\n",
      "Epoch 39/50\n",
      "188/188 [==============================] - 1s 5ms/step - loss: 0.0451 - accuracy: 0.9946 - val_loss: 0.4284 - val_accuracy: 0.9715\n",
      "Epoch 40/50\n",
      "188/188 [==============================] - 1s 5ms/step - loss: 0.0339 - accuracy: 0.9949 - val_loss: 0.3918 - val_accuracy: 0.9746\n",
      "Epoch 41/50\n",
      "188/188 [==============================] - 1s 5ms/step - loss: 0.0292 - accuracy: 0.9959 - val_loss: 0.4335 - val_accuracy: 0.9715\n",
      "Epoch 42/50\n",
      "188/188 [==============================] - 1s 5ms/step - loss: 0.0317 - accuracy: 0.9960 - val_loss: 0.4860 - val_accuracy: 0.9718\n",
      "Epoch 43/50\n",
      "188/188 [==============================] - 1s 5ms/step - loss: 0.0453 - accuracy: 0.9946 - val_loss: 0.4618 - val_accuracy: 0.9723\n",
      "Epoch 44/50\n",
      "188/188 [==============================] - 1s 5ms/step - loss: 0.0461 - accuracy: 0.9945 - val_loss: 0.4045 - val_accuracy: 0.9735\n",
      "Epoch 45/50\n",
      "188/188 [==============================] - 1s 5ms/step - loss: 0.0263 - accuracy: 0.9957 - val_loss: 0.4032 - val_accuracy: 0.9745\n",
      "Epoch 46/50\n",
      "188/188 [==============================] - 1s 5ms/step - loss: 0.0306 - accuracy: 0.9960 - val_loss: 0.4730 - val_accuracy: 0.9756\n",
      "Epoch 47/50\n",
      "188/188 [==============================] - 1s 5ms/step - loss: 0.0343 - accuracy: 0.9961 - val_loss: 0.4672 - val_accuracy: 0.9731\n",
      "Epoch 48/50\n",
      "188/188 [==============================] - 1s 5ms/step - loss: 0.0364 - accuracy: 0.9953 - val_loss: 0.4418 - val_accuracy: 0.9744\n",
      "Epoch 49/50\n",
      "188/188 [==============================] - 1s 5ms/step - loss: 0.0393 - accuracy: 0.9954 - val_loss: 0.4565 - val_accuracy: 0.9731\n",
      "Epoch 50/50\n",
      "188/188 [==============================] - 1s 5ms/step - loss: 0.0397 - accuracy: 0.9951 - val_loss: 0.4857 - val_accuracy: 0.9731\n",
      "Training time: 45.08038115501404s\n",
      "\n"
     ]
    },
    {
     "data": {
      "image/png": "[encoded data removed]",
      "text/plain": [
       "<Figure size 432x288 with 1 Axes>"
      ]
     },
     "metadata": {
      "needs_background": "light"
     },
     "output_type": "display_data"
    },
    {
     "data": {
      "image/png": "[encoded data removed]",
      "text/plain": [
       "<Figure size 432x288 with 1 Axes>"
      ]
     },
     "metadata": {
      "needs_background": "light"
     },
     "output_type": "display_data"
    },
    {
     "name": "stdout",
     "output_type": "stream",
     "text": [
      "313/313 [==============================] - 1s 3ms/step - loss: 0.4538 - accuracy: 0.9744\n",
      "Test accuracy: 0.974399983882904\n"
     ]
    }
   ],
   "source": [
    "model_1.compile(optimizer=tf.keras.optimizers.Adam(learning_rate=0.01),\n",
    "                loss=tf.keras.losses.CategoricalCrossentropy(from_logits=True),metrics=['accuracy'])\n",
    "\n",
    "start = time.time()\n",
    "\n",
    "#Train model\n",
    "history = model_1.fit(x_train_pca, y_train, epochs=50, batch_size=256, validation_split=0.2, verbose=1)\n",
    "\n",
    "end = time.time()\n",
    "print(\"Training time: {}s\\n\".format(end-start))\n",
    "\n",
    "plt.figure(3)\n",
    "plt.plot(history.history['accuracy'],label='train')\n",
    "plt.plot(history.history['val_accuracy'],label='test')\n",
    "plt.legend()\n",
    "plt.title('Accuracy on training and validation sets')\n",
    "plt.show()\n",
    "\n",
    "plt.figure(4)\n",
    "plt.plot(history.history['loss'],label='train')\n",
    "plt.plot(history.history['val_loss'],label='test')\n",
    "plt.legend()\n",
    "plt.title('Loss on training and validation sets')\n",
    "plt.show()\n",
    "\n",
    "score = model_1.evaluate(x_test_pca, y_test)\n",
    "print('Test accuracy:', score[1])"
   ]
  },
  {
   "cell_type": "markdown",
   "metadata": {
    "id": "Tf8RmaOvcGJg"
   },
   "source": [
    "First of all we notice that the performance of the model on the test set is worse than the previous one meaning a smaller learning rate is more appropriate.\n",
    "\n",
    "Moreover, it is clear that due to the higher learning rate the algorithm oscilates more making convergence more difficult and causing the spikes we see in the learning curves.\n",
    "\n",
    "Finally, it is also pretty clear that the model is overfitting even more than before since the value of the loss function in the validation set increases instead of decreasing."
   ]
  },
  {
   "cell_type": "markdown",
   "metadata": {
    "id": "AuIee-TqdQyz"
   },
   "source": [
    "### **Model 1.3**\n",
    "\n",
    "Let's try training the same model using a different algorithm this time. We will try the Stochastic Gradient Descent (SGD) algorithm with momentum. Momentum helps accelerate the learning process by \"remembering\" the previous steps that the algorithm made."
   ]
  },
  {
   "cell_type": "code",
   "execution_count": null,
   "metadata": {
    "colab": {
     "base_uri": "https://localhost:8080/",
     "height": 1000
    },
    "id": "dFcC4HhBeG-k",
    "outputId": "265f8e8c-c325-4166-d928-11a42b1c2443"
   },
   "outputs": [
    {
     "name": "stdout",
     "output_type": "stream",
     "text": [
      "Epoch 1/50\n",
      "188/188 [==============================] - 1s 6ms/step - loss: 0.0057 - accuracy: 0.9987 - val_loss: 0.4257 - val_accuracy: 0.9744\n",
      "Epoch 2/50\n",
      "188/188 [==============================] - 1s 5ms/step - loss: 0.0056 - accuracy: 0.9987 - val_loss: 0.4254 - val_accuracy: 0.9744\n",
      "Epoch 3/50\n",
      "188/188 [==============================] - 1s 5ms/step - loss: 0.0056 - accuracy: 0.9987 - val_loss: 0.4253 - val_accuracy: 0.9743\n",
      "Epoch 4/50\n",
      "188/188 [==============================] - 1s 5ms/step - loss: 0.0056 - accuracy: 0.9987 - val_loss: 0.4252 - val_accuracy: 0.9743\n",
      "Epoch 5/50\n",
      "188/188 [==============================] - 1s 4ms/step - loss: 0.0055 - accuracy: 0.9987 - val_loss: 0.4249 - val_accuracy: 0.9743\n",
      "Epoch 6/50\n",
      "188/188 [==============================] - 1s 4ms/step - loss: 0.0055 - accuracy: 0.9987 - val_loss: 0.4248 - val_accuracy: 0.9743\n",
      "Epoch 7/50\n",
      "188/188 [==============================] - 1s 4ms/step - loss: 0.0054 - accuracy: 0.9987 - val_loss: 0.4246 - val_accuracy: 0.9743\n",
      "Epoch 8/50\n",
      "188/188 [==============================] - 1s 5ms/step - loss: 0.0054 - accuracy: 0.9988 - val_loss: 0.4243 - val_accuracy: 0.9743\n",
      "Epoch 9/50\n",
      "188/188 [==============================] - 1s 5ms/step - loss: 0.0054 - accuracy: 0.9988 - val_loss: 0.4243 - val_accuracy: 0.9743\n",
      "Epoch 10/50\n",
      "188/188 [==============================] - 1s 5ms/step - loss: 0.0053 - accuracy: 0.9988 - val_loss: 0.4239 - val_accuracy: 0.9744\n",
      "Epoch 11/50\n",
      "188/188 [==============================] - 1s 5ms/step - loss: 0.0053 - accuracy: 0.9988 - val_loss: 0.4240 - val_accuracy: 0.9744\n",
      "Epoch 12/50\n",
      "188/188 [==============================] - 1s 5ms/step - loss: 0.0052 - accuracy: 0.9988 - val_loss: 0.4237 - val_accuracy: 0.9744\n",
      "Epoch 13/50\n",
      "188/188 [==============================] - 1s 5ms/step - loss: 0.0052 - accuracy: 0.9988 - val_loss: 0.4236 - val_accuracy: 0.9744\n",
      "Epoch 14/50\n",
      "188/188 [==============================] - 1s 4ms/step - loss: 0.0052 - accuracy: 0.9988 - val_loss: 0.4234 - val_accuracy: 0.9744\n",
      "Epoch 15/50\n",
      "188/188 [==============================] - 1s 4ms/step - loss: 0.0051 - accuracy: 0.9988 - val_loss: 0.4232 - val_accuracy: 0.9744\n",
      "Epoch 16/50\n",
      "188/188 [==============================] - 1s 5ms/step - loss: 0.0051 - accuracy: 0.9988 - val_loss: 0.4231 - val_accuracy: 0.9744\n",
      "Epoch 17/50\n",
      "188/188 [==============================] - 1s 5ms/step - loss: 0.0051 - accuracy: 0.9988 - val_loss: 0.4230 - val_accuracy: 0.9744\n",
      "Epoch 18/50\n",
      "188/188 [==============================] - 1s 4ms/step - loss: 0.0050 - accuracy: 0.9988 - val_loss: 0.4229 - val_accuracy: 0.9744\n",
      "Epoch 19/50\n",
      "188/188 [==============================] - 1s 5ms/step - loss: 0.0050 - accuracy: 0.9988 - val_loss: 0.4228 - val_accuracy: 0.9744\n",
      "Epoch 20/50\n",
      "188/188 [==============================] - 1s 4ms/step - loss: 0.0050 - accuracy: 0.9988 - val_loss: 0.4226 - val_accuracy: 0.9744\n",
      "Epoch 21/50\n",
      "188/188 [==============================] - 1s 4ms/step - loss: 0.0049 - accuracy: 0.9988 - val_loss: 0.4225 - val_accuracy: 0.9744\n",
      "Epoch 22/50\n",
      "188/188 [==============================] - 1s 5ms/step - loss: 0.0049 - accuracy: 0.9988 - val_loss: 0.4224 - val_accuracy: 0.9744\n",
      "Epoch 23/50\n",
      "188/188 [==============================] - 1s 4ms/step - loss: 0.0049 - accuracy: 0.9988 - val_loss: 0.4222 - val_accuracy: 0.9744\n",
      "Epoch 24/50\n",
      "188/188 [==============================] - 1s 4ms/step - loss: 0.0049 - accuracy: 0.9988 - val_loss: 0.4221 - val_accuracy: 0.9744\n",
      "Epoch 25/50\n",
      "188/188 [==============================] - 1s 5ms/step - loss: 0.0048 - accuracy: 0.9988 - val_loss: 0.4220 - val_accuracy: 0.9744\n",
      "Epoch 26/50\n",
      "188/188 [==============================] - 1s 5ms/step - loss: 0.0048 - accuracy: 0.9988 - val_loss: 0.4218 - val_accuracy: 0.9745\n",
      "Epoch 27/50\n",
      "188/188 [==============================] - 1s 4ms/step - loss: 0.0048 - accuracy: 0.9988 - val_loss: 0.4217 - val_accuracy: 0.9745\n",
      "Epoch 28/50\n",
      "188/188 [==============================] - 1s 5ms/step - loss: 0.0047 - accuracy: 0.9988 - val_loss: 0.4216 - val_accuracy: 0.9745\n",
      "Epoch 29/50\n",
      "188/188 [==============================] - 1s 5ms/step - loss: 0.0047 - accuracy: 0.9988 - val_loss: 0.4216 - val_accuracy: 0.9745\n",
      "Epoch 30/50\n",
      "188/188 [==============================] - 1s 4ms/step - loss: 0.0047 - accuracy: 0.9988 - val_loss: 0.4215 - val_accuracy: 0.9745\n",
      "Epoch 31/50\n",
      "188/188 [==============================] - 1s 4ms/step - loss: 0.0046 - accuracy: 0.9988 - val_loss: 0.4213 - val_accuracy: 0.9745\n",
      "Epoch 32/50\n",
      "188/188 [==============================] - 1s 4ms/step - loss: 0.0046 - accuracy: 0.9988 - val_loss: 0.4212 - val_accuracy: 0.9745\n",
      "Epoch 33/50\n",
      "188/188 [==============================] - 1s 4ms/step - loss: 0.0046 - accuracy: 0.9988 - val_loss: 0.4210 - val_accuracy: 0.9745\n",
      "Epoch 34/50\n",
      "188/188 [==============================] - 1s 5ms/step - loss: 0.0046 - accuracy: 0.9988 - val_loss: 0.4210 - val_accuracy: 0.9745\n",
      "Epoch 35/50\n",
      "188/188 [==============================] - 1s 4ms/step - loss: 0.0045 - accuracy: 0.9989 - val_loss: 0.4210 - val_accuracy: 0.9745\n",
      "Epoch 36/50\n",
      "188/188 [==============================] - 1s 5ms/step - loss: 0.0045 - accuracy: 0.9989 - val_loss: 0.4207 - val_accuracy: 0.9745\n",
      "Epoch 37/50\n",
      "188/188 [==============================] - 1s 5ms/step - loss: 0.0045 - accuracy: 0.9989 - val_loss: 0.4207 - val_accuracy: 0.9744\n",
      "Epoch 38/50\n",
      "188/188 [==============================] - 1s 5ms/step - loss: 0.0045 - accuracy: 0.9989 - val_loss: 0.4206 - val_accuracy: 0.9745\n",
      "Epoch 39/50\n",
      "188/188 [==============================] - 1s 5ms/step - loss: 0.0044 - accuracy: 0.9989 - val_loss: 0.4207 - val_accuracy: 0.9745\n",
      "Epoch 40/50\n",
      "188/188 [==============================] - 1s 5ms/step - loss: 0.0044 - accuracy: 0.9989 - val_loss: 0.4204 - val_accuracy: 0.9745\n",
      "Epoch 41/50\n",
      "188/188 [==============================] - 1s 5ms/step - loss: 0.0044 - accuracy: 0.9989 - val_loss: 0.4203 - val_accuracy: 0.9746\n",
      "Epoch 42/50\n",
      "188/188 [==============================] - 1s 5ms/step - loss: 0.0044 - accuracy: 0.9989 - val_loss: 0.4203 - val_accuracy: 0.9746\n",
      "Epoch 43/50\n",
      "188/188 [==============================] - 1s 5ms/step - loss: 0.0043 - accuracy: 0.9989 - val_loss: 0.4202 - val_accuracy: 0.9746\n",
      "Epoch 44/50\n",
      "188/188 [==============================] - 1s 4ms/step - loss: 0.0043 - accuracy: 0.9989 - val_loss: 0.4202 - val_accuracy: 0.9746\n",
      "Epoch 45/50\n",
      "188/188 [==============================] - 1s 5ms/step - loss: 0.0043 - accuracy: 0.9989 - val_loss: 0.4199 - val_accuracy: 0.9746\n",
      "Epoch 46/50\n",
      "188/188 [==============================] - 1s 5ms/step - loss: 0.0043 - accuracy: 0.9989 - val_loss: 0.4200 - val_accuracy: 0.9746\n",
      "Epoch 47/50\n",
      "188/188 [==============================] - 1s 5ms/step - loss: 0.0043 - accuracy: 0.9989 - val_loss: 0.4199 - val_accuracy: 0.9746\n",
      "Epoch 48/50\n",
      "188/188 [==============================] - 1s 4ms/step - loss: 0.0042 - accuracy: 0.9989 - val_loss: 0.4198 - val_accuracy: 0.9746\n",
      "Epoch 49/50\n",
      "188/188 [==============================] - 1s 5ms/step - loss: 0.0042 - accuracy: 0.9989 - val_loss: 0.4196 - val_accuracy: 0.9746\n",
      "Epoch 50/50\n",
      "188/188 [==============================] - 1s 5ms/step - loss: 0.0042 - accuracy: 0.9989 - val_loss: 0.4196 - val_accuracy: 0.9746\n",
      "Training time: 43.89324474334717s\n",
      "\n"
     ]
    },
    {
     "data": {
      "image/png": "[encoded data removed]",
      "text/plain": [
       "<Figure size 432x288 with 1 Axes>"
      ]
     },
     "metadata": {
      "needs_background": "light"
     },
     "output_type": "display_data"
    },
    {
     "data": {
      "image/png": "[encoded data removed]",
      "text/plain": [
       "<Figure size 432x288 with 1 Axes>"
      ]
     },
     "metadata": {
      "needs_background": "light"
     },
     "output_type": "display_data"
    },
    {
     "name": "stdout",
     "output_type": "stream",
     "text": [
      "313/313 [==============================] - 1s 3ms/step - loss: 0.3998 - accuracy: 0.9767\n",
      "Test accuracy: 0.9767000079154968\n"
     ]
    }
   ],
   "source": [
    "model_1.compile(optimizer=tf.keras.optimizers.SGD(learning_rate=0.001, momentum=0.9),\n",
    "                loss=tf.keras.losses.CategoricalCrossentropy(from_logits=True),metrics=['accuracy'])\n",
    "\n",
    "start = time.time()\n",
    "\n",
    "#Train model\n",
    "history = model_1.fit(x_train_pca, y_train, epochs=50, batch_size=256, validation_split=0.2, verbose=1)\n",
    "\n",
    "end = time.time()\n",
    "print(\"Training time: {}s\\n\".format(end-start))\n",
    "\n",
    "plt.figure(3)\n",
    "plt.plot(history.history['accuracy'],label='train')\n",
    "plt.plot(history.history['val_accuracy'],label='test')\n",
    "plt.legend()\n",
    "plt.title('Accuracy on training and validation sets')\n",
    "plt.show()\n",
    "\n",
    "plt.figure(4)\n",
    "plt.plot(history.history['loss'],label='train')\n",
    "plt.plot(history.history['val_loss'],label='test')\n",
    "plt.legend()\n",
    "plt.title('Loss on training and validation sets')\n",
    "plt.show()\n",
    "\n",
    "score = model_1.evaluate(x_test_pca, y_test)\n",
    "print('Test accuracy:', score[1])"
   ]
  },
  {
   "cell_type": "markdown",
   "metadata": {
    "id": "hQgI_8aDept0"
   },
   "source": [
    "Although there is no visible indication of overfitting for this model we can see that it is still underperforming in comparison to model 1.1.\n",
    "\n",
    "So, for now, let's keep the Adam algorithm with learning rate 0.001 as our training technique."
   ]
  },
  {
   "cell_type": "markdown",
   "metadata": {
    "id": "UUM9TT0sfNZc"
   },
   "source": [
    "## **Model 2:** Weight Initalization\n",
    "\n",
    "One typical problem in deep neural networks is that of vanishing or exploding gradients. This causes the weights of the neurons to either become really big or go to zero after training and cause underperformance of the model. This problem is usually caused due to wrong initialization of the weights of the network. \n",
    "\n",
    "A way to prevent this is by properly initialiazing the weights in a way that the mean of activations is zero and the variance of activations stays the same across the layers. Here, we use the He Normal initialization to achieve this."
   ]
  },
  {
   "cell_type": "code",
   "execution_count": null,
   "metadata": {
    "colab": {
     "base_uri": "https://localhost:8080/",
     "height": 1000
    },
    "id": "_E3zJy_MhlND",
    "outputId": "11a0e752-5509-4db9-fa46-1ecb2f200b95"
   },
   "outputs": [
    {
     "name": "stdout",
     "output_type": "stream",
     "text": [
      "Model: \"sequential_13\"\n",
      "_________________________________________________________________\n",
      " Layer (type)                Output Shape              Param #   \n",
      "=================================================================\n",
      " dense_28 (Dense)            (None, 512)               45056     \n",
      "                                                                 \n",
      " dense_29 (Dense)            (None, 256)               131328    \n",
      "                                                                 \n",
      " dense_30 (Dense)            (None, 10)                2570      \n",
      "                                                                 \n",
      "=================================================================\n",
      "Total params: 178,954\n",
      "Trainable params: 178,954\n",
      "Non-trainable params: 0\n",
      "_________________________________________________________________\n",
      "Epoch 1/50\n",
      "188/188 [==============================] - 1s 5ms/step - loss: 0.3139 - accuracy: 0.9066 - val_loss: 0.1411 - val_accuracy: 0.9588\n",
      "Epoch 2/50\n",
      "188/188 [==============================] - 1s 5ms/step - loss: 0.1088 - accuracy: 0.9689 - val_loss: 0.0998 - val_accuracy: 0.9700\n",
      "Epoch 3/50\n",
      "188/188 [==============================] - 1s 5ms/step - loss: 0.0668 - accuracy: 0.9810 - val_loss: 0.0880 - val_accuracy: 0.9741\n",
      "Epoch 4/50\n",
      "188/188 [==============================] - 1s 5ms/step - loss: 0.0456 - accuracy: 0.9874 - val_loss: 0.0850 - val_accuracy: 0.9747\n",
      "Epoch 5/50\n",
      "188/188 [==============================] - 1s 5ms/step - loss: 0.0313 - accuracy: 0.9914 - val_loss: 0.0778 - val_accuracy: 0.9777\n",
      "Epoch 6/50\n",
      "188/188 [==============================] - 1s 5ms/step - loss: 0.0212 - accuracy: 0.9950 - val_loss: 0.0795 - val_accuracy: 0.9773\n",
      "Epoch 7/50\n",
      "188/188 [==============================] - 1s 5ms/step - loss: 0.0143 - accuracy: 0.9968 - val_loss: 0.0790 - val_accuracy: 0.9783\n",
      "Epoch 8/50\n",
      "188/188 [==============================] - 1s 5ms/step - loss: 0.0085 - accuracy: 0.9988 - val_loss: 0.0746 - val_accuracy: 0.9802\n",
      "Epoch 9/50\n",
      "188/188 [==============================] - 1s 4ms/step - loss: 0.0055 - accuracy: 0.9994 - val_loss: 0.0763 - val_accuracy: 0.9790\n",
      "Epoch 10/50\n",
      "188/188 [==============================] - 1s 5ms/step - loss: 0.0036 - accuracy: 0.9997 - val_loss: 0.0739 - val_accuracy: 0.9812\n",
      "Epoch 11/50\n",
      "188/188 [==============================] - 1s 5ms/step - loss: 0.0027 - accuracy: 0.9998 - val_loss: 0.0766 - val_accuracy: 0.9820\n",
      "Epoch 12/50\n",
      "188/188 [==============================] - 1s 5ms/step - loss: 0.0025 - accuracy: 0.9997 - val_loss: 0.0775 - val_accuracy: 0.9818\n",
      "Epoch 13/50\n",
      "188/188 [==============================] - 1s 4ms/step - loss: 0.0017 - accuracy: 1.0000 - val_loss: 0.0784 - val_accuracy: 0.9812\n",
      "Epoch 14/50\n",
      "188/188 [==============================] - 1s 5ms/step - loss: 0.0010 - accuracy: 1.0000 - val_loss: 0.0804 - val_accuracy: 0.9818\n",
      "Epoch 15/50\n",
      "188/188 [==============================] - 1s 4ms/step - loss: 0.0013 - accuracy: 0.9999 - val_loss: 0.0817 - val_accuracy: 0.9818\n",
      "Epoch 16/50\n",
      "188/188 [==============================] - 1s 5ms/step - loss: 7.3349e-04 - accuracy: 1.0000 - val_loss: 0.0817 - val_accuracy: 0.9818\n",
      "Epoch 17/50\n",
      "188/188 [==============================] - 1s 5ms/step - loss: 5.7231e-04 - accuracy: 1.0000 - val_loss: 0.0833 - val_accuracy: 0.9820\n",
      "Epoch 18/50\n",
      "188/188 [==============================] - 1s 5ms/step - loss: 4.5524e-04 - accuracy: 1.0000 - val_loss: 0.0839 - val_accuracy: 0.9821\n",
      "Epoch 19/50\n",
      "188/188 [==============================] - 1s 5ms/step - loss: 3.9317e-04 - accuracy: 1.0000 - val_loss: 0.0857 - val_accuracy: 0.9823\n",
      "Epoch 20/50\n",
      "188/188 [==============================] - 1s 5ms/step - loss: 3.5990e-04 - accuracy: 1.0000 - val_loss: 0.0856 - val_accuracy: 0.9820\n",
      "Epoch 21/50\n",
      "188/188 [==============================] - 1s 5ms/step - loss: 3.2416e-04 - accuracy: 1.0000 - val_loss: 0.0879 - val_accuracy: 0.9820\n",
      "Epoch 22/50\n",
      "188/188 [==============================] - 1s 5ms/step - loss: 2.4807e-04 - accuracy: 1.0000 - val_loss: 0.0880 - val_accuracy: 0.9821\n",
      "Epoch 23/50\n",
      "188/188 [==============================] - 1s 5ms/step - loss: 2.1131e-04 - accuracy: 1.0000 - val_loss: 0.0881 - val_accuracy: 0.9827\n",
      "Epoch 24/50\n",
      "188/188 [==============================] - 1s 5ms/step - loss: 1.8368e-04 - accuracy: 1.0000 - val_loss: 0.0890 - val_accuracy: 0.9825\n",
      "Epoch 25/50\n",
      "188/188 [==============================] - 1s 5ms/step - loss: 1.6617e-04 - accuracy: 1.0000 - val_loss: 0.0903 - val_accuracy: 0.9822\n",
      "Epoch 26/50\n",
      "188/188 [==============================] - 1s 5ms/step - loss: 1.4409e-04 - accuracy: 1.0000 - val_loss: 0.0911 - val_accuracy: 0.9826\n",
      "Epoch 27/50\n",
      "188/188 [==============================] - 1s 4ms/step - loss: 1.2589e-04 - accuracy: 1.0000 - val_loss: 0.0922 - val_accuracy: 0.9824\n",
      "Epoch 28/50\n",
      "188/188 [==============================] - 1s 5ms/step - loss: 1.1316e-04 - accuracy: 1.0000 - val_loss: 0.0926 - val_accuracy: 0.9825\n",
      "Epoch 29/50\n",
      "188/188 [==============================] - 1s 5ms/step - loss: 1.0156e-04 - accuracy: 1.0000 - val_loss: 0.0934 - val_accuracy: 0.9827\n",
      "Epoch 30/50\n",
      "188/188 [==============================] - 1s 4ms/step - loss: 8.8852e-05 - accuracy: 1.0000 - val_loss: 0.0950 - val_accuracy: 0.9827\n",
      "Epoch 31/50\n",
      "188/188 [==============================] - 1s 5ms/step - loss: 7.9517e-05 - accuracy: 1.0000 - val_loss: 0.0953 - val_accuracy: 0.9824\n",
      "Epoch 32/50\n",
      "188/188 [==============================] - 1s 5ms/step - loss: 6.9287e-05 - accuracy: 1.0000 - val_loss: 0.0965 - val_accuracy: 0.9822\n",
      "Epoch 33/50\n",
      "188/188 [==============================] - 1s 4ms/step - loss: 6.2793e-05 - accuracy: 1.0000 - val_loss: 0.0975 - val_accuracy: 0.9822\n",
      "Epoch 34/50\n",
      "188/188 [==============================] - 1s 5ms/step - loss: 0.0464 - accuracy: 0.9865 - val_loss: 0.1404 - val_accuracy: 0.9689\n",
      "Epoch 35/50\n",
      "188/188 [==============================] - 1s 5ms/step - loss: 0.0247 - accuracy: 0.9912 - val_loss: 0.0946 - val_accuracy: 0.9795\n",
      "Epoch 36/50\n",
      "188/188 [==============================] - 1s 4ms/step - loss: 0.0070 - accuracy: 0.9978 - val_loss: 0.0886 - val_accuracy: 0.9815\n",
      "Epoch 37/50\n",
      "188/188 [==============================] - 1s 5ms/step - loss: 0.0018 - accuracy: 0.9996 - val_loss: 0.0923 - val_accuracy: 0.9805\n",
      "Epoch 38/50\n",
      "188/188 [==============================] - 1s 5ms/step - loss: 5.9726e-04 - accuracy: 0.9999 - val_loss: 0.0892 - val_accuracy: 0.9825\n",
      "Epoch 39/50\n",
      "188/188 [==============================] - 1s 5ms/step - loss: 2.8125e-04 - accuracy: 1.0000 - val_loss: 0.0906 - val_accuracy: 0.9818\n",
      "Epoch 40/50\n",
      "188/188 [==============================] - 1s 5ms/step - loss: 2.0951e-04 - accuracy: 1.0000 - val_loss: 0.0909 - val_accuracy: 0.9821\n",
      "Epoch 41/50\n",
      "188/188 [==============================] - 1s 5ms/step - loss: 1.7491e-04 - accuracy: 1.0000 - val_loss: 0.0923 - val_accuracy: 0.9820\n",
      "Epoch 42/50\n",
      "188/188 [==============================] - 1s 5ms/step - loss: 1.5416e-04 - accuracy: 1.0000 - val_loss: 0.0932 - val_accuracy: 0.9817\n",
      "Epoch 43/50\n",
      "188/188 [==============================] - 1s 5ms/step - loss: 1.3010e-04 - accuracy: 1.0000 - val_loss: 0.0939 - val_accuracy: 0.9822\n",
      "Epoch 44/50\n",
      "188/188 [==============================] - 1s 5ms/step - loss: 1.1428e-04 - accuracy: 1.0000 - val_loss: 0.0943 - val_accuracy: 0.9823\n",
      "Epoch 45/50\n",
      "188/188 [==============================] - 1s 5ms/step - loss: 1.0171e-04 - accuracy: 1.0000 - val_loss: 0.0947 - val_accuracy: 0.9822\n",
      "Epoch 46/50\n",
      "188/188 [==============================] - 1s 5ms/step - loss: 9.1190e-05 - accuracy: 1.0000 - val_loss: 0.0957 - val_accuracy: 0.9823\n",
      "Epoch 47/50\n",
      "188/188 [==============================] - 1s 5ms/step - loss: 8.0751e-05 - accuracy: 1.0000 - val_loss: 0.0964 - val_accuracy: 0.9828\n",
      "Epoch 48/50\n",
      "188/188 [==============================] - 1s 5ms/step - loss: 7.2158e-05 - accuracy: 1.0000 - val_loss: 0.0974 - val_accuracy: 0.9826\n",
      "Epoch 49/50\n",
      "188/188 [==============================] - 1s 5ms/step - loss: 6.5642e-05 - accuracy: 1.0000 - val_loss: 0.0982 - val_accuracy: 0.9824\n",
      "Epoch 50/50\n",
      "188/188 [==============================] - 1s 5ms/step - loss: 5.9294e-05 - accuracy: 1.0000 - val_loss: 0.0988 - val_accuracy: 0.9825\n",
      "Training time: 44.54239869117737s\n",
      "\n"
     ]
    },
    {
     "data": {
      "image/png": "[encoded data removed]",
      "text/plain": [
       "<Figure size 432x288 with 1 Axes>"
      ]
     },
     "metadata": {
      "needs_background": "light"
     },
     "output_type": "display_data"
    },
    {
     "data": {
      "image/png": "[encoded data removed]",
      "text/plain": [
       "<Figure size 432x288 with 1 Axes>"
      ]
     },
     "metadata": {
      "needs_background": "light"
     },
     "output_type": "display_data"
    },
    {
     "name": "stdout",
     "output_type": "stream",
     "text": [
      "313/313 [==============================] - 1s 3ms/step - loss: 0.0805 - accuracy: 0.9844\n",
      "Test accuracy: 0.9843999743461609\n"
     ]
    }
   ],
   "source": [
    "model_2 = models.Sequential()\n",
    "\n",
    "model_2.add(layers.Dense(512, input_shape=(x_train_pca[1].shape), activation='relu',\n",
    "                        kernel_initializer=initializers.HeNormal()))\n",
    "\n",
    "model_2.add(layers.Dense(256, activation='relu',\n",
    "                        kernel_initializer=initializers.HeNormal()))\n",
    "\n",
    "model_2.add(layers.Dense(10))\n",
    "\n",
    "model_2.summary()\n",
    "\n",
    "model_2.compile(optimizer=tf.keras.optimizers.Adam(learning_rate=0.001),\n",
    "                loss=tf.keras.losses.CategoricalCrossentropy(from_logits=True),metrics=['accuracy'])\n",
    "\n",
    "start = time.time()\n",
    "\n",
    "#Train model\n",
    "history = model_2.fit(x_train_pca, y_train, epochs=50, batch_size=256, validation_split=0.2, verbose=1)\n",
    "\n",
    "end = time.time()\n",
    "print(\"Training time: {}s\\n\".format(end-start))\n",
    "\n",
    "plt.figure(5)\n",
    "plt.plot(history.history['accuracy'],label='train')\n",
    "plt.plot(history.history['val_accuracy'],label='test')\n",
    "plt.legend()\n",
    "plt.title('Accuracy on training and validation sets')\n",
    "plt.show()\n",
    "\n",
    "plt.figure(6)\n",
    "plt.plot(history.history['loss'],label='train')\n",
    "plt.plot(history.history['val_loss'],label='test')\n",
    "plt.legend()\n",
    "plt.title('Loss on training and validation sets')\n",
    "plt.show()\n",
    "\n",
    "score = model_2.evaluate(x_test_pca, y_test)\n",
    "print('Test accuracy:', score[1])"
   ]
  },
  {
   "cell_type": "markdown",
   "metadata": {
    "id": "5a6sUxdNhuNk"
   },
   "source": [
    "The network is not actually deep enough to have problems with exploding or vanishing gradients, so we don't really notice a significant difference in results compared to model 1.1.\n",
    "\n",
    "Now, it's time time to deal with overfitting."
   ]
  },
  {
   "cell_type": "markdown",
   "metadata": {
    "id": "SXQ32mefi8km"
   },
   "source": [
    "## **Model 3:** L1-Regularization of the weights\n",
    "\n",
    "Regularization of the weights is used to control the model's complexity and avoid overfitting. The idea behind L1 and L2 regularization is to modify the cost function so that bigger weights cause the cost function to get bigger values. Eventually, in L1 regularization some weights will get 0 values meaning that the connection of this neuron is not active. The cost function only increases by a small percentage of the L1 norm of the weights, here we use a factor of a=0.01."
   ]
  },
  {
   "cell_type": "code",
   "execution_count": null,
   "metadata": {
    "colab": {
     "base_uri": "https://localhost:8080/",
     "height": 1000
    },
    "id": "7HPxAZr3miJl",
    "outputId": "a40d40cd-2440-4295-8edc-709e3a187570"
   },
   "outputs": [
    {
     "name": "stdout",
     "output_type": "stream",
     "text": [
      "Model: \"sequential_14\"\n",
      "_________________________________________________________________\n",
      " Layer (type)                Output Shape              Param #   \n",
      "=================================================================\n",
      " dense_31 (Dense)            (None, 512)               45056     \n",
      "                                                                 \n",
      " dense_32 (Dense)            (None, 256)               131328    \n",
      "                                                                 \n",
      " dense_33 (Dense)            (None, 10)                2570      \n",
      "                                                                 \n",
      "=================================================================\n",
      "Total params: 178,954\n",
      "Trainable params: 178,954\n",
      "Non-trainable params: 0\n",
      "_________________________________________________________________\n",
      "Epoch 1/50\n",
      "188/188 [==============================] - 2s 6ms/step - loss: 42.8515 - accuracy: 0.7221 - val_loss: 8.7525 - val_accuracy: 0.7793\n",
      "Epoch 2/50\n",
      "188/188 [==============================] - 1s 5ms/step - loss: 3.4149 - accuracy: 0.7859 - val_loss: 1.4495 - val_accuracy: 0.8232\n",
      "Epoch 3/50\n",
      "188/188 [==============================] - 1s 5ms/step - loss: 1.3543 - accuracy: 0.8331 - val_loss: 1.2201 - val_accuracy: 0.8608\n",
      "Epoch 4/50\n",
      "188/188 [==============================] - 1s 5ms/step - loss: 1.1947 - accuracy: 0.8556 - val_loss: 1.1160 - val_accuracy: 0.8707\n",
      "Epoch 5/50\n",
      "188/188 [==============================] - 1s 5ms/step - loss: 1.1163 - accuracy: 0.8634 - val_loss: 1.0588 - val_accuracy: 0.8745\n",
      "Epoch 6/50\n",
      "188/188 [==============================] - 1s 4ms/step - loss: 1.0687 - accuracy: 0.8690 - val_loss: 1.0213 - val_accuracy: 0.8798\n",
      "Epoch 7/50\n",
      "188/188 [==============================] - 1s 5ms/step - loss: 1.0368 - accuracy: 0.8711 - val_loss: 0.9955 - val_accuracy: 0.8788\n",
      "Epoch 8/50\n",
      "188/188 [==============================] - 1s 5ms/step - loss: 1.0115 - accuracy: 0.8738 - val_loss: 0.9700 - val_accuracy: 0.8824\n",
      "Epoch 9/50\n",
      "188/188 [==============================] - 1s 5ms/step - loss: 0.9872 - accuracy: 0.8761 - val_loss: 0.9522 - val_accuracy: 0.8861\n",
      "Epoch 10/50\n",
      "188/188 [==============================] - 1s 5ms/step - loss: 0.9724 - accuracy: 0.8788 - val_loss: 0.9349 - val_accuracy: 0.8865\n",
      "Epoch 11/50\n",
      "188/188 [==============================] - 1s 5ms/step - loss: 0.9582 - accuracy: 0.8803 - val_loss: 0.9220 - val_accuracy: 0.8882\n",
      "Epoch 12/50\n",
      "188/188 [==============================] - 1s 5ms/step - loss: 0.9468 - accuracy: 0.8820 - val_loss: 0.9131 - val_accuracy: 0.8888\n",
      "Epoch 13/50\n",
      "188/188 [==============================] - 1s 5ms/step - loss: 0.9354 - accuracy: 0.8832 - val_loss: 0.9024 - val_accuracy: 0.8900\n",
      "Epoch 14/50\n",
      "188/188 [==============================] - 1s 5ms/step - loss: 0.9262 - accuracy: 0.8846 - val_loss: 0.8930 - val_accuracy: 0.8912\n",
      "Epoch 15/50\n",
      "188/188 [==============================] - 1s 5ms/step - loss: 0.9182 - accuracy: 0.8858 - val_loss: 0.8874 - val_accuracy: 0.8925\n",
      "Epoch 16/50\n",
      "188/188 [==============================] - 1s 5ms/step - loss: 0.9092 - accuracy: 0.8868 - val_loss: 0.8772 - val_accuracy: 0.8941\n",
      "Epoch 17/50\n",
      "188/188 [==============================] - 1s 5ms/step - loss: 0.9014 - accuracy: 0.8883 - val_loss: 0.8678 - val_accuracy: 0.8950\n",
      "Epoch 18/50\n",
      "188/188 [==============================] - 1s 5ms/step - loss: 0.8944 - accuracy: 0.8887 - val_loss: 0.8605 - val_accuracy: 0.8953\n",
      "Epoch 19/50\n",
      "188/188 [==============================] - 1s 5ms/step - loss: 0.8879 - accuracy: 0.8896 - val_loss: 0.8574 - val_accuracy: 0.8963\n",
      "Epoch 20/50\n",
      "188/188 [==============================] - 1s 5ms/step - loss: 0.8832 - accuracy: 0.8904 - val_loss: 0.8510 - val_accuracy: 0.8982\n",
      "Epoch 21/50\n",
      "188/188 [==============================] - 1s 5ms/step - loss: 0.8758 - accuracy: 0.8909 - val_loss: 0.8443 - val_accuracy: 0.8981\n",
      "Epoch 22/50\n",
      "188/188 [==============================] - 1s 5ms/step - loss: 0.8713 - accuracy: 0.8917 - val_loss: 0.8408 - val_accuracy: 0.8975\n",
      "Epoch 23/50\n",
      "188/188 [==============================] - 1s 5ms/step - loss: 0.8654 - accuracy: 0.8921 - val_loss: 0.8352 - val_accuracy: 0.8987\n",
      "Epoch 24/50\n",
      "188/188 [==============================] - 1s 5ms/step - loss: 0.8610 - accuracy: 0.8923 - val_loss: 0.8308 - val_accuracy: 0.8996\n",
      "Epoch 25/50\n",
      "188/188 [==============================] - 1s 5ms/step - loss: 0.8561 - accuracy: 0.8923 - val_loss: 0.8281 - val_accuracy: 0.9011\n",
      "Epoch 26/50\n",
      "188/188 [==============================] - 1s 5ms/step - loss: 0.8521 - accuracy: 0.8933 - val_loss: 0.8221 - val_accuracy: 0.9000\n",
      "Epoch 27/50\n",
      "188/188 [==============================] - 1s 5ms/step - loss: 0.8475 - accuracy: 0.8934 - val_loss: 0.8179 - val_accuracy: 0.9011\n",
      "Epoch 28/50\n",
      "188/188 [==============================] - 1s 4ms/step - loss: 0.8436 - accuracy: 0.8940 - val_loss: 0.8140 - val_accuracy: 0.9009\n",
      "Epoch 29/50\n",
      "188/188 [==============================] - 1s 5ms/step - loss: 0.8397 - accuracy: 0.8945 - val_loss: 0.8101 - val_accuracy: 0.9019\n",
      "Epoch 30/50\n",
      "188/188 [==============================] - 1s 5ms/step - loss: 0.8375 - accuracy: 0.8935 - val_loss: 0.8077 - val_accuracy: 0.9024\n",
      "Epoch 31/50\n",
      "188/188 [==============================] - 1s 5ms/step - loss: 0.8346 - accuracy: 0.8949 - val_loss: 0.8062 - val_accuracy: 0.9022\n",
      "Epoch 32/50\n",
      "188/188 [==============================] - 1s 5ms/step - loss: 0.8305 - accuracy: 0.8942 - val_loss: 0.8010 - val_accuracy: 0.9031\n",
      "Epoch 33/50\n",
      "188/188 [==============================] - 1s 4ms/step - loss: 0.8282 - accuracy: 0.8950 - val_loss: 0.7975 - val_accuracy: 0.9034\n",
      "Epoch 34/50\n",
      "188/188 [==============================] - 1s 5ms/step - loss: 0.8250 - accuracy: 0.8949 - val_loss: 0.7954 - val_accuracy: 0.9035\n",
      "Epoch 35/50\n",
      "188/188 [==============================] - 1s 5ms/step - loss: 0.8226 - accuracy: 0.8954 - val_loss: 0.7983 - val_accuracy: 0.9032\n",
      "Epoch 36/50\n",
      "188/188 [==============================] - 1s 5ms/step - loss: 0.8208 - accuracy: 0.8960 - val_loss: 0.7930 - val_accuracy: 0.9045\n",
      "Epoch 37/50\n",
      "188/188 [==============================] - 1s 5ms/step - loss: 0.8172 - accuracy: 0.8967 - val_loss: 0.7891 - val_accuracy: 0.9034\n",
      "Epoch 38/50\n",
      "188/188 [==============================] - 1s 5ms/step - loss: 0.8150 - accuracy: 0.8967 - val_loss: 0.7887 - val_accuracy: 0.9036\n",
      "Epoch 39/50\n",
      "188/188 [==============================] - 1s 5ms/step - loss: 0.8135 - accuracy: 0.8963 - val_loss: 0.7825 - val_accuracy: 0.9047\n",
      "Epoch 40/50\n",
      "188/188 [==============================] - 1s 5ms/step - loss: 0.8096 - accuracy: 0.8967 - val_loss: 0.7805 - val_accuracy: 0.9031\n",
      "Epoch 41/50\n",
      "188/188 [==============================] - 1s 5ms/step - loss: 0.8074 - accuracy: 0.8971 - val_loss: 0.7784 - val_accuracy: 0.9060\n",
      "Epoch 42/50\n",
      "188/188 [==============================] - 1s 5ms/step - loss: 0.8055 - accuracy: 0.8978 - val_loss: 0.7808 - val_accuracy: 0.9034\n",
      "Epoch 43/50\n",
      "188/188 [==============================] - 1s 5ms/step - loss: 0.8022 - accuracy: 0.8977 - val_loss: 0.7786 - val_accuracy: 0.9044\n",
      "Epoch 44/50\n",
      "188/188 [==============================] - 1s 5ms/step - loss: 0.8018 - accuracy: 0.8979 - val_loss: 0.7755 - val_accuracy: 0.9056\n",
      "Epoch 45/50\n",
      "188/188 [==============================] - 1s 5ms/step - loss: 0.7993 - accuracy: 0.8982 - val_loss: 0.7709 - val_accuracy: 0.9047\n",
      "Epoch 46/50\n",
      "188/188 [==============================] - 1s 5ms/step - loss: 0.7980 - accuracy: 0.8976 - val_loss: 0.7708 - val_accuracy: 0.9057\n",
      "Epoch 47/50\n",
      "188/188 [==============================] - 1s 5ms/step - loss: 0.7939 - accuracy: 0.8987 - val_loss: 0.7649 - val_accuracy: 0.9054\n",
      "Epoch 48/50\n",
      "188/188 [==============================] - 1s 5ms/step - loss: 0.7919 - accuracy: 0.8983 - val_loss: 0.7636 - val_accuracy: 0.9069\n",
      "Epoch 49/50\n",
      "188/188 [==============================] - 1s 5ms/step - loss: 0.7892 - accuracy: 0.8985 - val_loss: 0.7632 - val_accuracy: 0.9062\n",
      "Epoch 50/50\n",
      "188/188 [==============================] - 1s 5ms/step - loss: 0.7876 - accuracy: 0.8989 - val_loss: 0.7619 - val_accuracy: 0.9061\n",
      "Training time: 45.649213790893555s\n",
      "\n"
     ]
    },
    {
     "data": {
      "image/png": "[encoded data removed]",
      "text/plain": [
       "<Figure size 432x288 with 1 Axes>"
      ]
     },
     "metadata": {
      "needs_background": "light"
     },
     "output_type": "display_data"
    },
    {
     "data": {
      "image/png": "[encoded data removed]",
      "text/plain": [
       "<Figure size 432x288 with 1 Axes>"
      ]
     },
     "metadata": {
      "needs_background": "light"
     },
     "output_type": "display_data"
    },
    {
     "name": "stdout",
     "output_type": "stream",
     "text": [
      "313/313 [==============================] - 1s 3ms/step - loss: 0.7694 - accuracy: 0.9032\n",
      "Test accuracy: 0.9031999707221985\n"
     ]
    }
   ],
   "source": [
    "model_3 = models.Sequential()\n",
    "\n",
    "model_3.add(layers.Dense(512, input_shape=(x_train_pca[1].shape), activation='relu',\n",
    "                         kernel_regularizer=regularizers.l1(0.01),\n",
    "                        kernel_initializer=initializers.HeNormal()))\n",
    "\n",
    "model_3.add(layers.Dense(256, activation='relu',\n",
    "                         kernel_regularizer=regularizers.l1(0.01),\n",
    "                        kernel_initializer=initializers.HeNormal()))\n",
    "\n",
    "model_3.add(layers.Dense(10))\n",
    "\n",
    "model_3.summary()\n",
    "\n",
    "model_3.compile(optimizer=tf.keras.optimizers.Adam(learning_rate=0.001),\n",
    "                loss=tf.keras.losses.CategoricalCrossentropy(from_logits=True),metrics=['accuracy'])\n",
    "\n",
    "start = time.time()\n",
    "\n",
    "#Train model\n",
    "history = model_3.fit(x_train_pca, y_train, epochs=50, batch_size=256, validation_split=0.2, verbose=1)\n",
    "\n",
    "end = time.time()\n",
    "print(\"Training time: {}s\\n\".format(end-start))\n",
    "\n",
    "plt.figure(5)\n",
    "plt.plot(history.history['accuracy'],label='train')\n",
    "plt.plot(history.history['val_accuracy'],label='test')\n",
    "plt.legend()\n",
    "plt.title('Accuracy on training and validation sets')\n",
    "plt.show()\n",
    "\n",
    "plt.figure(6)\n",
    "plt.plot(history.history['loss'],label='train')\n",
    "plt.plot(history.history['val_loss'],label='test')\n",
    "plt.legend()\n",
    "plt.title('Loss on training and validation sets')\n",
    "plt.show()\n",
    "\n",
    "score = model_3.evaluate(x_test_pca, y_test)\n",
    "print('Test accuracy:', score[1])"
   ]
  },
  {
   "cell_type": "markdown",
   "metadata": {
    "id": "OIe7VAq5mm5I"
   },
   "source": [
    "As we can see from the learning curves, the cost function seems to decrease in both train and validation sets meaning we have no overfitting. However, it might be the case now that we have underfitting since the accuracy in the validation set is bigger than the accuracy on the training set.\n",
    "\n",
    "Moreover, this model also seems to underperform due to the lower accuracy that achieves on the test set. Maybe with better fine-tuning of the hyperparameter a we would be able to achieve better performance."
   ]
  },
  {
   "cell_type": "markdown",
   "metadata": {
    "id": "FKTsk2O4mnc5"
   },
   "source": [
    "## **Model 4:** L2-Regularization of the weights\n",
    "\n",
    "Let's try something similar to model 3 but now the weights are penalized in the cost function using their L2 norm. Again we will use a factor a=0.01."
   ]
  },
  {
   "cell_type": "code",
   "execution_count": 31,
   "metadata": {
    "colab": {
     "base_uri": "https://localhost:8080/",
     "height": 1000
    },
    "id": "3VUQnso1n-FK",
    "outputId": "55732ca5-99cf-44a6-8887-32ee141e5665"
   },
   "outputs": [
    {
     "name": "stdout",
     "output_type": "stream",
     "text": [
      "Model: \"sequential_16\"\n",
      "_________________________________________________________________\n",
      " Layer (type)                Output Shape              Param #   \n",
      "=================================================================\n",
      " dense_37 (Dense)            (None, 512)               45056     \n",
      "                                                                 \n",
      " dense_38 (Dense)            (None, 256)               131328    \n",
      "                                                                 \n",
      " dense_39 (Dense)            (None, 10)                2570      \n",
      "                                                                 \n",
      "=================================================================\n",
      "Total params: 178,954\n",
      "Trainable params: 178,954\n",
      "Non-trainable params: 0\n",
      "_________________________________________________________________\n",
      "Epoch 1/50\n",
      "188/188 [==============================] - 2s 6ms/step - loss: 6.8398 - accuracy: 0.8905 - val_loss: 2.0148 - val_accuracy: 0.9341\n",
      "Epoch 2/50\n",
      "188/188 [==============================] - 1s 5ms/step - loss: 1.0954 - accuracy: 0.9330 - val_loss: 0.6192 - val_accuracy: 0.9425\n",
      "Epoch 3/50\n",
      "188/188 [==============================] - 1s 5ms/step - loss: 0.5307 - accuracy: 0.9377 - val_loss: 0.4554 - val_accuracy: 0.9447\n",
      "Epoch 4/50\n",
      "188/188 [==============================] - 1s 5ms/step - loss: 0.4497 - accuracy: 0.9406 - val_loss: 0.4152 - val_accuracy: 0.9480\n",
      "Epoch 5/50\n",
      "188/188 [==============================] - 1s 5ms/step - loss: 0.4173 - accuracy: 0.9445 - val_loss: 0.3949 - val_accuracy: 0.9525\n",
      "Epoch 6/50\n",
      "188/188 [==============================] - 1s 5ms/step - loss: 0.3930 - accuracy: 0.9482 - val_loss: 0.3727 - val_accuracy: 0.9562\n",
      "Epoch 7/50\n",
      "188/188 [==============================] - 1s 5ms/step - loss: 0.3750 - accuracy: 0.9500 - val_loss: 0.3536 - val_accuracy: 0.9578\n",
      "Epoch 8/50\n",
      "188/188 [==============================] - 1s 5ms/step - loss: 0.3606 - accuracy: 0.9528 - val_loss: 0.3466 - val_accuracy: 0.9558\n",
      "Epoch 9/50\n",
      "188/188 [==============================] - 1s 5ms/step - loss: 0.3466 - accuracy: 0.9544 - val_loss: 0.3283 - val_accuracy: 0.9589\n",
      "Epoch 10/50\n",
      "188/188 [==============================] - 1s 5ms/step - loss: 0.3331 - accuracy: 0.9570 - val_loss: 0.3286 - val_accuracy: 0.9564\n",
      "Epoch 11/50\n",
      "188/188 [==============================] - 1s 5ms/step - loss: 0.3257 - accuracy: 0.9579 - val_loss: 0.3223 - val_accuracy: 0.9570\n",
      "Epoch 12/50\n",
      "188/188 [==============================] - 1s 5ms/step - loss: 0.3135 - accuracy: 0.9597 - val_loss: 0.3047 - val_accuracy: 0.9616\n",
      "Epoch 13/50\n",
      "188/188 [==============================] - 1s 5ms/step - loss: 0.3068 - accuracy: 0.9607 - val_loss: 0.3012 - val_accuracy: 0.9628\n",
      "Epoch 14/50\n",
      "188/188 [==============================] - 1s 5ms/step - loss: 0.2994 - accuracy: 0.9610 - val_loss: 0.2939 - val_accuracy: 0.9609\n",
      "Epoch 15/50\n",
      "188/188 [==============================] - 1s 5ms/step - loss: 0.2920 - accuracy: 0.9623 - val_loss: 0.2858 - val_accuracy: 0.9638\n",
      "Epoch 16/50\n",
      "188/188 [==============================] - 1s 4ms/step - loss: 0.2845 - accuracy: 0.9628 - val_loss: 0.2803 - val_accuracy: 0.9661\n",
      "Epoch 17/50\n",
      "188/188 [==============================] - 1s 5ms/step - loss: 0.2797 - accuracy: 0.9641 - val_loss: 0.2764 - val_accuracy: 0.9653\n",
      "Epoch 18/50\n",
      "188/188 [==============================] - 1s 5ms/step - loss: 0.2739 - accuracy: 0.9645 - val_loss: 0.2677 - val_accuracy: 0.9679\n",
      "Epoch 19/50\n",
      "188/188 [==============================] - 1s 5ms/step - loss: 0.2702 - accuracy: 0.9652 - val_loss: 0.2681 - val_accuracy: 0.9641\n",
      "Epoch 20/50\n",
      "188/188 [==============================] - 1s 5ms/step - loss: 0.2623 - accuracy: 0.9675 - val_loss: 0.2649 - val_accuracy: 0.9644\n",
      "Epoch 21/50\n",
      "188/188 [==============================] - 1s 5ms/step - loss: 0.2595 - accuracy: 0.9668 - val_loss: 0.2571 - val_accuracy: 0.9680\n",
      "Epoch 22/50\n",
      "188/188 [==============================] - 1s 5ms/step - loss: 0.2559 - accuracy: 0.9675 - val_loss: 0.2557 - val_accuracy: 0.9661\n",
      "Epoch 23/50\n",
      "188/188 [==============================] - 1s 5ms/step - loss: 0.2518 - accuracy: 0.9678 - val_loss: 0.2524 - val_accuracy: 0.9685\n",
      "Epoch 24/50\n",
      "188/188 [==============================] - 1s 5ms/step - loss: 0.2473 - accuracy: 0.9690 - val_loss: 0.2455 - val_accuracy: 0.9706\n",
      "Epoch 25/50\n",
      "188/188 [==============================] - 1s 5ms/step - loss: 0.2446 - accuracy: 0.9686 - val_loss: 0.2405 - val_accuracy: 0.9694\n",
      "Epoch 26/50\n",
      "188/188 [==============================] - 1s 5ms/step - loss: 0.2412 - accuracy: 0.9691 - val_loss: 0.2488 - val_accuracy: 0.9676\n",
      "Epoch 27/50\n",
      "188/188 [==============================] - 1s 5ms/step - loss: 0.2370 - accuracy: 0.9696 - val_loss: 0.2443 - val_accuracy: 0.9664\n",
      "Epoch 28/50\n",
      "188/188 [==============================] - 1s 5ms/step - loss: 0.2359 - accuracy: 0.9696 - val_loss: 0.2363 - val_accuracy: 0.9697\n",
      "Epoch 29/50\n",
      "188/188 [==============================] - 1s 5ms/step - loss: 0.2322 - accuracy: 0.9709 - val_loss: 0.2355 - val_accuracy: 0.9686\n",
      "Epoch 30/50\n",
      "188/188 [==============================] - 1s 5ms/step - loss: 0.2301 - accuracy: 0.9707 - val_loss: 0.2303 - val_accuracy: 0.9696\n",
      "Epoch 31/50\n",
      "188/188 [==============================] - 1s 5ms/step - loss: 0.2260 - accuracy: 0.9715 - val_loss: 0.2241 - val_accuracy: 0.9706\n",
      "Epoch 32/50\n",
      "188/188 [==============================] - 1s 5ms/step - loss: 0.2231 - accuracy: 0.9724 - val_loss: 0.2233 - val_accuracy: 0.9718\n",
      "Epoch 33/50\n",
      "188/188 [==============================] - 1s 5ms/step - loss: 0.2207 - accuracy: 0.9723 - val_loss: 0.2248 - val_accuracy: 0.9714\n",
      "Epoch 34/50\n",
      "188/188 [==============================] - 1s 5ms/step - loss: 0.2196 - accuracy: 0.9720 - val_loss: 0.2217 - val_accuracy: 0.9720\n",
      "Epoch 35/50\n",
      "188/188 [==============================] - 1s 5ms/step - loss: 0.2189 - accuracy: 0.9724 - val_loss: 0.2270 - val_accuracy: 0.9702\n",
      "Epoch 36/50\n",
      "188/188 [==============================] - 1s 5ms/step - loss: 0.2152 - accuracy: 0.9731 - val_loss: 0.2166 - val_accuracy: 0.9718\n",
      "Epoch 37/50\n",
      "188/188 [==============================] - 1s 5ms/step - loss: 0.2140 - accuracy: 0.9729 - val_loss: 0.2150 - val_accuracy: 0.9718\n",
      "Epoch 38/50\n",
      "188/188 [==============================] - 1s 5ms/step - loss: 0.2110 - accuracy: 0.9738 - val_loss: 0.2129 - val_accuracy: 0.9716\n",
      "Epoch 39/50\n",
      "188/188 [==============================] - 1s 5ms/step - loss: 0.2093 - accuracy: 0.9732 - val_loss: 0.2276 - val_accuracy: 0.9678\n",
      "Epoch 40/50\n",
      "188/188 [==============================] - 1s 5ms/step - loss: 0.2094 - accuracy: 0.9729 - val_loss: 0.2212 - val_accuracy: 0.9688\n",
      "Epoch 41/50\n",
      "188/188 [==============================] - 1s 5ms/step - loss: 0.2061 - accuracy: 0.9737 - val_loss: 0.2076 - val_accuracy: 0.9733\n",
      "Epoch 42/50\n",
      "188/188 [==============================] - 1s 5ms/step - loss: 0.2046 - accuracy: 0.9741 - val_loss: 0.2074 - val_accuracy: 0.9733\n",
      "Epoch 43/50\n",
      "188/188 [==============================] - 1s 5ms/step - loss: 0.2046 - accuracy: 0.9740 - val_loss: 0.2064 - val_accuracy: 0.9726\n",
      "Epoch 44/50\n",
      "188/188 [==============================] - 1s 4ms/step - loss: 0.2008 - accuracy: 0.9744 - val_loss: 0.2059 - val_accuracy: 0.9722\n",
      "Epoch 45/50\n",
      "188/188 [==============================] - 1s 5ms/step - loss: 0.2001 - accuracy: 0.9747 - val_loss: 0.2052 - val_accuracy: 0.9727\n",
      "Epoch 46/50\n",
      "188/188 [==============================] - 1s 5ms/step - loss: 0.1999 - accuracy: 0.9742 - val_loss: 0.2007 - val_accuracy: 0.9741\n",
      "Epoch 47/50\n",
      "188/188 [==============================] - 1s 5ms/step - loss: 0.1958 - accuracy: 0.9754 - val_loss: 0.1994 - val_accuracy: 0.9731\n",
      "Epoch 48/50\n",
      "188/188 [==============================] - 1s 5ms/step - loss: 0.1951 - accuracy: 0.9748 - val_loss: 0.2020 - val_accuracy: 0.9722\n",
      "Epoch 49/50\n",
      "188/188 [==============================] - 1s 5ms/step - loss: 0.1943 - accuracy: 0.9751 - val_loss: 0.2098 - val_accuracy: 0.9698\n",
      "Epoch 50/50\n",
      "188/188 [==============================] - 1s 5ms/step - loss: 0.1941 - accuracy: 0.9753 - val_loss: 0.2041 - val_accuracy: 0.9705\n",
      "Training time: 82.4845643043518s\n",
      "\n"
     ]
    },
    {
     "data": {
      "image/png": "[encoded data removed]",
      "text/plain": [
       "<Figure size 432x288 with 1 Axes>"
      ]
     },
     "metadata": {
      "needs_background": "light"
     },
     "output_type": "display_data"
    },
    {
     "data": {
      "image/png": "[encoded data removed]",
      "text/plain": [
       "<Figure size 432x288 with 1 Axes>"
      ]
     },
     "metadata": {
      "needs_background": "light"
     },
     "output_type": "display_data"
    },
    {
     "name": "stdout",
     "output_type": "stream",
     "text": [
      "313/313 [==============================] - 1s 3ms/step - loss: 0.2038 - accuracy: 0.9710\n",
      "Test accuracy: 0.9710000157356262\n"
     ]
    }
   ],
   "source": [
    "model_4 = models.Sequential()\n",
    "\n",
    "model_4.add(layers.Dense(512, input_shape=(x_train_pca[1].shape), activation='relu',\n",
    "                         kernel_regularizer=regularizers.l2(0.01),\n",
    "                        kernel_initializer=initializers.HeNormal()))\n",
    "\n",
    "model_4.add(layers.Dense(256, activation='relu',\n",
    "                         kernel_regularizer=regularizers.l2(0.01),\n",
    "                        kernel_initializer=initializers.HeNormal()))\n",
    "\n",
    "model_4.add(layers.Dense(10))\n",
    "\n",
    "model_4.summary()\n",
    "\n",
    "model_4.compile(optimizer=tf.keras.optimizers.Adam(learning_rate=0.001),\n",
    "                loss=tf.keras.losses.CategoricalCrossentropy(from_logits=True),metrics=['accuracy'])\n",
    "\n",
    "start = time.time()\n",
    "\n",
    "#Train model\n",
    "history = model_4.fit(x_train_pca, y_train, epochs=50, batch_size=256, validation_split=0.2, verbose=1)\n",
    "\n",
    "end = time.time()\n",
    "print(\"Training time: {}s\\n\".format(end-start))\n",
    "\n",
    "plt.figure()\n",
    "plt.plot(history.history['accuracy'],label='train')\n",
    "plt.plot(history.history['val_accuracy'],label='test')\n",
    "plt.legend()\n",
    "plt.title('Accuracy on training and validation sets')\n",
    "plt.show()\n",
    "\n",
    "plt.figure()\n",
    "plt.plot(history.history['loss'],label='train')\n",
    "plt.plot(history.history['val_loss'],label='test')\n",
    "plt.legend()\n",
    "plt.title('Loss on training and validation sets')\n",
    "plt.show()\n",
    "\n",
    "score = model_4.evaluate(x_test_pca, y_test)\n",
    "print('Test accuracy:', score[1])"
   ]
  },
  {
   "cell_type": "markdown",
   "metadata": {
    "id": "w4C0flyWo5kN"
   },
   "source": [
    "The results regarding the test set are clearly better than that of model 3 with the L1 regularization but the model is still underperforming compared to some of the previous ones.\n",
    "\n",
    "We can see here, too, that there might be a little bit of underfitting since the accuracy in the training and the validation set is pretty close to each other."
   ]
  },
  {
   "cell_type": "markdown",
   "metadata": {
    "id": "du7NhKhpp9Ow"
   },
   "source": [
    "## **Model 5:** Dropout\n",
    "\n",
    "One of the most common regularization techniques used is that of dropout. The main idea behind dropout is that we train ensembles of models consisting of all subnetworks of the initial network in order to reduce complexity of the model. These subnetworks are formed by removing non-input units from the parent network using a probabilistic rule.\n",
    "\n",
    "Due to the fact that exponentially many models are created, a practical way to apply dropout is by evaluating a simple model and applying an apprpriate weight scaling: the weight of each unit is multiplied by the probability of including that same unit.\n",
    "\n",
    "In our case we use a probablity p=0.2 of dropping a unit."
   ]
  },
  {
   "cell_type": "code",
   "execution_count": 32,
   "metadata": {
    "colab": {
     "base_uri": "https://localhost:8080/",
     "height": 1000
    },
    "id": "t-gBp3JnrL_q",
    "outputId": "6dad1c0c-e613-4fb7-8535-eaf9047ddcb7"
   },
   "outputs": [
    {
     "name": "stdout",
     "output_type": "stream",
     "text": [
      "Model: \"sequential_17\"\n",
      "_________________________________________________________________\n",
      " Layer (type)                Output Shape              Param #   \n",
      "=================================================================\n",
      " dense_40 (Dense)            (None, 512)               45056     \n",
      "                                                                 \n",
      " dropout (Dropout)           (None, 512)               0         \n",
      "                                                                 \n",
      " dense_41 (Dense)            (None, 256)               131328    \n",
      "                                                                 \n",
      " dropout_1 (Dropout)         (None, 256)               0         \n",
      "                                                                 \n",
      " dense_42 (Dense)            (None, 10)                2570      \n",
      "                                                                 \n",
      "=================================================================\n",
      "Total params: 178,954\n",
      "Trainable params: 178,954\n",
      "Non-trainable params: 0\n",
      "_________________________________________________________________\n",
      "Epoch 1/50\n",
      "188/188 [==============================] - 2s 6ms/step - loss: 0.4154 - accuracy: 0.8717 - val_loss: 0.1568 - val_accuracy: 0.9549\n",
      "Epoch 2/50\n",
      "188/188 [==============================] - 1s 5ms/step - loss: 0.1762 - accuracy: 0.9467 - val_loss: 0.1126 - val_accuracy: 0.9663\n",
      "Epoch 3/50\n",
      "188/188 [==============================] - 1s 5ms/step - loss: 0.1272 - accuracy: 0.9601 - val_loss: 0.0956 - val_accuracy: 0.9707\n",
      "Epoch 4/50\n",
      "188/188 [==============================] - 1s 5ms/step - loss: 0.0980 - accuracy: 0.9702 - val_loss: 0.0832 - val_accuracy: 0.9751\n",
      "Epoch 5/50\n",
      "188/188 [==============================] - 1s 5ms/step - loss: 0.0796 - accuracy: 0.9747 - val_loss: 0.0772 - val_accuracy: 0.9762\n",
      "Epoch 6/50\n",
      "188/188 [==============================] - 1s 5ms/step - loss: 0.0702 - accuracy: 0.9775 - val_loss: 0.0742 - val_accuracy: 0.9775\n",
      "Epoch 7/50\n",
      "188/188 [==============================] - 1s 5ms/step - loss: 0.0592 - accuracy: 0.9809 - val_loss: 0.0706 - val_accuracy: 0.9788\n",
      "Epoch 8/50\n",
      "188/188 [==============================] - 1s 5ms/step - loss: 0.0521 - accuracy: 0.9829 - val_loss: 0.0689 - val_accuracy: 0.9801\n",
      "Epoch 9/50\n",
      "188/188 [==============================] - 1s 5ms/step - loss: 0.0438 - accuracy: 0.9861 - val_loss: 0.0650 - val_accuracy: 0.9802\n",
      "Epoch 10/50\n",
      "188/188 [==============================] - 1s 5ms/step - loss: 0.0393 - accuracy: 0.9869 - val_loss: 0.0661 - val_accuracy: 0.9794\n",
      "Epoch 11/50\n",
      "188/188 [==============================] - 1s 5ms/step - loss: 0.0345 - accuracy: 0.9886 - val_loss: 0.0605 - val_accuracy: 0.9826\n",
      "Epoch 12/50\n",
      "188/188 [==============================] - 1s 5ms/step - loss: 0.0309 - accuracy: 0.9900 - val_loss: 0.0643 - val_accuracy: 0.9822\n",
      "Epoch 13/50\n",
      "188/188 [==============================] - 1s 5ms/step - loss: 0.0281 - accuracy: 0.9902 - val_loss: 0.0671 - val_accuracy: 0.9818\n",
      "Epoch 14/50\n",
      "188/188 [==============================] - 1s 5ms/step - loss: 0.0251 - accuracy: 0.9917 - val_loss: 0.0645 - val_accuracy: 0.9819\n",
      "Epoch 15/50\n",
      "188/188 [==============================] - 1s 5ms/step - loss: 0.0242 - accuracy: 0.9923 - val_loss: 0.0659 - val_accuracy: 0.9818\n",
      "Epoch 16/50\n",
      "188/188 [==============================] - 1s 5ms/step - loss: 0.0219 - accuracy: 0.9926 - val_loss: 0.0651 - val_accuracy: 0.9825\n",
      "Epoch 17/50\n",
      "188/188 [==============================] - 1s 5ms/step - loss: 0.0182 - accuracy: 0.9936 - val_loss: 0.0705 - val_accuracy: 0.9810\n",
      "Epoch 18/50\n",
      "188/188 [==============================] - 1s 5ms/step - loss: 0.0193 - accuracy: 0.9931 - val_loss: 0.0659 - val_accuracy: 0.9822\n",
      "Epoch 19/50\n",
      "188/188 [==============================] - 1s 5ms/step - loss: 0.0175 - accuracy: 0.9941 - val_loss: 0.0676 - val_accuracy: 0.9818\n",
      "Epoch 20/50\n",
      "188/188 [==============================] - 1s 5ms/step - loss: 0.0159 - accuracy: 0.9946 - val_loss: 0.0682 - val_accuracy: 0.9817\n",
      "Epoch 21/50\n",
      "188/188 [==============================] - 1s 5ms/step - loss: 0.0147 - accuracy: 0.9954 - val_loss: 0.0693 - val_accuracy: 0.9819\n",
      "Epoch 22/50\n",
      "188/188 [==============================] - 1s 5ms/step - loss: 0.0136 - accuracy: 0.9955 - val_loss: 0.0717 - val_accuracy: 0.9813\n",
      "Epoch 23/50\n",
      "188/188 [==============================] - 1s 5ms/step - loss: 0.0145 - accuracy: 0.9949 - val_loss: 0.0714 - val_accuracy: 0.9828\n",
      "Epoch 24/50\n",
      "188/188 [==============================] - 1s 5ms/step - loss: 0.0136 - accuracy: 0.9951 - val_loss: 0.0723 - val_accuracy: 0.9827\n",
      "Epoch 25/50\n",
      "188/188 [==============================] - 1s 5ms/step - loss: 0.0129 - accuracy: 0.9956 - val_loss: 0.0760 - val_accuracy: 0.9818\n",
      "Epoch 26/50\n",
      "188/188 [==============================] - 1s 5ms/step - loss: 0.0132 - accuracy: 0.9955 - val_loss: 0.0732 - val_accuracy: 0.9822\n",
      "Epoch 27/50\n",
      "188/188 [==============================] - 1s 5ms/step - loss: 0.0110 - accuracy: 0.9962 - val_loss: 0.0749 - val_accuracy: 0.9827\n",
      "Epoch 28/50\n",
      "188/188 [==============================] - 1s 5ms/step - loss: 0.0122 - accuracy: 0.9958 - val_loss: 0.0769 - val_accuracy: 0.9823\n",
      "Epoch 29/50\n",
      "188/188 [==============================] - 1s 5ms/step - loss: 0.0112 - accuracy: 0.9959 - val_loss: 0.0752 - val_accuracy: 0.9831\n",
      "Epoch 30/50\n",
      "188/188 [==============================] - 1s 5ms/step - loss: 0.0099 - accuracy: 0.9966 - val_loss: 0.0743 - val_accuracy: 0.9831\n",
      "Epoch 31/50\n",
      "188/188 [==============================] - 1s 5ms/step - loss: 0.0095 - accuracy: 0.9969 - val_loss: 0.0775 - val_accuracy: 0.9833\n",
      "Epoch 32/50\n",
      "188/188 [==============================] - 1s 5ms/step - loss: 0.0091 - accuracy: 0.9970 - val_loss: 0.0783 - val_accuracy: 0.9843\n",
      "Epoch 33/50\n",
      "188/188 [==============================] - 1s 5ms/step - loss: 0.0116 - accuracy: 0.9960 - val_loss: 0.0788 - val_accuracy: 0.9822\n",
      "Epoch 34/50\n",
      "188/188 [==============================] - 1s 5ms/step - loss: 0.0096 - accuracy: 0.9969 - val_loss: 0.0813 - val_accuracy: 0.9816\n",
      "Epoch 35/50\n",
      "188/188 [==============================] - 1s 5ms/step - loss: 0.0089 - accuracy: 0.9969 - val_loss: 0.0773 - val_accuracy: 0.9842\n",
      "Epoch 36/50\n",
      "188/188 [==============================] - 1s 5ms/step - loss: 0.0084 - accuracy: 0.9972 - val_loss: 0.0789 - val_accuracy: 0.9830\n",
      "Epoch 37/50\n",
      "188/188 [==============================] - 1s 5ms/step - loss: 0.0089 - accuracy: 0.9969 - val_loss: 0.0787 - val_accuracy: 0.9818\n",
      "Epoch 38/50\n",
      "188/188 [==============================] - 1s 5ms/step - loss: 0.0085 - accuracy: 0.9972 - val_loss: 0.0887 - val_accuracy: 0.9822\n",
      "Epoch 39/50\n",
      "188/188 [==============================] - 1s 5ms/step - loss: 0.0083 - accuracy: 0.9971 - val_loss: 0.0788 - val_accuracy: 0.9825\n",
      "Epoch 40/50\n",
      "188/188 [==============================] - 1s 5ms/step - loss: 0.0076 - accuracy: 0.9974 - val_loss: 0.0816 - val_accuracy: 0.9824\n",
      "Epoch 41/50\n",
      "188/188 [==============================] - 1s 5ms/step - loss: 0.0076 - accuracy: 0.9976 - val_loss: 0.0796 - val_accuracy: 0.9838\n",
      "Epoch 42/50\n",
      "188/188 [==============================] - 1s 5ms/step - loss: 0.0075 - accuracy: 0.9970 - val_loss: 0.0889 - val_accuracy: 0.9830\n",
      "Epoch 43/50\n",
      "188/188 [==============================] - 1s 5ms/step - loss: 0.0077 - accuracy: 0.9974 - val_loss: 0.0828 - val_accuracy: 0.9837\n",
      "Epoch 44/50\n",
      "188/188 [==============================] - 1s 5ms/step - loss: 0.0062 - accuracy: 0.9978 - val_loss: 0.0855 - val_accuracy: 0.9824\n",
      "Epoch 45/50\n",
      "188/188 [==============================] - 1s 5ms/step - loss: 0.0079 - accuracy: 0.9973 - val_loss: 0.0832 - val_accuracy: 0.9827\n",
      "Epoch 46/50\n",
      "188/188 [==============================] - 1s 5ms/step - loss: 0.0073 - accuracy: 0.9976 - val_loss: 0.0811 - val_accuracy: 0.9831\n",
      "Epoch 47/50\n",
      "188/188 [==============================] - 1s 5ms/step - loss: 0.0068 - accuracy: 0.9976 - val_loss: 0.0840 - val_accuracy: 0.9833\n",
      "Epoch 48/50\n",
      "188/188 [==============================] - 1s 5ms/step - loss: 0.0070 - accuracy: 0.9977 - val_loss: 0.0873 - val_accuracy: 0.9830\n",
      "Epoch 49/50\n",
      "188/188 [==============================] - 1s 5ms/step - loss: 0.0073 - accuracy: 0.9974 - val_loss: 0.0921 - val_accuracy: 0.9832\n",
      "Epoch 50/50\n",
      "188/188 [==============================] - 1s 5ms/step - loss: 0.0071 - accuracy: 0.9975 - val_loss: 0.0919 - val_accuracy: 0.9832\n",
      "Training time: 45.74432325363159s\n",
      "\n"
     ]
    },
    {
     "data": {
      "image/png": "[encoded data removed]",
      "text/plain": [
       "<Figure size 432x288 with 1 Axes>"
      ]
     },
     "metadata": {
      "needs_background": "light"
     },
     "output_type": "display_data"
    },
    {
     "data": {
      "image/png": "[encoded data removed]",
      "text/plain": [
       "<Figure size 432x288 with 1 Axes>"
      ]
     },
     "metadata": {
      "needs_background": "light"
     },
     "output_type": "display_data"
    },
    {
     "name": "stdout",
     "output_type": "stream",
     "text": [
      "313/313 [==============================] - 1s 3ms/step - loss: 0.0771 - accuracy: 0.9835\n",
      "Test accuracy: 0.9835000038146973\n"
     ]
    }
   ],
   "source": [
    "model_5 = models.Sequential()\n",
    "\n",
    "model_5.add(layers.Dense(512, input_shape=(x_train_pca[1].shape), activation='relu',\n",
    "                        kernel_initializer=initializers.HeNormal()))\n",
    "model_5.add(layers.Dropout(0.2))\n",
    "\n",
    "model_5.add(layers.Dense(256, activation='relu',\n",
    "                        kernel_initializer=initializers.HeNormal()))\n",
    "model_5.add(layers.Dropout(0.2))\n",
    "\n",
    "model_5.add(layers.Dense(10))\n",
    "\n",
    "model_5.summary()\n",
    "\n",
    "model_5.compile(optimizer=tf.keras.optimizers.Adam(learning_rate=0.001),\n",
    "                loss=tf.keras.losses.CategoricalCrossentropy(from_logits=True),metrics=['accuracy'])\n",
    "\n",
    "start = time.time()\n",
    "\n",
    "#Train model\n",
    "history = model_5.fit(x_train_pca, y_train, epochs=50, batch_size=256, validation_split=0.2, verbose=1)\n",
    "\n",
    "end = time.time()\n",
    "print(\"Training time: {}s\\n\".format(end-start))\n",
    "\n",
    "plt.figure()\n",
    "plt.plot(history.history['accuracy'],label='train')\n",
    "plt.plot(history.history['val_accuracy'],label='test')\n",
    "plt.legend()\n",
    "plt.title('Accuracy on training and validation sets')\n",
    "plt.show()\n",
    "\n",
    "plt.figure()\n",
    "plt.plot(history.history['loss'],label='train')\n",
    "plt.plot(history.history['val_loss'],label='test')\n",
    "plt.legend()\n",
    "plt.title('Loss on training and validation sets')\n",
    "plt.show()\n",
    "\n",
    "score = model_5.evaluate(x_test_pca, y_test)\n",
    "print('Test accuracy:', score[1])"
   ]
  },
  {
   "cell_type": "markdown",
   "metadata": {
    "id": "HmbCGK3VrmSL"
   },
   "source": [
    "We can clearly see that compared to model 1.1 the overfitting that we have here is smaller since the rate of increase of the cost function in the validation set is much smaller compared to that in model 1.1. \n",
    "\n",
    "Regarding the test set, the accuracy we achieve here is a bit smaller but we are willing ti make this compromise since we can be pretty sure that this model can generalize better with proper hyper-parameter tuning."
   ]
  },
  {
   "cell_type": "markdown",
   "metadata": {
    "id": "givKBf-wsV2U"
   },
   "source": [
    "## **Model 6:** Early Stopping\n",
    "\n",
    "One other common technique used to deal with overfitting is that of early stopping. A reason why models with sufficient capacity overfit is because they are trained for too many epochs causing the validation error to increase over time.\n",
    "\n",
    "So, the optimal thing to do would be to train the model up to that epoch that we achieve the minimum loss function value in the validation set.\n",
    "\n",
    "In this case, we are training the model for 100 epochs instead of 50 without having to worry if they are too many because due to Early Stopping training will stop at the correct epoch. We set patience at 10 meaning that the algorithm will stop after 10 epochs have passed since we have reached a minimum value of the loss function onthe validation set."
   ]
  },
  {
   "cell_type": "code",
   "execution_count": 33,
   "metadata": {
    "colab": {
     "base_uri": "https://localhost:8080/",
     "height": 1000
    },
    "id": "V2LSATkMtq5p",
    "outputId": "f8bef08d-5bdc-452d-c748-8e49ec250f23"
   },
   "outputs": [
    {
     "name": "stdout",
     "output_type": "stream",
     "text": [
      "Model: \"sequential_18\"\n",
      "_________________________________________________________________\n",
      " Layer (type)                Output Shape              Param #   \n",
      "=================================================================\n",
      " dense_43 (Dense)            (None, 512)               45056     \n",
      "                                                                 \n",
      " dense_44 (Dense)            (None, 256)               131328    \n",
      "                                                                 \n",
      " dense_45 (Dense)            (None, 10)                2570      \n",
      "                                                                 \n",
      "=================================================================\n",
      "Total params: 178,954\n",
      "Trainable params: 178,954\n",
      "Non-trainable params: 0\n",
      "_________________________________________________________________\n",
      "Epoch 1/100\n",
      "188/188 [==============================] - 1s 5ms/step - loss: 0.3192 - accuracy: 0.9048 - val_loss: 0.1405 - val_accuracy: 0.9607\n",
      "Epoch 2/100\n",
      "188/188 [==============================] - 1s 5ms/step - loss: 0.1095 - accuracy: 0.9685 - val_loss: 0.1050 - val_accuracy: 0.9697\n",
      "Epoch 3/100\n",
      "188/188 [==============================] - 1s 5ms/step - loss: 0.0686 - accuracy: 0.9801 - val_loss: 0.0853 - val_accuracy: 0.9738\n",
      "Epoch 4/100\n",
      "188/188 [==============================] - 1s 5ms/step - loss: 0.0447 - accuracy: 0.9871 - val_loss: 0.0800 - val_accuracy: 0.9756\n",
      "Epoch 5/100\n",
      "188/188 [==============================] - 1s 5ms/step - loss: 0.0299 - accuracy: 0.9919 - val_loss: 0.0795 - val_accuracy: 0.9762\n",
      "Epoch 6/100\n",
      "188/188 [==============================] - 1s 5ms/step - loss: 0.0199 - accuracy: 0.9952 - val_loss: 0.0729 - val_accuracy: 0.9779\n",
      "Epoch 7/100\n",
      "188/188 [==============================] - 1s 5ms/step - loss: 0.0136 - accuracy: 0.9972 - val_loss: 0.0742 - val_accuracy: 0.9788\n",
      "Epoch 8/100\n",
      "188/188 [==============================] - 1s 5ms/step - loss: 0.0086 - accuracy: 0.9986 - val_loss: 0.0819 - val_accuracy: 0.9773\n",
      "Epoch 9/100\n",
      "188/188 [==============================] - 1s 5ms/step - loss: 0.0060 - accuracy: 0.9992 - val_loss: 0.0734 - val_accuracy: 0.9803\n",
      "Epoch 10/100\n",
      "188/188 [==============================] - 1s 4ms/step - loss: 0.0038 - accuracy: 0.9996 - val_loss: 0.0733 - val_accuracy: 0.9810\n",
      "Epoch 11/100\n",
      "188/188 [==============================] - 1s 5ms/step - loss: 0.0024 - accuracy: 0.9999 - val_loss: 0.0740 - val_accuracy: 0.9809\n",
      "Epoch 12/100\n",
      "188/188 [==============================] - 1s 5ms/step - loss: 0.0017 - accuracy: 1.0000 - val_loss: 0.0742 - val_accuracy: 0.9820\n",
      "Epoch 13/100\n",
      "188/188 [==============================] - 1s 4ms/step - loss: 0.0013 - accuracy: 1.0000 - val_loss: 0.0790 - val_accuracy: 0.9802\n",
      "Epoch 14/100\n",
      "188/188 [==============================] - 1s 4ms/step - loss: 0.0013 - accuracy: 0.9999 - val_loss: 0.0752 - val_accuracy: 0.9823\n",
      "Epoch 15/100\n",
      "188/188 [==============================] - 1s 4ms/step - loss: 0.0011 - accuracy: 0.9999 - val_loss: 0.0818 - val_accuracy: 0.9808\n",
      "Epoch 16/100\n",
      "188/188 [==============================] - 1s 4ms/step - loss: 7.5875e-04 - accuracy: 1.0000 - val_loss: 0.0797 - val_accuracy: 0.9821\n",
      "Epoch 00016: early stopping\n",
      "Training time: 14.643234252929688s\n",
      "\n"
     ]
    },
    {
     "data": {
      "image/png": "[encoded data removed]",
      "text/plain": [
       "<Figure size 432x288 with 1 Axes>"
      ]
     },
     "metadata": {
      "needs_background": "light"
     },
     "output_type": "display_data"
    },
    {
     "data": {
      "image/png": "[encoded data removed]",
      "text/plain": [
       "<Figure size 432x288 with 1 Axes>"
      ]
     },
     "metadata": {
      "needs_background": "light"
     },
     "output_type": "display_data"
    },
    {
     "name": "stdout",
     "output_type": "stream",
     "text": [
      "313/313 [==============================] - 1s 3ms/step - loss: 0.0697 - accuracy: 0.9821\n",
      "Test accuracy: 0.9821000099182129\n"
     ]
    }
   ],
   "source": [
    "model_6 = models.Sequential()\n",
    "\n",
    "model_6.add(layers.Dense(512, input_shape=(x_train_pca[1].shape), activation='relu',\n",
    "                        kernel_initializer=initializers.HeNormal()))\n",
    "\n",
    "model_6.add(layers.Dense(256, activation='relu',\n",
    "                        kernel_initializer=initializers.HeNormal()))\n",
    "\n",
    "model_6.add(layers.Dense(10))\n",
    "\n",
    "model_6.summary()\n",
    "\n",
    "stop_early = tf.keras.callbacks.EarlyStopping(monitor = 'val_loss',\n",
    "                                              mode = 'min',\n",
    "                                              patience = 10,\n",
    "                                              verbose=1)\n",
    "\n",
    "model_6.compile(optimizer=tf.keras.optimizers.Adam(learning_rate=0.001),\n",
    "                loss=tf.keras.losses.CategoricalCrossentropy(from_logits=True),metrics=['accuracy'])\n",
    "\n",
    "start = time.time()\n",
    "\n",
    "#Train model\n",
    "history = model_6.fit(x_train_pca, y_train, epochs=100, batch_size=256, validation_split=0.2,\n",
    "                      callbacks=[stop_early], verbose=1)\n",
    "\n",
    "end = time.time()\n",
    "print(\"Training time: {}s\\n\".format(end-start))\n",
    "\n",
    "plt.figure()\n",
    "plt.plot(history.history['accuracy'],label='train')\n",
    "plt.plot(history.history['val_accuracy'],label='test')\n",
    "plt.legend()\n",
    "plt.title('Accuracy on training and validation sets')\n",
    "plt.show()\n",
    "\n",
    "plt.figure()\n",
    "plt.plot(history.history['loss'],label='train')\n",
    "plt.plot(history.history['val_loss'],label='test')\n",
    "plt.legend()\n",
    "plt.title('Loss on training and validation sets')\n",
    "plt.show()\n",
    "\n",
    "score = model_6.evaluate(x_test_pca, y_test)\n",
    "print('Test accuracy:', score[1])"
   ]
  },
  {
   "cell_type": "markdown",
   "metadata": {
    "id": "virPn68Tt3V-"
   },
   "source": [
    "As we can see, training of the model stopped after 16 epochs. Training the model any more than that would probably cause overfitting. As for the accuracy on the test set, we can see that it is pretty close to that of model 1.1 but without overfitting and without having to train it as much.\n",
    "\n",
    "The fact that we train the model for fewer epochs has also an impact in the training time of the model which is about 3-4 times shorter compared to the previous models.\n",
    "\n",
    "Comparing all the above regularization methods, dropout seems to have done a better job and will be the one that we will use from now on."
   ]
  },
  {
   "cell_type": "markdown",
   "metadata": {
    "id": "JIMefQJ9uwQK"
   },
   "source": [
    "## **Model 7:** Batch Normalization\n",
    "\n",
    "A common problem in deep neural networks is that due to the fact that all weights are updated simultaneously there is a high degree of interdependency among parameters across layers causing the model to underperform. \n",
    "\n",
    "A way to do deal with this is to normalize the activation arguments of the neurons using the mean and variance, which is what batch normalization does."
   ]
  },
  {
   "cell_type": "code",
   "execution_count": 35,
   "metadata": {
    "colab": {
     "base_uri": "https://localhost:8080/",
     "height": 1000
    },
    "id": "BdhTav9vvs4G",
    "outputId": "cf63fc24-0875-4337-c765-9d3f675db784"
   },
   "outputs": [
    {
     "name": "stdout",
     "output_type": "stream",
     "text": [
      "Model: \"sequential_20\"\n",
      "_________________________________________________________________\n",
      " Layer (type)                Output Shape              Param #   \n",
      "=================================================================\n",
      " dense_49 (Dense)            (None, 512)               45056     \n",
      "                                                                 \n",
      " batch_normalization_5 (Batc  (None, 512)              2048      \n",
      " hNormalization)                                                 \n",
      "                                                                 \n",
      " dense_50 (Dense)            (None, 256)               131328    \n",
      "                                                                 \n",
      " batch_normalization_6 (Batc  (None, 256)              1024      \n",
      " hNormalization)                                                 \n",
      "                                                                 \n",
      " dense_51 (Dense)            (None, 10)                2570      \n",
      "                                                                 \n",
      "=================================================================\n",
      "Total params: 182,026\n",
      "Trainable params: 180,490\n",
      "Non-trainable params: 1,536\n",
      "_________________________________________________________________\n",
      "Epoch 1/50\n",
      "188/188 [==============================] - 2s 7ms/step - loss: 0.2582 - accuracy: 0.9223 - val_loss: 0.1369 - val_accuracy: 0.9624\n",
      "Epoch 2/50\n",
      "188/188 [==============================] - 1s 6ms/step - loss: 0.0831 - accuracy: 0.9765 - val_loss: 0.0933 - val_accuracy: 0.9721\n",
      "Epoch 3/50\n",
      "188/188 [==============================] - 1s 6ms/step - loss: 0.0489 - accuracy: 0.9873 - val_loss: 0.0853 - val_accuracy: 0.9740\n",
      "Epoch 4/50\n",
      "188/188 [==============================] - 1s 7ms/step - loss: 0.0297 - accuracy: 0.9925 - val_loss: 0.0826 - val_accuracy: 0.9756\n",
      "Epoch 5/50\n",
      "188/188 [==============================] - 1s 6ms/step - loss: 0.0179 - accuracy: 0.9961 - val_loss: 0.0773 - val_accuracy: 0.9772\n",
      "Epoch 6/50\n",
      "188/188 [==============================] - 1s 6ms/step - loss: 0.0106 - accuracy: 0.9982 - val_loss: 0.0753 - val_accuracy: 0.9784\n",
      "Epoch 7/50\n",
      "188/188 [==============================] - 1s 6ms/step - loss: 0.0074 - accuracy: 0.9988 - val_loss: 0.0735 - val_accuracy: 0.9797\n",
      "Epoch 8/50\n",
      "188/188 [==============================] - 1s 7ms/step - loss: 0.0045 - accuracy: 0.9996 - val_loss: 0.0752 - val_accuracy: 0.9795\n",
      "Epoch 9/50\n",
      "188/188 [==============================] - 1s 7ms/step - loss: 0.0029 - accuracy: 0.9998 - val_loss: 0.0796 - val_accuracy: 0.9793\n",
      "Epoch 10/50\n",
      "188/188 [==============================] - 1s 6ms/step - loss: 0.0021 - accuracy: 0.9998 - val_loss: 0.0786 - val_accuracy: 0.9789\n",
      "Epoch 11/50\n",
      "188/188 [==============================] - 1s 6ms/step - loss: 0.0021 - accuracy: 0.9998 - val_loss: 0.0799 - val_accuracy: 0.9794\n",
      "Epoch 12/50\n",
      "188/188 [==============================] - 1s 6ms/step - loss: 0.0065 - accuracy: 0.9984 - val_loss: 0.1026 - val_accuracy: 0.9737\n",
      "Epoch 13/50\n",
      "188/188 [==============================] - 1s 7ms/step - loss: 0.0155 - accuracy: 0.9950 - val_loss: 0.0986 - val_accuracy: 0.9759\n",
      "Epoch 14/50\n",
      "188/188 [==============================] - 1s 6ms/step - loss: 0.0138 - accuracy: 0.9954 - val_loss: 0.0954 - val_accuracy: 0.9762\n",
      "Epoch 15/50\n",
      "188/188 [==============================] - 1s 6ms/step - loss: 0.0072 - accuracy: 0.9980 - val_loss: 0.0871 - val_accuracy: 0.9793\n",
      "Epoch 16/50\n",
      "188/188 [==============================] - 1s 7ms/step - loss: 0.0026 - accuracy: 0.9996 - val_loss: 0.0820 - val_accuracy: 0.9805\n",
      "Epoch 17/50\n",
      "188/188 [==============================] - 1s 6ms/step - loss: 0.0010 - accuracy: 0.9999 - val_loss: 0.0810 - val_accuracy: 0.9812\n",
      "Epoch 18/50\n",
      "188/188 [==============================] - 1s 6ms/step - loss: 7.9432e-04 - accuracy: 0.9999 - val_loss: 0.0812 - val_accuracy: 0.9819\n",
      "Epoch 19/50\n",
      "188/188 [==============================] - 1s 6ms/step - loss: 4.3171e-04 - accuracy: 1.0000 - val_loss: 0.0798 - val_accuracy: 0.9825\n",
      "Epoch 20/50\n",
      "188/188 [==============================] - 1s 6ms/step - loss: 3.1332e-04 - accuracy: 1.0000 - val_loss: 0.0803 - val_accuracy: 0.9825\n",
      "Epoch 21/50\n",
      "188/188 [==============================] - 1s 6ms/step - loss: 5.5907e-04 - accuracy: 0.9999 - val_loss: 0.0861 - val_accuracy: 0.9818\n",
      "Epoch 22/50\n",
      "188/188 [==============================] - 1s 7ms/step - loss: 0.0021 - accuracy: 0.9993 - val_loss: 0.0951 - val_accuracy: 0.9797\n",
      "Epoch 23/50\n",
      "188/188 [==============================] - 1s 6ms/step - loss: 0.0151 - accuracy: 0.9950 - val_loss: 0.1260 - val_accuracy: 0.9728\n",
      "Epoch 24/50\n",
      "188/188 [==============================] - 1s 6ms/step - loss: 0.0144 - accuracy: 0.9953 - val_loss: 0.0963 - val_accuracy: 0.9774\n",
      "Epoch 25/50\n",
      "188/188 [==============================] - 1s 7ms/step - loss: 0.0052 - accuracy: 0.9985 - val_loss: 0.0939 - val_accuracy: 0.9783\n",
      "Epoch 26/50\n",
      "188/188 [==============================] - 1s 6ms/step - loss: 0.0018 - accuracy: 0.9997 - val_loss: 0.0870 - val_accuracy: 0.9803\n",
      "Epoch 27/50\n",
      "188/188 [==============================] - 1s 6ms/step - loss: 5.0593e-04 - accuracy: 1.0000 - val_loss: 0.0855 - val_accuracy: 0.9803\n",
      "Epoch 28/50\n",
      "188/188 [==============================] - 1s 6ms/step - loss: 3.4687e-04 - accuracy: 1.0000 - val_loss: 0.0861 - val_accuracy: 0.9813\n",
      "Epoch 29/50\n",
      "188/188 [==============================] - 1s 6ms/step - loss: 2.1385e-04 - accuracy: 1.0000 - val_loss: 0.0850 - val_accuracy: 0.9816\n",
      "Epoch 30/50\n",
      "188/188 [==============================] - 1s 6ms/step - loss: 1.8235e-04 - accuracy: 1.0000 - val_loss: 0.0854 - val_accuracy: 0.9816\n",
      "Epoch 31/50\n",
      "188/188 [==============================] - 1s 6ms/step - loss: 1.5693e-04 - accuracy: 1.0000 - val_loss: 0.0845 - val_accuracy: 0.9817\n",
      "Epoch 32/50\n",
      "188/188 [==============================] - 1s 6ms/step - loss: 1.2200e-04 - accuracy: 1.0000 - val_loss: 0.0854 - val_accuracy: 0.9815\n",
      "Epoch 33/50\n",
      "188/188 [==============================] - 1s 6ms/step - loss: 1.2206e-04 - accuracy: 1.0000 - val_loss: 0.0857 - val_accuracy: 0.9818\n",
      "Epoch 34/50\n",
      "188/188 [==============================] - 1s 6ms/step - loss: 1.6081e-04 - accuracy: 1.0000 - val_loss: 0.0846 - val_accuracy: 0.9821\n",
      "Epoch 35/50\n",
      "188/188 [==============================] - 1s 6ms/step - loss: 8.5471e-04 - accuracy: 0.9997 - val_loss: 0.1059 - val_accuracy: 0.9783\n",
      "Epoch 36/50\n",
      "188/188 [==============================] - 1s 6ms/step - loss: 0.0184 - accuracy: 0.9943 - val_loss: 0.1312 - val_accuracy: 0.9743\n",
      "Epoch 37/50\n",
      "188/188 [==============================] - 1s 6ms/step - loss: 0.0120 - accuracy: 0.9959 - val_loss: 0.0968 - val_accuracy: 0.9794\n",
      "Epoch 38/50\n",
      "188/188 [==============================] - 1s 6ms/step - loss: 0.0043 - accuracy: 0.9986 - val_loss: 0.0926 - val_accuracy: 0.9803\n",
      "Epoch 39/50\n",
      "188/188 [==============================] - 1s 7ms/step - loss: 0.0013 - accuracy: 0.9997 - val_loss: 0.0884 - val_accuracy: 0.9815\n",
      "Epoch 40/50\n",
      "188/188 [==============================] - 1s 6ms/step - loss: 4.3271e-04 - accuracy: 1.0000 - val_loss: 0.0853 - val_accuracy: 0.9821\n",
      "Epoch 41/50\n",
      "188/188 [==============================] - 1s 6ms/step - loss: 2.4875e-04 - accuracy: 1.0000 - val_loss: 0.0845 - val_accuracy: 0.9831\n",
      "Epoch 42/50\n",
      "188/188 [==============================] - 1s 6ms/step - loss: 1.7086e-04 - accuracy: 1.0000 - val_loss: 0.0844 - val_accuracy: 0.9825\n",
      "Epoch 43/50\n",
      "188/188 [==============================] - 1s 6ms/step - loss: 1.4616e-04 - accuracy: 1.0000 - val_loss: 0.0842 - val_accuracy: 0.9830\n",
      "Epoch 44/50\n",
      "188/188 [==============================] - 1s 6ms/step - loss: 1.2305e-04 - accuracy: 1.0000 - val_loss: 0.0853 - val_accuracy: 0.9833\n",
      "Epoch 45/50\n",
      "188/188 [==============================] - 1s 6ms/step - loss: 1.2786e-04 - accuracy: 1.0000 - val_loss: 0.0848 - val_accuracy: 0.9836\n",
      "Epoch 46/50\n",
      "188/188 [==============================] - 1s 6ms/step - loss: 9.4493e-05 - accuracy: 1.0000 - val_loss: 0.0848 - val_accuracy: 0.9836\n",
      "Epoch 47/50\n",
      "188/188 [==============================] - 1s 6ms/step - loss: 8.9520e-05 - accuracy: 1.0000 - val_loss: 0.0855 - val_accuracy: 0.9837\n",
      "Epoch 48/50\n",
      "188/188 [==============================] - 1s 6ms/step - loss: 7.4078e-05 - accuracy: 1.0000 - val_loss: 0.0861 - val_accuracy: 0.9837\n",
      "Epoch 49/50\n",
      "188/188 [==============================] - 1s 6ms/step - loss: 6.4806e-05 - accuracy: 1.0000 - val_loss: 0.0857 - val_accuracy: 0.9837\n",
      "Epoch 50/50\n",
      "188/188 [==============================] - 1s 6ms/step - loss: 5.8320e-05 - accuracy: 1.0000 - val_loss: 0.0858 - val_accuracy: 0.9842\n",
      "Training time: 82.79179048538208s\n",
      "\n"
     ]
    },
    {
     "data": {
      "image/png": "[encoded data removed]",
      "text/plain": [
       "<Figure size 432x288 with 1 Axes>"
      ]
     },
     "metadata": {
      "needs_background": "light"
     },
     "output_type": "display_data"
    },
    {
     "data": {
      "image/png": "[encoded data removed]",
      "text/plain": [
       "<Figure size 432x288 with 1 Axes>"
      ]
     },
     "metadata": {
      "needs_background": "light"
     },
     "output_type": "display_data"
    },
    {
     "name": "stdout",
     "output_type": "stream",
     "text": [
      "313/313 [==============================] - 1s 4ms/step - loss: 0.0726 - accuracy: 0.9855\n",
      "Test accuracy: 0.9854999780654907\n"
     ]
    }
   ],
   "source": [
    "model_7 = models.Sequential()\n",
    "\n",
    "model_7.add(layers.Dense(512, input_shape=(x_train_pca[1].shape), activation='relu',\n",
    "                        kernel_initializer=initializers.HeNormal()))\n",
    "model_7.add(layers.BatchNormalization())\n",
    "\n",
    "model_7.add(layers.Dense(256, activation='relu',\n",
    "                        kernel_initializer=initializers.HeNormal()))\n",
    "model_7.add(layers.BatchNormalization())\n",
    "\n",
    "model_7.add(layers.Dense(10))\n",
    "\n",
    "model_7.summary()\n",
    "\n",
    "model_7.compile(optimizer=tf.keras.optimizers.Adam(learning_rate=0.001),\n",
    "                loss=tf.keras.losses.CategoricalCrossentropy(from_logits=True),metrics=['accuracy'])\n",
    "\n",
    "start = time.time()\n",
    "\n",
    "#Train model\n",
    "history = model_7.fit(x_train_pca, y_train, epochs=50, batch_size=256, validation_split=0.2, verbose=1)\n",
    "\n",
    "end = time.time()\n",
    "print(\"Training time: {}s\\n\".format(end-start))\n",
    "\n",
    "plt.figure()\n",
    "plt.plot(history.history['accuracy'],label='train')\n",
    "plt.plot(history.history['val_accuracy'],label='test')\n",
    "plt.legend()\n",
    "plt.title('Accuracy on training and validation sets')\n",
    "plt.show()\n",
    "\n",
    "plt.figure()\n",
    "plt.plot(history.history['loss'],label='train')\n",
    "plt.plot(history.history['val_loss'],label='test')\n",
    "plt.legend()\n",
    "plt.title('Loss on training and validation sets')\n",
    "plt.show()\n",
    "\n",
    "score = model_7.evaluate(x_test_pca, y_test)\n",
    "print('Test accuracy:', score[1])"
   ]
  },
  {
   "cell_type": "markdown",
   "metadata": {
    "id": "nX9UC7BnwJRF"
   },
   "source": [
    "As we also mentioned in the weight initialization section, our model is not actually deep enough to see an significant difference when applying such techniques and that seems to be the case here, too. One thing we can mention, though, is that the training time becomes bigger when using batch normalization."
   ]
  },
  {
   "cell_type": "markdown",
   "metadata": {
    "id": "PVhiFSdAwpjn"
   },
   "source": [
    "# **Part 2:** Hyper-Parameter Tuning"
   ]
  },
  {
   "cell_type": "markdown",
   "metadata": {
    "id": "wZfMsAhpxYhj"
   },
   "source": [
    "An important factor and also a challenging problem in Neural Networks is selecting the optimal hyperparameters for the model. Unlike typical parameters such as weights and biases of the model that are learned using algorithms such as Back-Propagation(BK), there aren't similar algorithms to learn hyperparameters.\n",
    "\n",
    "A common way to find optimal values for the hyperparameters is by grid search and then cross-validation to the models that occur. Other techniques also include random search or using genetic algorithms.\n",
    "\n",
    "For our model, the hyperparameter that we want to define are the number of neurons in the first and second hidden layer, the learning rate of the Adam algorithm and the probability of the dropout for each layer. The optimizer that we are going to use is the Hyperband optimizer which is a variation of the Hyperband algorithm (Li, Lisha, and Kevin Jamieson 2018), which reduces significantly the time needed to find the optimal hyperparameters."
   ]
  },
  {
   "cell_type": "markdown",
   "metadata": {
    "id": "dXat05zS71pV"
   },
   "source": [
    "### **Import add-on for F1-measure**"
   ]
  },
  {
   "cell_type": "code",
   "execution_count": 1,
   "metadata": {
    "colab": {
     "base_uri": "https://localhost:8080/"
    },
    "id": "ROSQPCa_8EJZ",
    "outputId": "5b994c4b-26f5-45ff-a9d9-893e7161a9c2"
   },
   "outputs": [
    {
     "name": "stdout",
     "output_type": "stream",
     "text": [
      "Collecting tensorflow-addons\n",
      "  Downloading tensorflow_addons-0.15.0-cp37-cp37m-manylinux_2_12_x86_64.manylinux2010_x86_64.whl (1.1 MB)\n",
      "\u001b[?25l\r",
      "\u001b[K     |▎                               | 10 kB 24.0 MB/s eta 0:00:01\r",
      "\u001b[K     |▋                               | 20 kB 27.5 MB/s eta 0:00:01\r",
      "\u001b[K     |▉                               | 30 kB 23.9 MB/s eta 0:00:01\r",
      "\u001b[K     |█▏                              | 40 kB 17.6 MB/s eta 0:00:01\r",
      "\u001b[K     |█▌                              | 51 kB 8.7 MB/s eta 0:00:01\r",
      "\u001b[K     |█▊                              | 61 kB 7.9 MB/s eta 0:00:01\r",
      "\u001b[K     |██                              | 71 kB 8.6 MB/s eta 0:00:01\r",
      "\u001b[K     |██▍                             | 81 kB 9.5 MB/s eta 0:00:01\r",
      "\u001b[K     |██▋                             | 92 kB 10.1 MB/s eta 0:00:01\r",
      "\u001b[K     |███                             | 102 kB 8.1 MB/s eta 0:00:01\r",
      "\u001b[K     |███▎                            | 112 kB 8.1 MB/s eta 0:00:01\r",
      "\u001b[K     |███▌                            | 122 kB 8.1 MB/s eta 0:00:01\r",
      "\u001b[K     |███▉                            | 133 kB 8.1 MB/s eta 0:00:01\r",
      "\u001b[K     |████▏                           | 143 kB 8.1 MB/s eta 0:00:01\r",
      "\u001b[K     |████▍                           | 153 kB 8.1 MB/s eta 0:00:01\r",
      "\u001b[K     |████▊                           | 163 kB 8.1 MB/s eta 0:00:01\r",
      "\u001b[K     |█████                           | 174 kB 8.1 MB/s eta 0:00:01\r",
      "\u001b[K     |█████▎                          | 184 kB 8.1 MB/s eta 0:00:01\r",
      "\u001b[K     |█████▋                          | 194 kB 8.1 MB/s eta 0:00:01\r",
      "\u001b[K     |█████▉                          | 204 kB 8.1 MB/s eta 0:00:01\r",
      "\u001b[K     |██████▏                         | 215 kB 8.1 MB/s eta 0:00:01\r",
      "\u001b[K     |██████▌                         | 225 kB 8.1 MB/s eta 0:00:01\r",
      "\u001b[K     |██████▊                         | 235 kB 8.1 MB/s eta 0:00:01\r",
      "\u001b[K     |███████                         | 245 kB 8.1 MB/s eta 0:00:01\r",
      "\u001b[K     |███████▍                        | 256 kB 8.1 MB/s eta 0:00:01\r",
      "\u001b[K     |███████▋                        | 266 kB 8.1 MB/s eta 0:00:01\r",
      "\u001b[K     |████████                        | 276 kB 8.1 MB/s eta 0:00:01\r",
      "\u001b[K     |████████▎                       | 286 kB 8.1 MB/s eta 0:00:01\r",
      "\u001b[K     |████████▌                       | 296 kB 8.1 MB/s eta 0:00:01\r",
      "\u001b[K     |████████▉                       | 307 kB 8.1 MB/s eta 0:00:01\r",
      "\u001b[K     |█████████                       | 317 kB 8.1 MB/s eta 0:00:01\r",
      "\u001b[K     |█████████▍                      | 327 kB 8.1 MB/s eta 0:00:01\r",
      "\u001b[K     |█████████▊                      | 337 kB 8.1 MB/s eta 0:00:01\r",
      "\u001b[K     |██████████                      | 348 kB 8.1 MB/s eta 0:00:01\r",
      "\u001b[K     |██████████▎                     | 358 kB 8.1 MB/s eta 0:00:01\r",
      "\u001b[K     |██████████▋                     | 368 kB 8.1 MB/s eta 0:00:01\r",
      "\u001b[K     |██████████▉                     | 378 kB 8.1 MB/s eta 0:00:01\r",
      "\u001b[K     |███████████▏                    | 389 kB 8.1 MB/s eta 0:00:01\r",
      "\u001b[K     |███████████▌                    | 399 kB 8.1 MB/s eta 0:00:01\r",
      "\u001b[K     |███████████▊                    | 409 kB 8.1 MB/s eta 0:00:01\r",
      "\u001b[K     |████████████                    | 419 kB 8.1 MB/s eta 0:00:01\r",
      "\u001b[K     |████████████▍                   | 430 kB 8.1 MB/s eta 0:00:01\r",
      "\u001b[K     |████████████▋                   | 440 kB 8.1 MB/s eta 0:00:01\r",
      "\u001b[K     |█████████████                   | 450 kB 8.1 MB/s eta 0:00:01\r",
      "\u001b[K     |█████████████▎                  | 460 kB 8.1 MB/s eta 0:00:01\r",
      "\u001b[K     |█████████████▌                  | 471 kB 8.1 MB/s eta 0:00:01\r",
      "\u001b[K     |█████████████▉                  | 481 kB 8.1 MB/s eta 0:00:01\r",
      "\u001b[K     |██████████████                  | 491 kB 8.1 MB/s eta 0:00:01\r",
      "\u001b[K     |██████████████▍                 | 501 kB 8.1 MB/s eta 0:00:01\r",
      "\u001b[K     |██████████████▊                 | 512 kB 8.1 MB/s eta 0:00:01\r",
      "\u001b[K     |███████████████                 | 522 kB 8.1 MB/s eta 0:00:01\r",
      "\u001b[K     |███████████████▎                | 532 kB 8.1 MB/s eta 0:00:01\r",
      "\u001b[K     |███████████████▋                | 542 kB 8.1 MB/s eta 0:00:01\r",
      "\u001b[K     |███████████████▉                | 552 kB 8.1 MB/s eta 0:00:01\r",
      "\u001b[K     |████████████████▏               | 563 kB 8.1 MB/s eta 0:00:01\r",
      "\u001b[K     |████████████████▌               | 573 kB 8.1 MB/s eta 0:00:01\r",
      "\u001b[K     |████████████████▊               | 583 kB 8.1 MB/s eta 0:00:01\r",
      "\u001b[K     |█████████████████               | 593 kB 8.1 MB/s eta 0:00:01\r",
      "\u001b[K     |█████████████████▍              | 604 kB 8.1 MB/s eta 0:00:01\r",
      "\u001b[K     |█████████████████▋              | 614 kB 8.1 MB/s eta 0:00:01\r",
      "\u001b[K     |██████████████████              | 624 kB 8.1 MB/s eta 0:00:01\r",
      "\u001b[K     |██████████████████▏             | 634 kB 8.1 MB/s eta 0:00:01\r",
      "\u001b[K     |██████████████████▌             | 645 kB 8.1 MB/s eta 0:00:01\r",
      "\u001b[K     |██████████████████▉             | 655 kB 8.1 MB/s eta 0:00:01\r",
      "\u001b[K     |███████████████████             | 665 kB 8.1 MB/s eta 0:00:01\r",
      "\u001b[K     |███████████████████▍            | 675 kB 8.1 MB/s eta 0:00:01\r",
      "\u001b[K     |███████████████████▊            | 686 kB 8.1 MB/s eta 0:00:01\r",
      "\u001b[K     |████████████████████            | 696 kB 8.1 MB/s eta 0:00:01\r",
      "\u001b[K     |████████████████████▎           | 706 kB 8.1 MB/s eta 0:00:01\r",
      "\u001b[K     |████████████████████▋           | 716 kB 8.1 MB/s eta 0:00:01\r",
      "\u001b[K     |████████████████████▉           | 727 kB 8.1 MB/s eta 0:00:01\r",
      "\u001b[K     |█████████████████████▏          | 737 kB 8.1 MB/s eta 0:00:01\r",
      "\u001b[K     |█████████████████████▌          | 747 kB 8.1 MB/s eta 0:00:01\r",
      "\u001b[K     |█████████████████████▊          | 757 kB 8.1 MB/s eta 0:00:01\r",
      "\u001b[K     |██████████████████████          | 768 kB 8.1 MB/s eta 0:00:01\r",
      "\u001b[K     |██████████████████████▎         | 778 kB 8.1 MB/s eta 0:00:01\r",
      "\u001b[K     |██████████████████████▋         | 788 kB 8.1 MB/s eta 0:00:01\r",
      "\u001b[K     |███████████████████████         | 798 kB 8.1 MB/s eta 0:00:01\r",
      "\u001b[K     |███████████████████████▏        | 808 kB 8.1 MB/s eta 0:00:01\r",
      "\u001b[K     |███████████████████████▌        | 819 kB 8.1 MB/s eta 0:00:01\r",
      "\u001b[K     |███████████████████████▉        | 829 kB 8.1 MB/s eta 0:00:01\r",
      "\u001b[K     |████████████████████████        | 839 kB 8.1 MB/s eta 0:00:01\r",
      "\u001b[K     |████████████████████████▍       | 849 kB 8.1 MB/s eta 0:00:01\r",
      "\u001b[K     |████████████████████████▊       | 860 kB 8.1 MB/s eta 0:00:01\r",
      "\u001b[K     |█████████████████████████       | 870 kB 8.1 MB/s eta 0:00:01\r",
      "\u001b[K     |█████████████████████████▎      | 880 kB 8.1 MB/s eta 0:00:01\r",
      "\u001b[K     |█████████████████████████▋      | 890 kB 8.1 MB/s eta 0:00:01\r",
      "\u001b[K     |█████████████████████████▉      | 901 kB 8.1 MB/s eta 0:00:01\r",
      "\u001b[K     |██████████████████████████▏     | 911 kB 8.1 MB/s eta 0:00:01\r",
      "\u001b[K     |██████████████████████████▌     | 921 kB 8.1 MB/s eta 0:00:01\r",
      "\u001b[K     |██████████████████████████▊     | 931 kB 8.1 MB/s eta 0:00:01\r",
      "\u001b[K     |███████████████████████████     | 942 kB 8.1 MB/s eta 0:00:01\r",
      "\u001b[K     |███████████████████████████▎    | 952 kB 8.1 MB/s eta 0:00:01\r",
      "\u001b[K     |███████████████████████████▋    | 962 kB 8.1 MB/s eta 0:00:01\r",
      "\u001b[K     |████████████████████████████    | 972 kB 8.1 MB/s eta 0:00:01\r",
      "\u001b[K     |████████████████████████████▏   | 983 kB 8.1 MB/s eta 0:00:01\r",
      "\u001b[K     |████████████████████████████▌   | 993 kB 8.1 MB/s eta 0:00:01\r",
      "\u001b[K     |████████████████████████████▉   | 1.0 MB 8.1 MB/s eta 0:00:01\r",
      "\u001b[K     |█████████████████████████████   | 1.0 MB 8.1 MB/s eta 0:00:01\r",
      "\u001b[K     |█████████████████████████████▍  | 1.0 MB 8.1 MB/s eta 0:00:01\r",
      "\u001b[K     |█████████████████████████████▊  | 1.0 MB 8.1 MB/s eta 0:00:01\r",
      "\u001b[K     |██████████████████████████████  | 1.0 MB 8.1 MB/s eta 0:00:01\r",
      "\u001b[K     |██████████████████████████████▎ | 1.1 MB 8.1 MB/s eta 0:00:01\r",
      "\u001b[K     |██████████████████████████████▋ | 1.1 MB 8.1 MB/s eta 0:00:01\r",
      "\u001b[K     |██████████████████████████████▉ | 1.1 MB 8.1 MB/s eta 0:00:01\r",
      "\u001b[K     |███████████████████████████████▏| 1.1 MB 8.1 MB/s eta 0:00:01\r",
      "\u001b[K     |███████████████████████████████▍| 1.1 MB 8.1 MB/s eta 0:00:01\r",
      "\u001b[K     |███████████████████████████████▊| 1.1 MB 8.1 MB/s eta 0:00:01\r",
      "\u001b[K     |████████████████████████████████| 1.1 MB 8.1 MB/s \n",
      "\u001b[?25hRequirement already satisfied: typeguard>=2.7 in /usr/local/lib/python3.7/dist-packages (from tensorflow-addons) (2.7.1)\n",
      "Installing collected packages: tensorflow-addons\n",
      "Successfully installed tensorflow-addons-0.15.0\n"
     ]
    }
   ],
   "source": [
    "!pip install tensorflow-addons\n",
    "\n",
    "import tensorflow_addons as tfa"
   ]
  },
  {
   "cell_type": "markdown",
   "metadata": {
    "id": "zjGo6WD6A3TO"
   },
   "source": [
    "The reason we are using F1 as a metric for our model is because it is generally considered a more robust metric than precision (especially in datasets with imbalanced classes). F1 measure is the harmonic mean of recall and precision."
   ]
  },
  {
   "cell_type": "markdown",
   "metadata": {
    "id": "gfmhx03k8Usc"
   },
   "source": [
    "## **Define the hypermodel**\n",
    "\n",
    "- Number of neurons in 1st hidden layer: 256 or 512\n",
    "- Number of neurons in 2nd hidden layer: 256 or 512\n",
    "- Probability of dropout after each hidden layer: 0,1 or 0,2 or 0,3 or 0,4\n",
    "- Learning rate of Adam algorithm: 0.1 or 0.01 or 0.001"
   ]
  },
  {
   "cell_type": "code",
   "execution_count": 12,
   "metadata": {
    "id": "qUPysen_8wpd"
   },
   "outputs": [],
   "source": [
    "def model_builder(hp):\n",
    "    model = models.Sequential()\n",
    "    \n",
    "    # Probability p of dropout\n",
    "    hp_p = hp.Choice('p', values = [0.1, 0.2, 0.3,0.4])\n",
    "    \n",
    "    #Number of neurons in the 1st layer is either 256 or 512\n",
    "    hp_units_1 = hp.Choice('units_1', values = [256, 512])\n",
    "    model.add(layers.Dense(units = hp_units_1, input_shape=(x_train_pca[1].shape), activation = 'relu',\n",
    "                             kernel_initializer = initializers.HeNormal()))\n",
    "    \n",
    "    model.add(layers.Dropout(rate=hp_p))\n",
    "    \n",
    "    #Number of neurons in the 2nd layer is either 256 or 512\n",
    "    hp_units_2 = hp.Choice('units_2', values = [256, 512])\n",
    "    model.add(layers.Dense(units = hp_units_2, activation = 'relu',\n",
    "                             kernel_initializer = initializers.HeNormal()))\n",
    "    \n",
    "    model.add(layers.Dropout(rate=hp_p))\n",
    "    \n",
    "    #Output layer\n",
    "    model.add(layers.Dense(10, kernel_initializer = initializers.HeNormal()))\n",
    "    \n",
    "    #Learning rate of Adam to be learned by the hypermodel\n",
    "    hp_learning_rate = hp.Choice('learning_rate', values = [1e-1, 1e-2, 1e-3])\n",
    "    \n",
    "    #Build model\n",
    "    model.compile(optimizer=tf.keras.optimizers.Adam(learning_rate = hp_learning_rate),\n",
    "                    loss=tf.keras.losses.CategoricalCrossentropy(from_logits=True),\n",
    "                    metrics=[tfa.metrics.F1Score(10,'macro'),'accuracy'])\n",
    "    \n",
    "    return model"
   ]
  },
  {
   "cell_type": "markdown",
   "metadata": {
    "id": "xaVPGwYB9wrv"
   },
   "source": [
    "## **Find hyperparameters using Hyperband tuner**\n",
    "\n",
    "Our target is to maximize the accuracy of the model in the validation set."
   ]
  },
  {
   "cell_type": "code",
   "execution_count": 18,
   "metadata": {
    "id": "gVB2Bay89_Wi"
   },
   "outputs": [],
   "source": [
    "#Instantiate tuner\n",
    "tuner = kt.Hyperband(model_builder,\n",
    "                      objective = kt.Objective('val_accuracy', direction = 'max'),\n",
    "                      max_epochs = 100,\n",
    "                      factor = 3)"
   ]
  },
  {
   "cell_type": "markdown",
   "metadata": {
    "id": "g8PvdH14-Z_U"
   },
   "source": [
    "We will use early stopping to speed-up the procedure even more and avoid overfitting."
   ]
  },
  {
   "cell_type": "code",
   "execution_count": 19,
   "metadata": {
    "id": "pWea2MYo-Y6F"
   },
   "outputs": [],
   "source": [
    "#Early stopping\n",
    "stop_early = tf.keras.callbacks.EarlyStopping(monitor = 'val_loss',\n",
    "                                              mode = 'min',\n",
    "                                              patience = 10,\n",
    "                                              verbose=1)"
   ]
  },
  {
   "cell_type": "code",
   "execution_count": 20,
   "metadata": {
    "colab": {
     "base_uri": "https://localhost:8080/"
    },
    "id": "pwmwqLD5-kby",
    "outputId": "c45f5e99-b5b1-42c5-8415-76723777fa62"
   },
   "outputs": [
    {
     "name": "stdout",
     "output_type": "stream",
     "text": [
      "Trial 48 Complete [00h 00m 06s]\n",
      "val_accuracy: 0.9666666388511658\n",
      "\n",
      "Best val_accuracy So Far: 0.9711666703224182\n",
      "Total elapsed time: 00h 06m 31s\n",
      "INFO:tensorflow:Oracle triggered exit\n",
      "Optimal number of neurons in 1st layer: 512\n",
      "Optimal number of neurons in 2nd layer: 256\n",
      "Optimal value of p for dropout: 0.1\n",
      "Optimal value of learning rate: 0.01\n"
     ]
    }
   ],
   "source": [
    "#Search for the optimal hyperparameters\n",
    "tuner.search(x_train_pca, y_train, epochs = 100, batch_size=256, validation_split = 0.2, callbacks = [stop_early])\n",
    "\n",
    "#Get the optimal hyperparameters\n",
    "best_hps = tuner.get_best_hyperparameters(num_trials=1)[0]\n",
    "\n",
    "print(\"Optimal number of neurons in 1st layer: {}\".format(best_hps.get('units_1')))\n",
    "print(\"Optimal number of neurons in 2nd layer: {}\".format(best_hps.get('units_2')))\n",
    "print(\"Optimal value of p for dropout: {}\".format(best_hps.get('p')))\n",
    "print(\"Optimal value of learning rate: {}\".format(best_hps.get('learning_rate')))"
   ]
  },
  {
   "cell_type": "markdown",
   "metadata": {
    "id": "r3SPbKqBBswj"
   },
   "source": [
    "We can see right above the optimal hyperparameters that occured for our model. As we can see, the optimal model is not the most complex of all possible ones and has a rather small dropout rate. As for its learning rate, a rather moderate value has been chosen.\n",
    "\n",
    "Note that due to the stochastic nature of the whole procedure, it is possible that when re-running the algorithm a different optimal model may occur."
   ]
  },
  {
   "cell_type": "markdown",
   "metadata": {
    "id": "RO2JK4ye_cGs"
   },
   "source": [
    "## **Build the model with the optimal hyperparameters**\n",
    "\n",
    "We have defined the optimal hyperparameters but now we don't know for how many epochs we should train our model. A simple way to find out is to train the model for many epochs (100 here), define in which one we had the smallest value of the cost function in the validation set and then retrain the model for that number of epochs."
   ]
  },
  {
   "cell_type": "code",
   "execution_count": 21,
   "metadata": {
    "colab": {
     "base_uri": "https://localhost:8080/",
     "height": 1000
    },
    "id": "KnLmpNBo_50X",
    "outputId": "08009f48-8358-480d-cffa-8cc8d7e7d650"
   },
   "outputs": [
    {
     "name": "stdout",
     "output_type": "stream",
     "text": [
      "Epoch 1/100\n",
      "188/188 [==============================] - 3s 15ms/step - loss: 0.2625 - f1_score: 0.9220 - accuracy: 0.9228 - val_loss: 0.1205 - val_f1_score: 0.9639 - val_accuracy: 0.9643\n",
      "Epoch 2/100\n",
      "188/188 [==============================] - 3s 14ms/step - loss: 0.1162 - f1_score: 0.9646 - accuracy: 0.9649 - val_loss: 0.1152 - val_f1_score: 0.9681 - val_accuracy: 0.9684\n",
      "Epoch 3/100\n",
      "188/188 [==============================] - 3s 14ms/step - loss: 0.0940 - f1_score: 0.9710 - accuracy: 0.9713 - val_loss: 0.1210 - val_f1_score: 0.9666 - val_accuracy: 0.9668\n",
      "Epoch 4/100\n",
      "188/188 [==============================] - 3s 14ms/step - loss: 0.0925 - f1_score: 0.9738 - accuracy: 0.9740 - val_loss: 0.1209 - val_f1_score: 0.9690 - val_accuracy: 0.9693\n",
      "Epoch 5/100\n",
      "188/188 [==============================] - 3s 14ms/step - loss: 0.0824 - f1_score: 0.9764 - accuracy: 0.9766 - val_loss: 0.1121 - val_f1_score: 0.9724 - val_accuracy: 0.9726\n",
      "Epoch 6/100\n",
      "188/188 [==============================] - 3s 14ms/step - loss: 0.0738 - f1_score: 0.9788 - accuracy: 0.9789 - val_loss: 0.1219 - val_f1_score: 0.9726 - val_accuracy: 0.9727\n",
      "Epoch 7/100\n",
      "188/188 [==============================] - 3s 14ms/step - loss: 0.0746 - f1_score: 0.9790 - accuracy: 0.9792 - val_loss: 0.1426 - val_f1_score: 0.9698 - val_accuracy: 0.9701\n",
      "Epoch 8/100\n",
      "188/188 [==============================] - 3s 14ms/step - loss: 0.0791 - f1_score: 0.9792 - accuracy: 0.9794 - val_loss: 0.1898 - val_f1_score: 0.9608 - val_accuracy: 0.9612\n",
      "Epoch 9/100\n",
      "188/188 [==============================] - 3s 14ms/step - loss: 0.0721 - f1_score: 0.9810 - accuracy: 0.9811 - val_loss: 0.1514 - val_f1_score: 0.9703 - val_accuracy: 0.9707\n",
      "Epoch 10/100\n",
      "188/188 [==============================] - 3s 14ms/step - loss: 0.0705 - f1_score: 0.9811 - accuracy: 0.9812 - val_loss: 0.1823 - val_f1_score: 0.9705 - val_accuracy: 0.9708\n",
      "Epoch 11/100\n",
      "188/188 [==============================] - 3s 14ms/step - loss: 0.0819 - f1_score: 0.9799 - accuracy: 0.9801 - val_loss: 0.1706 - val_f1_score: 0.9715 - val_accuracy: 0.9718\n",
      "Epoch 12/100\n",
      "188/188 [==============================] - 3s 15ms/step - loss: 0.0770 - f1_score: 0.9819 - accuracy: 0.9821 - val_loss: 0.1742 - val_f1_score: 0.9750 - val_accuracy: 0.9753\n",
      "Epoch 13/100\n",
      "188/188 [==============================] - 3s 14ms/step - loss: 0.0728 - f1_score: 0.9827 - accuracy: 0.9828 - val_loss: 0.1638 - val_f1_score: 0.9742 - val_accuracy: 0.9744\n",
      "Epoch 14/100\n",
      "188/188 [==============================] - 3s 14ms/step - loss: 0.0714 - f1_score: 0.9837 - accuracy: 0.9839 - val_loss: 0.1696 - val_f1_score: 0.9718 - val_accuracy: 0.9721\n",
      "Epoch 15/100\n",
      "188/188 [==============================] - 3s 14ms/step - loss: 0.0695 - f1_score: 0.9835 - accuracy: 0.9836 - val_loss: 0.1516 - val_f1_score: 0.9739 - val_accuracy: 0.9741\n",
      "Epoch 16/100\n",
      "188/188 [==============================] - 3s 14ms/step - loss: 0.0570 - f1_score: 0.9863 - accuracy: 0.9864 - val_loss: 0.1830 - val_f1_score: 0.9743 - val_accuracy: 0.9745\n",
      "Epoch 17/100\n",
      "188/188 [==============================] - 3s 14ms/step - loss: 0.0564 - f1_score: 0.9863 - accuracy: 0.9864 - val_loss: 0.1811 - val_f1_score: 0.9734 - val_accuracy: 0.9737\n",
      "Epoch 18/100\n",
      "188/188 [==============================] - 3s 14ms/step - loss: 0.0793 - f1_score: 0.9831 - accuracy: 0.9833 - val_loss: 0.2169 - val_f1_score: 0.9714 - val_accuracy: 0.9717\n",
      "Epoch 19/100\n",
      "188/188 [==============================] - 3s 14ms/step - loss: 0.0607 - f1_score: 0.9861 - accuracy: 0.9862 - val_loss: 0.2101 - val_f1_score: 0.9723 - val_accuracy: 0.9726\n",
      "Epoch 20/100\n",
      "188/188 [==============================] - 3s 14ms/step - loss: 0.0723 - f1_score: 0.9850 - accuracy: 0.9851 - val_loss: 0.1908 - val_f1_score: 0.9749 - val_accuracy: 0.9752\n",
      "Epoch 21/100\n",
      "188/188 [==============================] - 3s 14ms/step - loss: 0.0588 - f1_score: 0.9871 - accuracy: 0.9872 - val_loss: 0.2221 - val_f1_score: 0.9746 - val_accuracy: 0.9748\n",
      "Epoch 22/100\n",
      "188/188 [==============================] - 3s 14ms/step - loss: 0.0653 - f1_score: 0.9870 - accuracy: 0.9871 - val_loss: 0.2141 - val_f1_score: 0.9754 - val_accuracy: 0.9756\n",
      "Epoch 23/100\n",
      "188/188 [==============================] - 3s 14ms/step - loss: 0.0707 - f1_score: 0.9863 - accuracy: 0.9864 - val_loss: 0.2166 - val_f1_score: 0.9764 - val_accuracy: 0.9766\n",
      "Epoch 24/100\n",
      "188/188 [==============================] - 3s 14ms/step - loss: 0.0643 - f1_score: 0.9874 - accuracy: 0.9875 - val_loss: 0.2363 - val_f1_score: 0.9732 - val_accuracy: 0.9734\n",
      "Epoch 25/100\n",
      "188/188 [==============================] - 3s 14ms/step - loss: 0.0719 - f1_score: 0.9865 - accuracy: 0.9866 - val_loss: 0.2319 - val_f1_score: 0.9756 - val_accuracy: 0.9758\n",
      "Epoch 26/100\n",
      "188/188 [==============================] - 3s 14ms/step - loss: 0.0693 - f1_score: 0.9864 - accuracy: 0.9866 - val_loss: 0.2303 - val_f1_score: 0.9737 - val_accuracy: 0.9739\n",
      "Epoch 27/100\n",
      "188/188 [==============================] - 3s 14ms/step - loss: 0.0612 - f1_score: 0.9880 - accuracy: 0.9881 - val_loss: 0.2126 - val_f1_score: 0.9746 - val_accuracy: 0.9747\n",
      "Epoch 28/100\n",
      "188/188 [==============================] - 3s 14ms/step - loss: 0.0612 - f1_score: 0.9886 - accuracy: 0.9887 - val_loss: 0.2034 - val_f1_score: 0.9774 - val_accuracy: 0.9776\n",
      "Epoch 29/100\n",
      "188/188 [==============================] - 3s 14ms/step - loss: 0.0554 - f1_score: 0.9900 - accuracy: 0.9901 - val_loss: 0.2382 - val_f1_score: 0.9748 - val_accuracy: 0.9751\n",
      "Epoch 30/100\n",
      "188/188 [==============================] - 3s 14ms/step - loss: 0.0453 - f1_score: 0.9905 - accuracy: 0.9906 - val_loss: 0.2179 - val_f1_score: 0.9775 - val_accuracy: 0.9776\n",
      "Epoch 31/100\n",
      "188/188 [==============================] - 3s 14ms/step - loss: 0.0527 - f1_score: 0.9897 - accuracy: 0.9897 - val_loss: 0.2882 - val_f1_score: 0.9732 - val_accuracy: 0.9735\n",
      "Epoch 32/100\n",
      "188/188 [==============================] - 3s 14ms/step - loss: 0.0645 - f1_score: 0.9887 - accuracy: 0.9889 - val_loss: 0.2185 - val_f1_score: 0.9767 - val_accuracy: 0.9770\n",
      "Epoch 33/100\n",
      "188/188 [==============================] - 3s 14ms/step - loss: 0.0507 - f1_score: 0.9904 - accuracy: 0.9905 - val_loss: 0.2376 - val_f1_score: 0.9765 - val_accuracy: 0.9768\n",
      "Epoch 34/100\n",
      "188/188 [==============================] - 3s 14ms/step - loss: 0.0533 - f1_score: 0.9903 - accuracy: 0.9904 - val_loss: 0.2667 - val_f1_score: 0.9748 - val_accuracy: 0.9750\n",
      "Epoch 35/100\n",
      "188/188 [==============================] - 3s 14ms/step - loss: 0.0613 - f1_score: 0.9893 - accuracy: 0.9893 - val_loss: 0.2999 - val_f1_score: 0.9755 - val_accuracy: 0.9757\n",
      "Epoch 36/100\n",
      "188/188 [==============================] - 3s 14ms/step - loss: 0.0648 - f1_score: 0.9892 - accuracy: 0.9893 - val_loss: 0.2865 - val_f1_score: 0.9742 - val_accuracy: 0.9744\n",
      "Epoch 37/100\n",
      "188/188 [==============================] - 3s 14ms/step - loss: 0.0616 - f1_score: 0.9896 - accuracy: 0.9897 - val_loss: 0.3174 - val_f1_score: 0.9730 - val_accuracy: 0.9732\n",
      "Epoch 38/100\n",
      "188/188 [==============================] - 3s 14ms/step - loss: 0.0593 - f1_score: 0.9899 - accuracy: 0.9900 - val_loss: 0.2914 - val_f1_score: 0.9733 - val_accuracy: 0.9734\n",
      "Epoch 39/100\n",
      "188/188 [==============================] - 3s 14ms/step - loss: 0.0610 - f1_score: 0.9888 - accuracy: 0.9890 - val_loss: 0.3053 - val_f1_score: 0.9733 - val_accuracy: 0.9736\n",
      "Epoch 40/100\n",
      "188/188 [==============================] - 3s 15ms/step - loss: 0.0506 - f1_score: 0.9908 - accuracy: 0.9909 - val_loss: 0.2980 - val_f1_score: 0.9755 - val_accuracy: 0.9757\n",
      "Epoch 41/100\n",
      "188/188 [==============================] - 3s 14ms/step - loss: 0.0566 - f1_score: 0.9909 - accuracy: 0.9910 - val_loss: 0.3343 - val_f1_score: 0.9745 - val_accuracy: 0.9747\n",
      "Epoch 42/100\n",
      "188/188 [==============================] - 3s 14ms/step - loss: 0.0535 - f1_score: 0.9913 - accuracy: 0.9914 - val_loss: 0.3612 - val_f1_score: 0.9742 - val_accuracy: 0.9744\n",
      "Epoch 43/100\n",
      "188/188 [==============================] - 3s 15ms/step - loss: 0.0730 - f1_score: 0.9896 - accuracy: 0.9897 - val_loss: 0.3173 - val_f1_score: 0.9721 - val_accuracy: 0.9723\n",
      "Epoch 44/100\n",
      "188/188 [==============================] - 3s 14ms/step - loss: 0.0641 - f1_score: 0.9895 - accuracy: 0.9896 - val_loss: 0.3363 - val_f1_score: 0.9742 - val_accuracy: 0.9744\n",
      "Epoch 45/100\n",
      "188/188 [==============================] - 3s 14ms/step - loss: 0.0574 - f1_score: 0.9908 - accuracy: 0.9909 - val_loss: 0.3409 - val_f1_score: 0.9735 - val_accuracy: 0.9737\n",
      "Epoch 46/100\n",
      "188/188 [==============================] - 3s 14ms/step - loss: 0.0561 - f1_score: 0.9903 - accuracy: 0.9904 - val_loss: 0.3420 - val_f1_score: 0.9748 - val_accuracy: 0.9749\n",
      "Epoch 47/100\n",
      "188/188 [==============================] - 3s 14ms/step - loss: 0.0590 - f1_score: 0.9902 - accuracy: 0.9902 - val_loss: 0.3275 - val_f1_score: 0.9757 - val_accuracy: 0.9759\n",
      "Epoch 48/100\n",
      "188/188 [==============================] - 3s 14ms/step - loss: 0.0558 - f1_score: 0.9907 - accuracy: 0.9908 - val_loss: 0.3727 - val_f1_score: 0.9732 - val_accuracy: 0.9734\n",
      "Epoch 49/100\n",
      "188/188 [==============================] - 3s 14ms/step - loss: 0.0714 - f1_score: 0.9889 - accuracy: 0.9890 - val_loss: 0.3328 - val_f1_score: 0.9740 - val_accuracy: 0.9743\n",
      "Epoch 50/100\n",
      "188/188 [==============================] - 3s 14ms/step - loss: 0.0719 - f1_score: 0.9894 - accuracy: 0.9895 - val_loss: 0.3420 - val_f1_score: 0.9762 - val_accuracy: 0.9764\n",
      "Epoch 51/100\n",
      "188/188 [==============================] - 3s 14ms/step - loss: 0.0584 - f1_score: 0.9911 - accuracy: 0.9912 - val_loss: 0.3242 - val_f1_score: 0.9758 - val_accuracy: 0.9759\n",
      "Epoch 52/100\n",
      "188/188 [==============================] - 3s 14ms/step - loss: 0.0524 - f1_score: 0.9911 - accuracy: 0.9912 - val_loss: 0.3657 - val_f1_score: 0.9751 - val_accuracy: 0.9752\n",
      "Epoch 53/100\n",
      "188/188 [==============================] - 3s 14ms/step - loss: 0.0518 - f1_score: 0.9910 - accuracy: 0.9911 - val_loss: 0.3512 - val_f1_score: 0.9752 - val_accuracy: 0.9753\n",
      "Epoch 54/100\n",
      "188/188 [==============================] - 3s 14ms/step - loss: 0.0450 - f1_score: 0.9916 - accuracy: 0.9917 - val_loss: 0.3357 - val_f1_score: 0.9765 - val_accuracy: 0.9767\n",
      "Epoch 55/100\n",
      "188/188 [==============================] - 3s 14ms/step - loss: 0.0580 - f1_score: 0.9912 - accuracy: 0.9913 - val_loss: 0.3841 - val_f1_score: 0.9771 - val_accuracy: 0.9772\n",
      "Epoch 56/100\n",
      "188/188 [==============================] - 3s 14ms/step - loss: 0.0544 - f1_score: 0.9921 - accuracy: 0.9923 - val_loss: 0.4298 - val_f1_score: 0.9747 - val_accuracy: 0.9747\n",
      "Epoch 57/100\n",
      "188/188 [==============================] - 3s 14ms/step - loss: 0.0523 - f1_score: 0.9913 - accuracy: 0.9914 - val_loss: 0.4598 - val_f1_score: 0.9760 - val_accuracy: 0.9762\n",
      "Epoch 58/100\n",
      "188/188 [==============================] - 3s 14ms/step - loss: 0.0574 - f1_score: 0.9911 - accuracy: 0.9912 - val_loss: 0.3714 - val_f1_score: 0.9754 - val_accuracy: 0.9756\n",
      "Epoch 59/100\n",
      "188/188 [==============================] - 3s 14ms/step - loss: 0.0621 - f1_score: 0.9899 - accuracy: 0.9900 - val_loss: 0.3717 - val_f1_score: 0.9759 - val_accuracy: 0.9760\n",
      "Epoch 60/100\n",
      "188/188 [==============================] - 3s 14ms/step - loss: 0.0540 - f1_score: 0.9910 - accuracy: 0.9911 - val_loss: 0.3875 - val_f1_score: 0.9746 - val_accuracy: 0.9747\n",
      "Epoch 61/100\n",
      "188/188 [==============================] - 3s 14ms/step - loss: 0.0711 - f1_score: 0.9904 - accuracy: 0.9904 - val_loss: 0.4615 - val_f1_score: 0.9733 - val_accuracy: 0.9734\n",
      "Epoch 62/100\n",
      "188/188 [==============================] - 3s 14ms/step - loss: 0.0759 - f1_score: 0.9886 - accuracy: 0.9888 - val_loss: 0.4698 - val_f1_score: 0.9735 - val_accuracy: 0.9737\n",
      "Epoch 63/100\n",
      "188/188 [==============================] - 3s 14ms/step - loss: 0.0767 - f1_score: 0.9899 - accuracy: 0.9900 - val_loss: 0.4325 - val_f1_score: 0.9740 - val_accuracy: 0.9743\n",
      "Epoch 64/100\n",
      "188/188 [==============================] - 3s 14ms/step - loss: 0.0582 - f1_score: 0.9908 - accuracy: 0.9909 - val_loss: 0.4169 - val_f1_score: 0.9736 - val_accuracy: 0.9737\n",
      "Epoch 65/100\n",
      "188/188 [==============================] - 3s 14ms/step - loss: 0.0609 - f1_score: 0.9905 - accuracy: 0.9905 - val_loss: 0.3621 - val_f1_score: 0.9735 - val_accuracy: 0.9737\n",
      "Epoch 66/100\n",
      "188/188 [==============================] - 3s 14ms/step - loss: 0.0471 - f1_score: 0.9910 - accuracy: 0.9911 - val_loss: 0.3760 - val_f1_score: 0.9762 - val_accuracy: 0.9763\n",
      "Epoch 67/100\n",
      "188/188 [==============================] - 3s 14ms/step - loss: 0.0488 - f1_score: 0.9922 - accuracy: 0.9923 - val_loss: 0.4021 - val_f1_score: 0.9757 - val_accuracy: 0.9758\n",
      "Epoch 68/100\n",
      "188/188 [==============================] - 3s 14ms/step - loss: 0.0457 - f1_score: 0.9928 - accuracy: 0.9929 - val_loss: 0.4093 - val_f1_score: 0.9751 - val_accuracy: 0.9751\n",
      "Epoch 69/100\n",
      "188/188 [==============================] - 3s 14ms/step - loss: 0.0472 - f1_score: 0.9922 - accuracy: 0.9923 - val_loss: 0.4268 - val_f1_score: 0.9745 - val_accuracy: 0.9746\n",
      "Epoch 70/100\n",
      "188/188 [==============================] - 3s 14ms/step - loss: 0.0476 - f1_score: 0.9922 - accuracy: 0.9923 - val_loss: 0.4408 - val_f1_score: 0.9746 - val_accuracy: 0.9746\n",
      "Epoch 71/100\n",
      "188/188 [==============================] - 3s 14ms/step - loss: 0.0499 - f1_score: 0.9917 - accuracy: 0.9918 - val_loss: 0.4200 - val_f1_score: 0.9770 - val_accuracy: 0.9772\n",
      "Epoch 72/100\n",
      "188/188 [==============================] - 3s 14ms/step - loss: 0.0563 - f1_score: 0.9914 - accuracy: 0.9914 - val_loss: 0.4203 - val_f1_score: 0.9757 - val_accuracy: 0.9758\n",
      "Epoch 73/100\n",
      "188/188 [==============================] - 3s 14ms/step - loss: 0.0479 - f1_score: 0.9920 - accuracy: 0.9920 - val_loss: 0.4427 - val_f1_score: 0.9766 - val_accuracy: 0.9768\n",
      "Epoch 74/100\n",
      "188/188 [==============================] - 3s 14ms/step - loss: 0.0555 - f1_score: 0.9916 - accuracy: 0.9916 - val_loss: 0.4549 - val_f1_score: 0.9741 - val_accuracy: 0.9741\n",
      "Epoch 75/100\n",
      "188/188 [==============================] - 3s 14ms/step - loss: 0.0552 - f1_score: 0.9909 - accuracy: 0.9909 - val_loss: 0.4738 - val_f1_score: 0.9732 - val_accuracy: 0.9735\n",
      "Epoch 76/100\n",
      "188/188 [==============================] - 3s 14ms/step - loss: 0.0673 - f1_score: 0.9901 - accuracy: 0.9902 - val_loss: 0.4376 - val_f1_score: 0.9755 - val_accuracy: 0.9757\n",
      "Epoch 77/100\n",
      "188/188 [==============================] - 3s 14ms/step - loss: 0.0669 - f1_score: 0.9897 - accuracy: 0.9898 - val_loss: 0.3750 - val_f1_score: 0.9762 - val_accuracy: 0.9762\n",
      "Epoch 78/100\n",
      "188/188 [==============================] - 3s 14ms/step - loss: 0.0590 - f1_score: 0.9901 - accuracy: 0.9902 - val_loss: 0.4375 - val_f1_score: 0.9752 - val_accuracy: 0.9753\n",
      "Epoch 79/100\n",
      "188/188 [==============================] - 3s 14ms/step - loss: 0.0582 - f1_score: 0.9906 - accuracy: 0.9907 - val_loss: 0.5010 - val_f1_score: 0.9744 - val_accuracy: 0.9745\n",
      "Epoch 80/100\n",
      "188/188 [==============================] - 3s 14ms/step - loss: 0.0724 - f1_score: 0.9901 - accuracy: 0.9902 - val_loss: 0.5203 - val_f1_score: 0.9715 - val_accuracy: 0.9716\n",
      "Epoch 81/100\n",
      "188/188 [==============================] - 3s 15ms/step - loss: 0.0678 - f1_score: 0.9905 - accuracy: 0.9905 - val_loss: 0.4393 - val_f1_score: 0.9723 - val_accuracy: 0.9723\n",
      "Epoch 82/100\n",
      "188/188 [==============================] - 3s 14ms/step - loss: 0.0645 - f1_score: 0.9897 - accuracy: 0.9897 - val_loss: 0.5235 - val_f1_score: 0.9732 - val_accuracy: 0.9733\n",
      "Epoch 83/100\n",
      "188/188 [==============================] - 3s 14ms/step - loss: 0.0604 - f1_score: 0.9908 - accuracy: 0.9909 - val_loss: 0.5273 - val_f1_score: 0.9725 - val_accuracy: 0.9725\n",
      "Epoch 84/100\n",
      "188/188 [==============================] - 3s 14ms/step - loss: 0.0761 - f1_score: 0.9909 - accuracy: 0.9909 - val_loss: 0.5268 - val_f1_score: 0.9732 - val_accuracy: 0.9732\n",
      "Epoch 85/100\n",
      "188/188 [==============================] - 3s 14ms/step - loss: 0.0504 - f1_score: 0.9918 - accuracy: 0.9918 - val_loss: 0.5607 - val_f1_score: 0.9738 - val_accuracy: 0.9738\n",
      "Epoch 86/100\n",
      "188/188 [==============================] - 3s 14ms/step - loss: 0.0828 - f1_score: 0.9905 - accuracy: 0.9905 - val_loss: 0.4972 - val_f1_score: 0.9723 - val_accuracy: 0.9723\n",
      "Epoch 87/100\n",
      "188/188 [==============================] - 3s 14ms/step - loss: 0.0786 - f1_score: 0.9895 - accuracy: 0.9896 - val_loss: 0.5281 - val_f1_score: 0.9711 - val_accuracy: 0.9711\n",
      "Epoch 88/100\n",
      "188/188 [==============================] - 3s 14ms/step - loss: 0.0781 - f1_score: 0.9887 - accuracy: 0.9888 - val_loss: 0.4737 - val_f1_score: 0.9714 - val_accuracy: 0.9713\n",
      "Epoch 89/100\n",
      "188/188 [==============================] - 3s 14ms/step - loss: 0.0619 - f1_score: 0.9897 - accuracy: 0.9898 - val_loss: 0.4622 - val_f1_score: 0.9741 - val_accuracy: 0.9742\n",
      "Epoch 90/100\n",
      "188/188 [==============================] - 3s 14ms/step - loss: 0.0529 - f1_score: 0.9916 - accuracy: 0.9917 - val_loss: 0.4723 - val_f1_score: 0.9754 - val_accuracy: 0.9756\n",
      "Epoch 91/100\n",
      "188/188 [==============================] - 3s 14ms/step - loss: 0.0529 - f1_score: 0.9920 - accuracy: 0.9921 - val_loss: 0.5100 - val_f1_score: 0.9752 - val_accuracy: 0.9753\n",
      "Epoch 92/100\n",
      "188/188 [==============================] - 3s 14ms/step - loss: 0.0565 - f1_score: 0.9911 - accuracy: 0.9912 - val_loss: 0.5532 - val_f1_score: 0.9748 - val_accuracy: 0.9749\n",
      "Epoch 93/100\n",
      "188/188 [==============================] - 3s 14ms/step - loss: 0.0475 - f1_score: 0.9913 - accuracy: 0.9914 - val_loss: 0.5490 - val_f1_score: 0.9733 - val_accuracy: 0.9734\n",
      "Epoch 94/100\n",
      "188/188 [==============================] - 3s 14ms/step - loss: 0.0462 - f1_score: 0.9917 - accuracy: 0.9917 - val_loss: 0.5644 - val_f1_score: 0.9764 - val_accuracy: 0.9765\n",
      "Epoch 95/100\n",
      "188/188 [==============================] - 3s 14ms/step - loss: 0.0506 - f1_score: 0.9918 - accuracy: 0.9919 - val_loss: 0.5116 - val_f1_score: 0.9757 - val_accuracy: 0.9758\n",
      "Epoch 96/100\n",
      "188/188 [==============================] - 3s 14ms/step - loss: 0.0537 - f1_score: 0.9913 - accuracy: 0.9914 - val_loss: 0.6488 - val_f1_score: 0.9756 - val_accuracy: 0.9758\n",
      "Epoch 97/100\n",
      "188/188 [==============================] - 3s 14ms/step - loss: 0.0791 - f1_score: 0.9904 - accuracy: 0.9904 - val_loss: 0.7474 - val_f1_score: 0.9739 - val_accuracy: 0.9740\n",
      "Epoch 98/100\n",
      "188/188 [==============================] - 3s 14ms/step - loss: 0.0796 - f1_score: 0.9899 - accuracy: 0.9900 - val_loss: 0.5780 - val_f1_score: 0.9751 - val_accuracy: 0.9753\n",
      "Epoch 99/100\n",
      "188/188 [==============================] - 3s 14ms/step - loss: 0.0643 - f1_score: 0.9912 - accuracy: 0.9912 - val_loss: 0.6620 - val_f1_score: 0.9741 - val_accuracy: 0.9743\n",
      "Epoch 100/100\n",
      "188/188 [==============================] - 3s 14ms/step - loss: 0.0737 - f1_score: 0.9904 - accuracy: 0.9905 - val_loss: 0.6911 - val_f1_score: 0.9718 - val_accuracy: 0.9718\n",
      "Training time: 322.49283170700073s\n",
      "\n"
     ]
    },
    {
     "data": {
      "image/png": "[encoded data removed]",
      "text/plain": [
       "<Figure size 432x288 with 1 Axes>"
      ]
     },
     "metadata": {
      "needs_background": "light"
     },
     "output_type": "display_data"
    },
    {
     "data": {
      "image/png": "[encoded data removed]",
      "text/plain": [
       "<Figure size 432x288 with 1 Axes>"
      ]
     },
     "metadata": {
      "needs_background": "light"
     },
     "output_type": "display_data"
    },
    {
     "name": "stdout",
     "output_type": "stream",
     "text": [
      "Optimal number of training epochs is: 28\n"
     ]
    }
   ],
   "source": [
    "#Build model\n",
    "model = tuner.hypermodel.build(best_hps)\n",
    "\n",
    "start = time.time()\n",
    "\n",
    "history = model.fit(x_train_pca, y_train, epochs = 100, batch_size=256, validation_split = 0.2)\n",
    "\n",
    "end = time.time()\n",
    "print(\"Training time: {}s\\n\".format(end-start))\n",
    "\n",
    "plt.figure()\n",
    "plt.plot(history.history['accuracy'],label='train')\n",
    "plt.plot(history.history['val_accuracy'],label='test')\n",
    "plt.legend()\n",
    "plt.title('Accuracy on training and validation sets')\n",
    "plt.show()\n",
    "\n",
    "plt.figure()\n",
    "plt.plot(history.history['loss'],label='train')\n",
    "plt.plot(history.history['val_loss'],label='test')\n",
    "plt.legend()\n",
    "plt.title('Loss on training and validation sets')\n",
    "plt.show()\n",
    "\n",
    "val_acc_per_epoch = history.history['val_accuracy']\n",
    "best_epoch = val_acc_per_epoch.index(max(val_acc_per_epoch)) + 1\n",
    "print(\"Optimal number of training epochs is: %d\" % (best_epoch,))"
   ]
  },
  {
   "cell_type": "markdown",
   "metadata": {
    "id": "mc3n9sc8AAkQ"
   },
   "source": [
    "As we can see, the highest accuracy in the validation set has been achieved in the 28th epoch so we are going to retrain the model for that number of epochs.\n",
    "\n",
    "Moreover, it is clear that there is no reason to train the model for more epochs since it is visible from the learning curves that the model is heavily overfitting."
   ]
  },
  {
   "cell_type": "markdown",
   "metadata": {
    "id": "JJC7QUJuABLJ"
   },
   "source": [
    "## **Re-initialize the model and train it with the optimal number of epochs**"
   ]
  },
  {
   "cell_type": "code",
   "execution_count": 22,
   "metadata": {
    "colab": {
     "base_uri": "https://localhost:8080/",
     "height": 1000
    },
    "id": "cHZJEyQSAHBE",
    "outputId": "324b94cb-f7a0-4e4f-bda0-a60e0c1d27cb"
   },
   "outputs": [
    {
     "name": "stdout",
     "output_type": "stream",
     "text": [
      "Epoch 1/28\n",
      "188/188 [==============================] - 3s 15ms/step - loss: 0.2850 - f1_score: 0.9186 - accuracy: 0.9196 - val_loss: 0.1352 - val_f1_score: 0.9555 - val_accuracy: 0.9563\n",
      "Epoch 2/28\n",
      "188/188 [==============================] - 3s 14ms/step - loss: 0.1154 - f1_score: 0.9642 - accuracy: 0.9645 - val_loss: 0.1098 - val_f1_score: 0.9688 - val_accuracy: 0.9689\n",
      "Epoch 3/28\n",
      "188/188 [==============================] - 3s 14ms/step - loss: 0.0903 - f1_score: 0.9724 - accuracy: 0.9726 - val_loss: 0.1179 - val_f1_score: 0.9675 - val_accuracy: 0.9677\n",
      "Epoch 4/28\n",
      "188/188 [==============================] - 3s 14ms/step - loss: 0.0924 - f1_score: 0.9725 - accuracy: 0.9728 - val_loss: 0.1142 - val_f1_score: 0.9713 - val_accuracy: 0.9716\n",
      "Epoch 5/28\n",
      "188/188 [==============================] - 3s 13ms/step - loss: 0.0811 - f1_score: 0.9754 - accuracy: 0.9756 - val_loss: 0.1374 - val_f1_score: 0.9676 - val_accuracy: 0.9678\n",
      "Epoch 6/28\n",
      "188/188 [==============================] - 3s 14ms/step - loss: 0.0844 - f1_score: 0.9762 - accuracy: 0.9764 - val_loss: 0.1310 - val_f1_score: 0.9702 - val_accuracy: 0.9706\n",
      "Epoch 7/28\n",
      "188/188 [==============================] - 3s 14ms/step - loss: 0.0805 - f1_score: 0.9774 - accuracy: 0.9777 - val_loss: 0.1238 - val_f1_score: 0.9711 - val_accuracy: 0.9715\n",
      "Epoch 8/28\n",
      "188/188 [==============================] - 3s 13ms/step - loss: 0.0780 - f1_score: 0.9791 - accuracy: 0.9793 - val_loss: 0.1405 - val_f1_score: 0.9701 - val_accuracy: 0.9705\n",
      "Epoch 9/28\n",
      "188/188 [==============================] - 3s 14ms/step - loss: 0.0669 - f1_score: 0.9820 - accuracy: 0.9821 - val_loss: 0.1397 - val_f1_score: 0.9722 - val_accuracy: 0.9724\n",
      "Epoch 10/28\n",
      "188/188 [==============================] - 3s 13ms/step - loss: 0.0669 - f1_score: 0.9820 - accuracy: 0.9822 - val_loss: 0.1688 - val_f1_score: 0.9697 - val_accuracy: 0.9699\n",
      "Epoch 11/28\n",
      "188/188 [==============================] - 3s 14ms/step - loss: 0.0733 - f1_score: 0.9813 - accuracy: 0.9815 - val_loss: 0.1442 - val_f1_score: 0.9716 - val_accuracy: 0.9718\n",
      "Epoch 12/28\n",
      "188/188 [==============================] - 3s 13ms/step - loss: 0.0779 - f1_score: 0.9814 - accuracy: 0.9815 - val_loss: 0.1757 - val_f1_score: 0.9707 - val_accuracy: 0.9710\n",
      "Epoch 13/28\n",
      "188/188 [==============================] - 3s 14ms/step - loss: 0.0757 - f1_score: 0.9820 - accuracy: 0.9821 - val_loss: 0.1527 - val_f1_score: 0.9731 - val_accuracy: 0.9733\n",
      "Epoch 14/28\n",
      "188/188 [==============================] - 3s 14ms/step - loss: 0.0782 - f1_score: 0.9816 - accuracy: 0.9817 - val_loss: 0.1686 - val_f1_score: 0.9736 - val_accuracy: 0.9737\n",
      "Epoch 15/28\n",
      "188/188 [==============================] - 3s 13ms/step - loss: 0.0601 - f1_score: 0.9860 - accuracy: 0.9862 - val_loss: 0.1697 - val_f1_score: 0.9732 - val_accuracy: 0.9734\n",
      "Epoch 16/28\n",
      "188/188 [==============================] - 3s 13ms/step - loss: 0.0532 - f1_score: 0.9870 - accuracy: 0.9871 - val_loss: 0.1906 - val_f1_score: 0.9749 - val_accuracy: 0.9752\n",
      "Epoch 17/28\n",
      "188/188 [==============================] - 2s 13ms/step - loss: 0.0759 - f1_score: 0.9835 - accuracy: 0.9836 - val_loss: 0.2102 - val_f1_score: 0.9726 - val_accuracy: 0.9728\n",
      "Epoch 18/28\n",
      "188/188 [==============================] - 3s 13ms/step - loss: 0.0676 - f1_score: 0.9849 - accuracy: 0.9850 - val_loss: 0.1912 - val_f1_score: 0.9744 - val_accuracy: 0.9746\n",
      "Epoch 19/28\n",
      "188/188 [==============================] - 3s 14ms/step - loss: 0.0620 - f1_score: 0.9865 - accuracy: 0.9866 - val_loss: 0.2152 - val_f1_score: 0.9718 - val_accuracy: 0.9721\n",
      "Epoch 20/28\n",
      "188/188 [==============================] - 3s 14ms/step - loss: 0.0651 - f1_score: 0.9854 - accuracy: 0.9855 - val_loss: 0.2019 - val_f1_score: 0.9729 - val_accuracy: 0.9732\n",
      "Epoch 21/28\n",
      "188/188 [==============================] - 3s 13ms/step - loss: 0.0504 - f1_score: 0.9883 - accuracy: 0.9884 - val_loss: 0.2332 - val_f1_score: 0.9746 - val_accuracy: 0.9748\n",
      "Epoch 22/28\n",
      "188/188 [==============================] - 3s 14ms/step - loss: 0.0593 - f1_score: 0.9875 - accuracy: 0.9876 - val_loss: 0.1972 - val_f1_score: 0.9742 - val_accuracy: 0.9744\n",
      "Epoch 23/28\n",
      "188/188 [==============================] - 3s 14ms/step - loss: 0.0581 - f1_score: 0.9872 - accuracy: 0.9873 - val_loss: 0.2177 - val_f1_score: 0.9725 - val_accuracy: 0.9728\n",
      "Epoch 24/28\n",
      "188/188 [==============================] - 3s 14ms/step - loss: 0.0572 - f1_score: 0.9883 - accuracy: 0.9884 - val_loss: 0.2086 - val_f1_score: 0.9738 - val_accuracy: 0.9740\n",
      "Epoch 25/28\n",
      "188/188 [==============================] - 3s 13ms/step - loss: 0.0615 - f1_score: 0.9877 - accuracy: 0.9878 - val_loss: 0.2412 - val_f1_score: 0.9717 - val_accuracy: 0.9719\n",
      "Epoch 26/28\n",
      "188/188 [==============================] - 3s 14ms/step - loss: 0.0742 - f1_score: 0.9869 - accuracy: 0.9870 - val_loss: 0.2225 - val_f1_score: 0.9748 - val_accuracy: 0.9750\n",
      "Epoch 27/28\n",
      "188/188 [==============================] - 3s 14ms/step - loss: 0.0615 - f1_score: 0.9876 - accuracy: 0.9877 - val_loss: 0.2110 - val_f1_score: 0.9751 - val_accuracy: 0.9753\n",
      "Epoch 28/28\n",
      "188/188 [==============================] - 3s 13ms/step - loss: 0.0542 - f1_score: 0.9887 - accuracy: 0.9888 - val_loss: 0.2562 - val_f1_score: 0.9722 - val_accuracy: 0.9724\n",
      "Training time: 82.50211787223816s\n",
      "\n"
     ]
    },
    {
     "data": {
      "image/png": "[encoded data removed]",
      "text/plain": [
       "<Figure size 432x288 with 1 Axes>"
      ]
     },
     "metadata": {
      "needs_background": "light"
     },
     "output_type": "display_data"
    },
    {
     "data": {
      "image/png": "[encoded data removed]",
      "text/plain": [
       "<Figure size 432x288 with 1 Axes>"
      ]
     },
     "metadata": {
      "needs_background": "light"
     },
     "output_type": "display_data"
    }
   ],
   "source": [
    "hypermodel = tuner.hypermodel.build(best_hps)\n",
    "\n",
    "start = time.time()\n",
    "\n",
    "hypermodel.fit(x_train_pca, y_train, epochs = best_epoch, batch_size=256, validation_split = 0.2)\n",
    "\n",
    "end = time.time()\n",
    "print(\"Training time: {}s\\n\".format(end-start))\n",
    "\n",
    "plt.figure()\n",
    "plt.plot(history.history['accuracy'],label='train')\n",
    "plt.plot(history.history['val_accuracy'],label='test')\n",
    "plt.legend()\n",
    "plt.title('Accuracy on training and validation sets')\n",
    "plt.show()\n",
    "\n",
    "plt.figure()\n",
    "plt.plot(history.history['loss'],label='train')\n",
    "plt.plot(history.history['val_loss'],label='test')\n",
    "plt.legend()\n",
    "plt.title('Loss on training and validation sets')\n",
    "plt.show()"
   ]
  },
  {
   "cell_type": "markdown",
   "metadata": {
    "id": "qDIOFoVHG5TN"
   },
   "source": [
    "As we can see from the learning curves, the model seems to still overfit. Our hope, however, is that we will achieve the maximux accuracy in the test set since the model proved to generalize better when trained for that number of epochs.\n",
    "\n",
    "Note again that due to the stochastic nature of the procedure, it is yet again possible that we might not achieve the optimal results now that we have retrained the model."
   ]
  },
  {
   "cell_type": "markdown",
   "metadata": {
    "id": "P_fXtZvFALtd"
   },
   "source": [
    "## **Predict on the test set using the optimal model**\n",
    "\n",
    "A simple way to evaluate the performance of the model is by displaying its confusion matrix from which we can then extract metrics such the accuracy, precision, recall and F1 measure."
   ]
  },
  {
   "cell_type": "code",
   "execution_count": 23,
   "metadata": {
    "colab": {
     "base_uri": "https://localhost:8080/",
     "height": 591
    },
    "id": "a2lAaSF6CbHu",
    "outputId": "bad6d1e4-e1d8-417a-fcff-7d444d633047"
   },
   "outputs": [
    {
     "name": "stdout",
     "output_type": "stream",
     "text": [
      "313/313 [==============================] - 1s 2ms/step\n",
      "              precision    recall  f1-score   support\n",
      "\n",
      "           0       0.99      0.98      0.99       980\n",
      "           1       0.99      0.99      0.99      1135\n",
      "           2       0.98      0.98      0.98      1032\n",
      "           3       0.99      0.96      0.98      1010\n",
      "           4       0.98      0.97      0.97       982\n",
      "           5       0.98      0.95      0.96       892\n",
      "           6       0.98      0.98      0.98       958\n",
      "           7       0.98      0.96      0.97      1028\n",
      "           8       0.87      0.98      0.93       974\n",
      "           9       0.98      0.95      0.97      1009\n",
      "\n",
      "    accuracy                           0.97     10000\n",
      "   macro avg       0.97      0.97      0.97     10000\n",
      "weighted avg       0.97      0.97      0.97     10000\n",
      "\n"
     ]
    },
    {
     "data": {
      "image/png": "[encoded data removed]",
      "text/plain": [
       "<Figure size 432x288 with 2 Axes>"
      ]
     },
     "metadata": {
      "needs_background": "light"
     },
     "output_type": "display_data"
    }
   ],
   "source": [
    "labels = [0,1,2,3,4,5,6,7,8,9]\n",
    "\n",
    "#Predictions\n",
    "y_pred = model.predict(x_test_pca, verbose=1)\n",
    "\n",
    "#Get the value of the predicted label\n",
    "y_pred_bool = np.argmax(y_pred, axis=1)\n",
    "\n",
    "#Create and display confusion matrix\n",
    "M = confusion_matrix(y_test_raw, y_pred_bool)\n",
    "\n",
    "disp = ConfusionMatrixDisplay(confusion_matrix=M, display_labels=labels)\n",
    "\n",
    "disp.plot(cmap=plt.cm.Blues)\n",
    "plt.show\n",
    "\n",
    "#accuracy, precision, recall and f1-score\n",
    "print(classification_report(y_test_raw, y_pred_bool))"
   ]
  },
  {
   "cell_type": "markdown",
   "metadata": {
    "id": "q7WeZ8hHCckh"
   },
   "source": [
    "By examining the confusion matrix we can see that in general our model is able to correctly classify most of the samples of the test set. Some cases with which our model seems to struggle are: 9 that is classified as 8 (23 misclassified), 5 that is classified as 8 (28 misclassified) and 3 that is classified as 8 (25 misclassified).\n",
    "\n",
    " We can see that the model struggles with some digits and tends to classify them as 8. A way to deal with this would be by using techniques such as bagging or boosting to help the model learn these cases in which it makes a mistake often better.\n",
    "\n",
    " As for the rest of the metrics shown, we can see that most of them have pretty satisfying values, but still we haven't managed to achieve a better accuracy than 0.98. \n",
    "\n",
    " Our next move is to try a different network architecture."
   ]
  },
  {
   "cell_type": "markdown",
   "metadata": {
    "id": "EgFiw0luCdCl"
   },
   "source": [
    "## **Examples of predictions**\n",
    "\n",
    "We will check if our model can predict correctly the first 3 images of the test set."
   ]
  },
  {
   "cell_type": "code",
   "execution_count": 24,
   "metadata": {
    "colab": {
     "base_uri": "https://localhost:8080/",
     "height": 813
    },
    "id": "1lTV75VPCb8a",
    "outputId": "fc828906-e30c-4fee-8fea-d81f76dd62db"
   },
   "outputs": [
    {
     "data": {
      "image/png": "[encoded data removed]",
      "text/plain": [
       "<Figure size 432x288 with 1 Axes>"
      ]
     },
     "metadata": {
      "needs_background": "light"
     },
     "output_type": "display_data"
    },
    {
     "name": "stdout",
     "output_type": "stream",
     "text": [
      "Model prediction: 7\n"
     ]
    },
    {
     "data": {
      "image/png": "[encoded data removed]",
      "text/plain": [
       "<Figure size 432x288 with 1 Axes>"
      ]
     },
     "metadata": {
      "needs_background": "light"
     },
     "output_type": "display_data"
    },
    {
     "name": "stdout",
     "output_type": "stream",
     "text": [
      "Model prediction: 2\n"
     ]
    },
    {
     "data": {
      "image/png": "[encoded data removed]",
      "text/plain": [
       "<Figure size 432x288 with 1 Axes>"
      ]
     },
     "metadata": {
      "needs_background": "light"
     },
     "output_type": "display_data"
    },
    {
     "name": "stdout",
     "output_type": "stream",
     "text": [
      "Model prediction: 1\n"
     ]
    }
   ],
   "source": [
    "n_images = 3\n",
    "test_images = x_test[:n_images]\n",
    "test_images_pca = x_test_pca[:n_images]\n",
    "predictions = model.predict(test_images_pca)\n",
    "\n",
    "for i in range(n_images):\n",
    "    plt.imshow(np.reshape(test_images[i], [28, 28]), cmap='gray')\n",
    "    plt.show()\n",
    "    print(\"Model prediction: %i\" % np.argmax(predictions[i]))"
   ]
  },
  {
   "cell_type": "markdown",
   "metadata": {
    "id": "kBfbH_eHCvFK"
   },
   "source": [
    "As we can see, the model manages to classify all 3 images correctly."
   ]
  },
  {
   "cell_type": "markdown",
   "metadata": {
    "id": "-UFUNjawxUSn"
   },
   "source": [
    "# **Part 3:** Convolutional Neural Networks (CNNs)\n",
    "\n",
    "So far, we have examined MLPs with layers that are fully connected. A different architecture is that of CNNs in which the receptive field of each neuron in the convolutional layer is limited to only a region of the input instead of the whole input. The main idea is that the first hidden layers will be able to detect more general characteristics and while we go on to the next layers these will combine so that these layers will detect more specific objects such as a dog or a car for example.\n",
    "\n",
    "Each layer applies a series of filters to small portions of the image and creates a map of features. Then using what we call a pooling layer we undersample these and repeat this process up until we have only as many features as are our classes. it is also typical that there is one more fully connected layers right before the output layer.\n",
    "\n",
    "In our case the architecture that we use is inspired by the VGGNet model. More specifically, we have 2 convolutional layers that perform 3x3 convolutions (padding used so that output shape is the same as input shape) followed by a 2x2 max pooling reducing the size of each dimension of the output by a factor of 2. This configuration of 2 convolutional layers followed by a max pooling layer is done for one more time before we add a fully connected hidden layer of 128 neurons. The output layer is a fully connected layer that consists of 10 neurons (1 for each label).\n",
    "\n",
    "In general, CNNs are considered better at classifying images than typical MLPs. It's time to find out whether our model will also outperform the models that we have used so far."
   ]
  },
  {
   "cell_type": "markdown",
   "metadata": {
    "id": "d0xrb8z0K_9Z"
   },
   "source": [
    "## **Preprocessing the dataset**"
   ]
  },
  {
   "cell_type": "code",
   "execution_count": 26,
   "metadata": {
    "id": "DnXgbmOl9Efd"
   },
   "outputs": [],
   "source": [
    "#Load data\n",
    "(x_train, y_train), (x_test, y_test) = mnist.load_data()\n",
    "\n",
    "# Reshape dataset to have a single channel\n",
    "x_train = x_train.reshape((x_train.shape[0], 28, 28, 1))\n",
    "x_test = x_test.reshape((x_test.shape[0], 28, 28, 1))\n",
    "\n",
    "#Convert to float32\n",
    "x_train, x_test = np.array(x_train, dtype=np.float32), np.array(x_test, dtype=np.float32)\n",
    "\n",
    "#Normalize to [0,1]\n",
    "x_train, x_test = x_train/255.0, x_test/255.0\n",
    "\n",
    "#One-hot encoding (to increase performance)\n",
    "y_train, y_test = np_utils.to_categorical(y_train, num_classes), np_utils.to_categorical(y_test, num_classes)"
   ]
  },
  {
   "cell_type": "markdown",
   "metadata": {
    "id": "QPWMrYeCLIxO"
   },
   "source": [
    "## **Define the model**\n",
    "\n",
    "Apart from everything else mentioned above about our architecture, we also use batch normalization before each max pooling layer and after the fully connected hidden layer and each convolutional and fully connected layer has its weights initialized using the He Normal initializer. These are because our model is a deep neural network and we want to avoid the problems mentioned in the related sections of part 1.\n",
    "\n",
    "Moreover, it is worth noticing that most of the trainable variables belong to the fully connected hidden layer. A big advantage of CNNs is that convolutional layers have only a relatably small number of weights due to parameter-sharing. This way we can have many convolutional layers without making the model a lot more complex."
   ]
  },
  {
   "cell_type": "code",
   "execution_count": 10,
   "metadata": {
    "colab": {
     "base_uri": "https://localhost:8080/"
    },
    "id": "hLazHWuKxHyh",
    "outputId": "8af9e01c-0bea-4462-cb74-eae84662572d"
   },
   "outputs": [
    {
     "name": "stdout",
     "output_type": "stream",
     "text": [
      "Model: \"sequential\"\n",
      "_________________________________________________________________\n",
      " Layer (type)                Output Shape              Param #   \n",
      "=================================================================\n",
      " conv2d (Conv2D)             (None, 28, 28, 32)        320       \n",
      "                                                                 \n",
      " conv2d_1 (Conv2D)           (None, 28, 28, 32)        9248      \n",
      "                                                                 \n",
      " batch_normalization (BatchN  (None, 28, 28, 32)       128       \n",
      " ormalization)                                                   \n",
      "                                                                 \n",
      " max_pooling2d (MaxPooling2D  (None, 14, 14, 32)       0         \n",
      " )                                                               \n",
      "                                                                 \n",
      " conv2d_2 (Conv2D)           (None, 14, 14, 64)        18496     \n",
      "                                                                 \n",
      " conv2d_3 (Conv2D)           (None, 14, 14, 64)        36928     \n",
      "                                                                 \n",
      " batch_normalization_1 (Batc  (None, 14, 14, 64)       256       \n",
      " hNormalization)                                                 \n",
      "                                                                 \n",
      " max_pooling2d_1 (MaxPooling  (None, 7, 7, 64)         0         \n",
      " 2D)                                                             \n",
      "                                                                 \n",
      " flatten (Flatten)           (None, 3136)              0         \n",
      "                                                                 \n",
      " dense (Dense)               (None, 128)               401536    \n",
      "                                                                 \n",
      " batch_normalization_2 (Batc  (None, 128)              512       \n",
      " hNormalization)                                                 \n",
      "                                                                 \n",
      " dense_1 (Dense)             (None, 10)                1290      \n",
      "                                                                 \n",
      "=================================================================\n",
      "Total params: 468,714\n",
      "Trainable params: 468,266\n",
      "Non-trainable params: 448\n",
      "_________________________________________________________________\n"
     ]
    }
   ],
   "source": [
    "cnn_model = models.Sequential()\n",
    "\n",
    "cnn_model.add(layers.Conv2D(filters=32, kernel_size=(3,3), padding=\"same\", activation='relu',input_shape=(28,28,1),\n",
    "                            kernel_initializer=initializers.HeNormal()))\n",
    "\n",
    "cnn_model.add(layers.Conv2D(filters=32, kernel_size=(3,3), padding=\"same\", activation='relu',\n",
    "                            kernel_initializer=initializers.HeNormal()))\n",
    "\n",
    "cnn_model.add(layers.BatchNormalization())\n",
    "\n",
    "cnn_model.add(layers.MaxPooling2D(pool_size=(2,2)))\n",
    "\n",
    "cnn_model.add(layers.Conv2D(filters=64, kernel_size=(3,3), padding=\"same\", activation='relu',input_shape=(28,28,1),\n",
    "                            kernel_initializer=initializers.HeNormal()))\n",
    "\n",
    "cnn_model.add(layers.Conv2D(filters=64, kernel_size=(3,3), padding=\"same\", activation='relu',\n",
    "                            kernel_initializer=initializers.HeNormal()))\n",
    "\n",
    "cnn_model.add(layers.BatchNormalization())\n",
    "\n",
    "cnn_model.add(layers.MaxPooling2D(pool_size=(2,2)))\n",
    "\n",
    "cnn_model.add(layers.Flatten())\n",
    "\n",
    "cnn_model.add(layers.Dense(128, activation='relu', kernel_initializer=initializers.HeNormal()))\n",
    "\n",
    "cnn_model.add(layers.BatchNormalization())\n",
    "\n",
    "cnn_model.add(layers.Dense(10))\n",
    "\n",
    "cnn_model.summary()"
   ]
  },
  {
   "cell_type": "markdown",
   "metadata": {
    "id": "s7oR5dYBM13v"
   },
   "source": [
    "## **Train the model**\n",
    "\n",
    "Due to their architecture, CNNs can be fastly trained by using GPUs. For the specific model, the acceleration we managed to achieve in comparison to a CPU was x50-100.\n",
    "\n",
    "For the training process, we are using the Adam algorithm here, too, with learning rate of 0.001. The training is done for 20 epochs. We can also use techniques such as early stopping or regularization here to avoid overfitting, but this was omitted for the sake of simplicity."
   ]
  },
  {
   "cell_type": "code",
   "execution_count": 27,
   "metadata": {
    "colab": {
     "base_uri": "https://localhost:8080/",
     "height": 1000
    },
    "id": "BPg7IhAlxMUS",
    "outputId": "451dc629-b3bd-4b4f-aae8-a44e59014d3f"
   },
   "outputs": [
    {
     "name": "stdout",
     "output_type": "stream",
     "text": [
      "Epoch 1/20\n",
      "188/188 [==============================] - 201s 1s/step - loss: 0.0325 - accuracy: 0.9900 - val_loss: 0.0474 - val_accuracy: 0.9850\n",
      "Epoch 2/20\n",
      "188/188 [==============================] - 200s 1s/step - loss: 0.0161 - accuracy: 0.9952 - val_loss: 0.0549 - val_accuracy: 0.9836\n",
      "Epoch 3/20\n",
      "188/188 [==============================] - 201s 1s/step - loss: 0.0087 - accuracy: 0.9979 - val_loss: 0.0363 - val_accuracy: 0.9897\n",
      "Epoch 4/20\n",
      "188/188 [==============================] - 201s 1s/step - loss: 0.0070 - accuracy: 0.9979 - val_loss: 0.0452 - val_accuracy: 0.9868\n",
      "Epoch 5/20\n",
      "188/188 [==============================] - 200s 1s/step - loss: 0.0073 - accuracy: 0.9976 - val_loss: 0.0568 - val_accuracy: 0.9835\n",
      "Epoch 6/20\n",
      "188/188 [==============================] - 200s 1s/step - loss: 0.0043 - accuracy: 0.9989 - val_loss: 0.0371 - val_accuracy: 0.9894\n",
      "Epoch 7/20\n",
      "188/188 [==============================] - 200s 1s/step - loss: 0.0016 - accuracy: 0.9998 - val_loss: 0.0280 - val_accuracy: 0.9923\n",
      "Epoch 8/20\n",
      "188/188 [==============================] - 202s 1s/step - loss: 9.1199e-04 - accuracy: 0.9998 - val_loss: 0.0273 - val_accuracy: 0.9929\n",
      "Epoch 9/20\n",
      "188/188 [==============================] - 202s 1s/step - loss: 0.0018 - accuracy: 0.9995 - val_loss: 0.0363 - val_accuracy: 0.9907\n",
      "Epoch 10/20\n",
      "188/188 [==============================] - 201s 1s/step - loss: 0.0057 - accuracy: 0.9982 - val_loss: 0.0718 - val_accuracy: 0.9825\n",
      "Epoch 11/20\n",
      "188/188 [==============================] - 201s 1s/step - loss: 0.0082 - accuracy: 0.9971 - val_loss: 0.0384 - val_accuracy: 0.9893\n",
      "Epoch 12/20\n",
      "188/188 [==============================] - 200s 1s/step - loss: 0.0029 - accuracy: 0.9992 - val_loss: 0.0308 - val_accuracy: 0.9920\n",
      "Epoch 13/20\n",
      "188/188 [==============================] - 201s 1s/step - loss: 7.9502e-04 - accuracy: 0.9999 - val_loss: 0.0261 - val_accuracy: 0.9941\n",
      "Epoch 14/20\n",
      "188/188 [==============================] - 201s 1s/step - loss: 2.3750e-04 - accuracy: 1.0000 - val_loss: 0.0260 - val_accuracy: 0.9943\n",
      "Epoch 15/20\n",
      "188/188 [==============================] - 201s 1s/step - loss: 1.1407e-04 - accuracy: 1.0000 - val_loss: 0.0255 - val_accuracy: 0.9948\n",
      "Epoch 16/20\n",
      "188/188 [==============================] - 201s 1s/step - loss: 7.9002e-05 - accuracy: 1.0000 - val_loss: 0.0252 - val_accuracy: 0.9946\n",
      "Epoch 17/20\n",
      "188/188 [==============================] - 201s 1s/step - loss: 6.4986e-05 - accuracy: 1.0000 - val_loss: 0.0253 - val_accuracy: 0.9948\n",
      "Epoch 18/20\n",
      "188/188 [==============================] - 200s 1s/step - loss: 5.3364e-05 - accuracy: 1.0000 - val_loss: 0.0256 - val_accuracy: 0.9948\n",
      "Epoch 19/20\n",
      "188/188 [==============================] - 201s 1s/step - loss: 4.8307e-05 - accuracy: 1.0000 - val_loss: 0.0255 - val_accuracy: 0.9948\n",
      "Epoch 20/20\n",
      "188/188 [==============================] - 201s 1s/step - loss: 4.0535e-05 - accuracy: 1.0000 - val_loss: 0.0256 - val_accuracy: 0.9948\n",
      "Training time: 4042.844974756241s\n",
      "\n"
     ]
    },
    {
     "data": {
      "image/png": "[encoded data removed]",
      "text/plain": [
       "<Figure size 432x288 with 1 Axes>"
      ]
     },
     "metadata": {
      "needs_background": "light"
     },
     "output_type": "display_data"
    },
    {
     "data": {
      "image/png": "[encoded data removed]",
      "text/plain": [
       "<Figure size 432x288 with 1 Axes>"
      ]
     },
     "metadata": {
      "needs_background": "light"
     },
     "output_type": "display_data"
    },
    {
     "name": "stdout",
     "output_type": "stream",
     "text": [
      "313/313 [==============================] - 11s 35ms/step - loss: 0.0203 - accuracy: 0.9943\n",
      "Test accuracy: 0.9943000078201294\n"
     ]
    }
   ],
   "source": [
    "cnn_model.compile(optimizer=tf.keras.optimizers.Adam(learning_rate=0.001),\n",
    "                loss=tf.keras.losses.CategoricalCrossentropy(from_logits=True),metrics=['accuracy'])\n",
    "\n",
    "start = time.time()\n",
    "\n",
    "#Train model\n",
    "history = cnn_model.fit(x_train, y_train, epochs=20, batch_size=256, validation_split=0.2, verbose=1)\n",
    "\n",
    "end = time.time()\n",
    "print(\"Training time: {}s\\n\".format(end-start))\n",
    "\n",
    "plt.figure()\n",
    "plt.plot(history.history['accuracy'],label='train')\n",
    "plt.plot(history.history['val_accuracy'],label='test')\n",
    "plt.legend()\n",
    "plt.title('Accuracy on training and validation sets')\n",
    "plt.show()\n",
    "\n",
    "plt.figure()\n",
    "plt.plot(history.history['loss'],label='train')\n",
    "plt.plot(history.history['val_loss'],label='test')\n",
    "plt.legend()\n",
    "plt.title('Loss on training and validation sets')\n",
    "plt.show()\n",
    "\n",
    "score = cnn_model.evaluate(x_test, y_test)\n",
    "print('Test accuracy:', score[1])"
   ]
  },
  {
   "cell_type": "markdown",
   "metadata": {
    "id": "f2n-heX_Oeg5"
   },
   "source": [
    "As we can clearly see, the model outperforms all models that we have tried up until now achieving an accuracy of 0.994. We also notice from the learning curves that the model manages to perfectly fit the training set but without overfitting and losing its ability to generalize, which is why it also performs so well in the validation and test set.\n",
    "\n",
    "**Note**: Unfortunately due to time restrictions in Google Colab, I was unable to train the CNN model using a GPU. When trained with a GPU about 3-4 minutes are needed in comparison to roughly 1-2 hours needed with a CPU."
   ]
  },
  {
   "cell_type": "markdown",
   "metadata": {
    "id": "uVGWmTHvOfk9"
   },
   "source": [
    "## **Noisy Input**\n",
    "\n",
    "A way to see if our model is able to generalize well is by adding some noise to the images in the test set and see how well it performs.\n",
    "\n",
    "In this case, we will add some white noise to the images in the test set, check the accuracy of the model and see if it can correctly classify the first 3 images of the noisy test set."
   ]
  },
  {
   "cell_type": "code",
   "execution_count": 28,
   "metadata": {
    "colab": {
     "base_uri": "https://localhost:8080/",
     "height": 656
    },
    "id": "6cVC83klXGXB",
    "outputId": "aa5ecee4-1f0e-425a-cc11-31ae0d903a61"
   },
   "outputs": [
    {
     "name": "stdout",
     "output_type": "stream",
     "text": [
      "313/313 [==============================] - 11s 34ms/step - loss: 0.4985 - accuracy: 0.8473\n",
      "Test accuracy: 0.8472999930381775\n",
      "Model prediction: 7\n",
      "Model prediction: 2\n",
      "Model prediction: 8\n"
     ]
    },
    {
     "data": {
      "image/png": "[encoded data removed]",
      "text/plain": [
       "<Figure size 432x288 with 2 Axes>"
      ]
     },
     "metadata": {
      "needs_background": "light"
     },
     "output_type": "display_data"
    },
    {
     "data": {
      "image/png": "[encoded data removed]",
      "text/plain": [
       "<Figure size 432x288 with 2 Axes>"
      ]
     },
     "metadata": {
      "needs_background": "light"
     },
     "output_type": "display_data"
    },
    {
     "data": {
      "image/png": "[encoded data removed]",
      "text/plain": [
       "<Figure size 432x288 with 2 Axes>"
      ]
     },
     "metadata": {
      "needs_background": "light"
     },
     "output_type": "display_data"
    }
   ],
   "source": [
    "mean = 0.1\n",
    "std = 0.1\n",
    "noise = np.random.normal(mean, std, x_test[0].shape) \n",
    "\n",
    "x_test_noisy = x_test + noise\n",
    "\n",
    "score = cnn_model.evaluate(x_test_noisy, y_test)\n",
    "print('Test accuracy:', score[1])\n",
    "\n",
    "n_images = 3\n",
    "test_images = x_test[:n_images]\n",
    "test_images_noisy = x_test_noisy[:n_images]\n",
    "predictions = cnn_model.predict(test_images_noisy)\n",
    "\n",
    "for i in range(n_images):\n",
    "    fig, axs = plt.subplots(1, 2)\n",
    "    axs[0].imshow(np.reshape(test_images[i], [28, 28]), cmap='gray')\n",
    "    axs[1].imshow(np.reshape(test_images_noisy[i], [28, 28]), cmap='gray')\n",
    "    print(\"Model prediction: %i\" % np.argmax(predictions[i]))"
   ]
  },
  {
   "cell_type": "markdown",
   "metadata": {
    "id": "JYIO5CxQbQVi"
   },
   "source": [
    "By adding a relatively small amount of noise in the test set, we can see that the predictive ability of the model is reduced. Adding even more noise would cause the accuracy of the model to drop even further.\n",
    "\n",
    "We have also included 3 examples of clear and noisy images to demonstrate how noise affects the model. As we can see, the model correctly classifies the first 2 images but is unable to classify the last one thinking that this noisy image of 1 is actually an 8.\n",
    "\n",
    "It is worth mentioning that while these noisy images are still pretty clear for the human eye, the network seems to struggle already."
   ]
  }
 ],
 "metadata": {
  "accelerator": "GPU",
  "colab": {
   "collapsed_sections": [],
   "name": "NN_Exercise_1",
   "provenance": [],
   "toc_visible": true
  },
  "kernelspec": {
   "display_name": "Python 3",
   "language": "python",
   "name": "python3"
  },
  "language_info": {
   "codemirror_mode": {
    "name": "ipython",
    "version": 3
   },
   "file_extension": ".py",
   "mimetype": "text/x-python",
   "name": "python",
   "nbconvert_exporter": "python",
   "pygments_lexer": "ipython3",
   "version": "3.8.8"
  }
 },
 "nbformat": 4,
 "nbformat_minor": 1
}
